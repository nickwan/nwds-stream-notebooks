{
  "nbformat": 4,
  "nbformat_minor": 0,
  "metadata": {
    "colab": {
      "provenance": [],
      "machine_shape": "hm",
      "gpuType": "A100",
      "mount_file_id": "1EVKLMLG2RaaIvDjM66BoI0KU6uTLBY43",
      "authorship_tag": "ABX9TyOu6FRWxSsR8eb1QtdEi60C",
      "include_colab_link": true
    },
    "kernelspec": {
      "name": "python3",
      "display_name": "Python 3"
    },
    "language_info": {
      "name": "python"
    },
    "accelerator": "GPU"
  },
  "cells": [
    {
      "cell_type": "markdown",
      "metadata": {
        "id": "view-in-github",
        "colab_type": "text"
      },
      "source": [
        "<a href=\"https://colab.research.google.com/github/nickwan/nwds-stream-notebooks/blob/main/arm_angle_predict.ipynb\" target=\"_parent\"><img src=\"https://colab.research.google.com/assets/colab-badge.svg\" alt=\"Open In Colab\"/></a>"
      ]
    },
    {
      "cell_type": "markdown",
      "source": [
        "# font"
      ],
      "metadata": {
        "id": "5g-z550L3IZn"
      }
    },
    {
      "cell_type": "code",
      "source": [
        "def increase_font():\n",
        "  from IPython.display import Javascript\n",
        "  display(Javascript('''\n",
        "  for (rule of document.styleSheets[0].cssRules){\n",
        "    if (rule.selectorText=='body') {\n",
        "      rule.style.fontSize = '24px'\n",
        "      break\n",
        "    }\n",
        "  }\n",
        "  '''))\n",
        "get_ipython().events.register('pre_run_cell', increase_font)"
      ],
      "metadata": {
        "id": "pG0NcSGt4FUJ"
      },
      "execution_count": null,
      "outputs": []
    },
    {
      "cell_type": "markdown",
      "source": [
        "# arm angle predict"
      ],
      "metadata": {
        "id": "6WWIHTAV4FX-"
      }
    },
    {
      "cell_type": "code",
      "source": [
        "!pip install pybaseball\n",
        "!pip install catboost"
      ],
      "metadata": {
        "colab": {
          "base_uri": "https://localhost:8080/",
          "height": 1000
        },
        "id": "SrwDr2Yn4T0o",
        "outputId": "6f1b5c9b-bb62-4a1e-9e84-aea97413d7aa"
      },
      "execution_count": null,
      "outputs": [
        {
          "output_type": "display_data",
          "data": {
            "text/plain": [
              "<IPython.core.display.Javascript object>"
            ],
            "application/javascript": [
              "\n",
              "  for (rule of document.styleSheets[0].cssRules){\n",
              "    if (rule.selectorText=='body') {\n",
              "      rule.style.fontSize = '24px'\n",
              "      break\n",
              "    }\n",
              "  }\n",
              "  "
            ]
          },
          "metadata": {}
        },
        {
          "output_type": "stream",
          "name": "stdout",
          "text": [
            "Collecting pybaseball\n",
            "  Downloading pybaseball-2.2.7-py3-none-any.whl.metadata (11 kB)\n",
            "Requirement already satisfied: numpy>=1.13.0 in /usr/local/lib/python3.11/dist-packages (from pybaseball) (1.26.4)\n",
            "Requirement already satisfied: pandas>=1.0.3 in /usr/local/lib/python3.11/dist-packages (from pybaseball) (2.2.2)\n",
            "Requirement already satisfied: beautifulsoup4>=4.4.0 in /usr/local/lib/python3.11/dist-packages (from pybaseball) (4.13.3)\n",
            "Requirement already satisfied: requests>=2.18.1 in /usr/local/lib/python3.11/dist-packages (from pybaseball) (2.32.3)\n",
            "Requirement already satisfied: lxml>=4.2.1 in /usr/local/lib/python3.11/dist-packages (from pybaseball) (5.3.1)\n",
            "Requirement already satisfied: pyarrow>=1.0.1 in /usr/local/lib/python3.11/dist-packages (from pybaseball) (17.0.0)\n",
            "Collecting pygithub>=1.51 (from pybaseball)\n",
            "  Downloading PyGithub-2.6.1-py3-none-any.whl.metadata (3.9 kB)\n",
            "Requirement already satisfied: scipy>=1.4.0 in /usr/local/lib/python3.11/dist-packages (from pybaseball) (1.13.1)\n",
            "Requirement already satisfied: matplotlib>=2.0.0 in /usr/local/lib/python3.11/dist-packages (from pybaseball) (3.10.0)\n",
            "Requirement already satisfied: tqdm>=4.50.0 in /usr/local/lib/python3.11/dist-packages (from pybaseball) (4.67.1)\n",
            "Requirement already satisfied: attrs>=20.3.0 in /usr/local/lib/python3.11/dist-packages (from pybaseball) (25.1.0)\n",
            "Requirement already satisfied: soupsieve>1.2 in /usr/local/lib/python3.11/dist-packages (from beautifulsoup4>=4.4.0->pybaseball) (2.6)\n",
            "Requirement already satisfied: typing-extensions>=4.0.0 in /usr/local/lib/python3.11/dist-packages (from beautifulsoup4>=4.4.0->pybaseball) (4.12.2)\n",
            "Requirement already satisfied: contourpy>=1.0.1 in /usr/local/lib/python3.11/dist-packages (from matplotlib>=2.0.0->pybaseball) (1.3.1)\n",
            "Requirement already satisfied: cycler>=0.10 in /usr/local/lib/python3.11/dist-packages (from matplotlib>=2.0.0->pybaseball) (0.12.1)\n",
            "Requirement already satisfied: fonttools>=4.22.0 in /usr/local/lib/python3.11/dist-packages (from matplotlib>=2.0.0->pybaseball) (4.56.0)\n",
            "Requirement already satisfied: kiwisolver>=1.3.1 in /usr/local/lib/python3.11/dist-packages (from matplotlib>=2.0.0->pybaseball) (1.4.8)\n",
            "Requirement already satisfied: packaging>=20.0 in /usr/local/lib/python3.11/dist-packages (from matplotlib>=2.0.0->pybaseball) (24.2)\n",
            "Requirement already satisfied: pillow>=8 in /usr/local/lib/python3.11/dist-packages (from matplotlib>=2.0.0->pybaseball) (11.1.0)\n",
            "Requirement already satisfied: pyparsing>=2.3.1 in /usr/local/lib/python3.11/dist-packages (from matplotlib>=2.0.0->pybaseball) (3.2.1)\n",
            "Requirement already satisfied: python-dateutil>=2.7 in /usr/local/lib/python3.11/dist-packages (from matplotlib>=2.0.0->pybaseball) (2.8.2)\n",
            "Requirement already satisfied: pytz>=2020.1 in /usr/local/lib/python3.11/dist-packages (from pandas>=1.0.3->pybaseball) (2025.1)\n",
            "Requirement already satisfied: tzdata>=2022.7 in /usr/local/lib/python3.11/dist-packages (from pandas>=1.0.3->pybaseball) (2025.1)\n",
            "Collecting pynacl>=1.4.0 (from pygithub>=1.51->pybaseball)\n",
            "  Downloading PyNaCl-1.5.0-cp36-abi3-manylinux_2_17_x86_64.manylinux2014_x86_64.manylinux_2_24_x86_64.whl.metadata (8.6 kB)\n",
            "Requirement already satisfied: pyjwt>=2.4.0 in /usr/local/lib/python3.11/dist-packages (from pyjwt[crypto]>=2.4.0->pygithub>=1.51->pybaseball) (2.10.1)\n",
            "Requirement already satisfied: urllib3>=1.26.0 in /usr/local/lib/python3.11/dist-packages (from pygithub>=1.51->pybaseball) (2.3.0)\n",
            "Requirement already satisfied: Deprecated in /usr/local/lib/python3.11/dist-packages (from pygithub>=1.51->pybaseball) (1.2.18)\n",
            "Requirement already satisfied: charset-normalizer<4,>=2 in /usr/local/lib/python3.11/dist-packages (from requests>=2.18.1->pybaseball) (3.4.1)\n",
            "Requirement already satisfied: idna<4,>=2.5 in /usr/local/lib/python3.11/dist-packages (from requests>=2.18.1->pybaseball) (3.10)\n",
            "Requirement already satisfied: certifi>=2017.4.17 in /usr/local/lib/python3.11/dist-packages (from requests>=2.18.1->pybaseball) (2025.1.31)\n",
            "Requirement already satisfied: cryptography>=3.4.0 in /usr/local/lib/python3.11/dist-packages (from pyjwt[crypto]>=2.4.0->pygithub>=1.51->pybaseball) (43.0.3)\n",
            "Requirement already satisfied: cffi>=1.4.1 in /usr/local/lib/python3.11/dist-packages (from pynacl>=1.4.0->pygithub>=1.51->pybaseball) (1.17.1)\n",
            "Requirement already satisfied: six>=1.5 in /usr/local/lib/python3.11/dist-packages (from python-dateutil>=2.7->matplotlib>=2.0.0->pybaseball) (1.17.0)\n",
            "Requirement already satisfied: wrapt<2,>=1.10 in /usr/local/lib/python3.11/dist-packages (from Deprecated->pygithub>=1.51->pybaseball) (1.17.2)\n",
            "Requirement already satisfied: pycparser in /usr/local/lib/python3.11/dist-packages (from cffi>=1.4.1->pynacl>=1.4.0->pygithub>=1.51->pybaseball) (2.22)\n",
            "Downloading pybaseball-2.2.7-py3-none-any.whl (426 kB)\n",
            "\u001b[2K   \u001b[90m━━━━━━━━━━━━━━━━━━━━━━━━━━━━━━━━━━━━━━━━\u001b[0m \u001b[32m426.1/426.1 kB\u001b[0m \u001b[31m33.4 MB/s\u001b[0m eta \u001b[36m0:00:00\u001b[0m\n",
            "\u001b[?25hDownloading PyGithub-2.6.1-py3-none-any.whl (410 kB)\n",
            "\u001b[2K   \u001b[90m━━━━━━━━━━━━━━━━━━━━━━━━━━━━━━━━━━━━━━━━\u001b[0m \u001b[32m410.5/410.5 kB\u001b[0m \u001b[31m35.9 MB/s\u001b[0m eta \u001b[36m0:00:00\u001b[0m\n",
            "\u001b[?25hDownloading PyNaCl-1.5.0-cp36-abi3-manylinux_2_17_x86_64.manylinux2014_x86_64.manylinux_2_24_x86_64.whl (856 kB)\n",
            "\u001b[2K   \u001b[90m━━━━━━━━━━━━━━━━━━━━━━━━━━━━━━━━━━━━━━━━\u001b[0m \u001b[32m856.7/856.7 kB\u001b[0m \u001b[31m60.2 MB/s\u001b[0m eta \u001b[36m0:00:00\u001b[0m\n",
            "\u001b[?25hInstalling collected packages: pynacl, pygithub, pybaseball\n",
            "Successfully installed pybaseball-2.2.7 pygithub-2.6.1 pynacl-1.5.0\n",
            "Collecting catboost\n",
            "  Downloading catboost-1.2.7-cp311-cp311-manylinux2014_x86_64.whl.metadata (1.2 kB)\n",
            "Requirement already satisfied: graphviz in /usr/local/lib/python3.11/dist-packages (from catboost) (0.20.3)\n",
            "Requirement already satisfied: matplotlib in /usr/local/lib/python3.11/dist-packages (from catboost) (3.10.0)\n",
            "Requirement already satisfied: numpy<2.0,>=1.16.0 in /usr/local/lib/python3.11/dist-packages (from catboost) (1.26.4)\n",
            "Requirement already satisfied: pandas>=0.24 in /usr/local/lib/python3.11/dist-packages (from catboost) (2.2.2)\n",
            "Requirement already satisfied: scipy in /usr/local/lib/python3.11/dist-packages (from catboost) (1.13.1)\n",
            "Requirement already satisfied: plotly in /usr/local/lib/python3.11/dist-packages (from catboost) (5.24.1)\n",
            "Requirement already satisfied: six in /usr/local/lib/python3.11/dist-packages (from catboost) (1.17.0)\n",
            "Requirement already satisfied: python-dateutil>=2.8.2 in /usr/local/lib/python3.11/dist-packages (from pandas>=0.24->catboost) (2.8.2)\n",
            "Requirement already satisfied: pytz>=2020.1 in /usr/local/lib/python3.11/dist-packages (from pandas>=0.24->catboost) (2025.1)\n",
            "Requirement already satisfied: tzdata>=2022.7 in /usr/local/lib/python3.11/dist-packages (from pandas>=0.24->catboost) (2025.1)\n",
            "Requirement already satisfied: contourpy>=1.0.1 in /usr/local/lib/python3.11/dist-packages (from matplotlib->catboost) (1.3.1)\n",
            "Requirement already satisfied: cycler>=0.10 in /usr/local/lib/python3.11/dist-packages (from matplotlib->catboost) (0.12.1)\n",
            "Requirement already satisfied: fonttools>=4.22.0 in /usr/local/lib/python3.11/dist-packages (from matplotlib->catboost) (4.56.0)\n",
            "Requirement already satisfied: kiwisolver>=1.3.1 in /usr/local/lib/python3.11/dist-packages (from matplotlib->catboost) (1.4.8)\n",
            "Requirement already satisfied: packaging>=20.0 in /usr/local/lib/python3.11/dist-packages (from matplotlib->catboost) (24.2)\n",
            "Requirement already satisfied: pillow>=8 in /usr/local/lib/python3.11/dist-packages (from matplotlib->catboost) (11.1.0)\n",
            "Requirement already satisfied: pyparsing>=2.3.1 in /usr/local/lib/python3.11/dist-packages (from matplotlib->catboost) (3.2.1)\n",
            "Requirement already satisfied: tenacity>=6.2.0 in /usr/local/lib/python3.11/dist-packages (from plotly->catboost) (9.0.0)\n",
            "Downloading catboost-1.2.7-cp311-cp311-manylinux2014_x86_64.whl (98.7 MB)\n",
            "\u001b[2K   \u001b[90m━━━━━━━━━━━━━━━━━━━━━━━━━━━━━━━━━━━━━━━━\u001b[0m \u001b[32m98.7/98.7 MB\u001b[0m \u001b[31m24.2 MB/s\u001b[0m eta \u001b[36m0:00:00\u001b[0m\n",
            "\u001b[?25hInstalling collected packages: catboost\n",
            "Successfully installed catboost-1.2.7\n"
          ]
        }
      ]
    },
    {
      "cell_type": "code",
      "source": [
        "import os\n",
        "import numpy as np\n",
        "import pandas as pd\n",
        "import seaborn as sns\n",
        "import matplotlib.pyplot as plt\n",
        "import pybaseball as bb\n",
        "import catboost as cb\n",
        "from sklearn.model_selection import KFold, GroupKFold\n",
        "from sklearn.metrics import mean_squared_error, log_loss\n",
        "import random\n",
        "\n",
        "project_dir = 'drive/My Drive/arm-angle-predict'"
      ],
      "metadata": {
        "id": "loTnEbt74Fb9",
        "colab": {
          "base_uri": "https://localhost:8080/",
          "height": 17
        },
        "outputId": "c70be358-ca7c-440d-de4c-d6da4b9066b1"
      },
      "execution_count": null,
      "outputs": [
        {
          "output_type": "display_data",
          "data": {
            "text/plain": [
              "<IPython.core.display.Javascript object>"
            ],
            "application/javascript": [
              "\n",
              "  for (rule of document.styleSheets[0].cssRules){\n",
              "    if (rule.selectorText=='body') {\n",
              "      rule.style.fontSize = '24px'\n",
              "      break\n",
              "    }\n",
              "  }\n",
              "  "
            ]
          },
          "metadata": {}
        }
      ]
    },
    {
      "cell_type": "code",
      "source": [
        "year = 2024\n",
        "if os.path.isfile(f\"{project_dir}/{year}-data.csv\"):\n",
        "  df = pd.read_csv(f\"{project_dir}/{year}-data.csv\")\n",
        "else:\n",
        "  df = bb.statcast(start_dt=f\"{year}-03-01\", end_dt=f\"{year}-12-01\")\n",
        "  df['attack_zone'] = 'waste'\n",
        "  df.loc[(df['plate_x'].between(-0.558, 0.558)) & (df['plate_z'].between(1.833,3.166)), 'attack_zone'] = 'heart'\n",
        "  df.loc[(df['plate_x'].between(-1.108, 1.108)) & (df['plate_z'].between(1.166,3.833)) & (~df['attack_zone'].isin(['heart'])), 'attack_zone'] = 'shadow'\n",
        "  df.loc[(df['plate_x'].between(-1.666, 1.666)) & (df['plate_z'].between(0.5,4.5)) & (~df['attack_zone'].isin(['heart', 'shadow'])), 'attack_zone'] = 'chase'\n",
        "  df['swing'] = 0\n",
        "  df.loc[df['description'].isin(['foul', 'swinging_strike','hit_into_play', 'foul_tip','swinging_strike_blocked']), 'swing'] = 1\n",
        "\n",
        "  df = df.rename(columns={'player_name':'pitcher_name'})\n",
        "  batter_bio = bb.playerid_reverse_lookup(df['batter'].unique().tolist())\n",
        "  batter_bio['batter_name'] = batter_bio['name_last'].add(', ').add(batter_bio['name_first'])\n",
        "  df = df.merge(batter_bio.loc[:, ['key_mlbam','batter_name']].rename(columns={'key_mlbam':'batter'}), how='left')\n",
        "  df = df.rename(columns={'player_name':'pitcher_name'})\n",
        "  df.to_csv(f\"{project_dir}/{year}-data.csv\", index=False)"
      ],
      "metadata": {
        "id": "cpQgQ7Ii4kCw",
        "colab": {
          "base_uri": "https://localhost:8080/",
          "height": 17
        },
        "outputId": "b046b9a4-8880-4784-de98-2eb1f160103e"
      },
      "execution_count": null,
      "outputs": [
        {
          "output_type": "display_data",
          "data": {
            "text/plain": [
              "<IPython.core.display.Javascript object>"
            ],
            "application/javascript": [
              "\n",
              "  for (rule of document.styleSheets[0].cssRules){\n",
              "    if (rule.selectorText=='body') {\n",
              "      rule.style.fontSize = '24px'\n",
              "      break\n",
              "    }\n",
              "  }\n",
              "  "
            ]
          },
          "metadata": {}
        }
      ]
    },
    {
      "cell_type": "code",
      "source": [
        "df['description'].unique()"
      ],
      "metadata": {
        "colab": {
          "base_uri": "https://localhost:8080/",
          "height": 140
        },
        "id": "8kB_chuAiGvC",
        "outputId": "da69a99a-84c4-4d8d-b1c1-b6e5751fe805"
      },
      "execution_count": null,
      "outputs": [
        {
          "output_type": "display_data",
          "data": {
            "text/plain": [
              "<IPython.core.display.Javascript object>"
            ],
            "application/javascript": [
              "\n",
              "  for (rule of document.styleSheets[0].cssRules){\n",
              "    if (rule.selectorText=='body') {\n",
              "      rule.style.fontSize = '24px'\n",
              "      break\n",
              "    }\n",
              "  }\n",
              "  "
            ]
          },
          "metadata": {}
        },
        {
          "output_type": "execute_result",
          "data": {
            "text/plain": [
              "array(['swinging_strike_blocked', 'swinging_strike', 'ball', 'foul',\n",
              "       'called_strike', 'hit_into_play', 'blocked_ball', 'foul_tip',\n",
              "       'foul_bunt', 'hit_by_pitch', 'missed_bunt', 'bunt_foul_tip',\n",
              "       'pitchout'], dtype=object)"
            ]
          },
          "metadata": {},
          "execution_count": 19
        }
      ]
    },
    {
      "cell_type": "code",
      "source": [
        "df.dropna(subset=['plate_x', 'plate_z']).shape"
      ],
      "metadata": {
        "colab": {
          "base_uri": "https://localhost:8080/",
          "height": 48
        },
        "id": "NTOkPLKkiov0",
        "outputId": "6096fd11-87f4-4316-afe8-926e3b59c758"
      },
      "execution_count": null,
      "outputs": [
        {
          "output_type": "display_data",
          "data": {
            "text/plain": [
              "<IPython.core.display.Javascript object>"
            ],
            "application/javascript": [
              "\n",
              "  for (rule of document.styleSheets[0].cssRules){\n",
              "    if (rule.selectorText=='body') {\n",
              "      rule.style.fontSize = '24px'\n",
              "      break\n",
              "    }\n",
              "  }\n",
              "  "
            ]
          },
          "metadata": {}
        },
        {
          "output_type": "execute_result",
          "data": {
            "text/plain": [
              "(742825, 118)"
            ]
          },
          "metadata": {},
          "execution_count": 21
        }
      ]
    },
    {
      "cell_type": "code",
      "source": [
        "df['events'].unique()"
      ],
      "metadata": {
        "colab": {
          "base_uri": "https://localhost:8080/",
          "height": 232
        },
        "id": "ZNr6_-etiK22",
        "outputId": "211c7865-a875-44e8-e679-f14af0394422"
      },
      "execution_count": null,
      "outputs": [
        {
          "output_type": "display_data",
          "data": {
            "text/plain": [
              "<IPython.core.display.Javascript object>"
            ],
            "application/javascript": [
              "\n",
              "  for (rule of document.styleSheets[0].cssRules){\n",
              "    if (rule.selectorText=='body') {\n",
              "      rule.style.fontSize = '24px'\n",
              "      break\n",
              "    }\n",
              "  }\n",
              "  "
            ]
          },
          "metadata": {}
        },
        {
          "output_type": "execute_result",
          "data": {
            "text/plain": [
              "array(['strikeout', nan, 'field_out', 'walk', 'single', 'double',\n",
              "       'sac_fly', 'catcher_interf', 'force_out', 'hit_by_pitch',\n",
              "       'fielders_choice', 'field_error', 'home_run',\n",
              "       'grounded_into_double_play', 'double_play',\n",
              "       'strikeout_double_play', 'fielders_choice_out', 'truncated_pa',\n",
              "       'sac_bunt', 'triple', 'triple_play', 'sac_fly_double_play'],\n",
              "      dtype=object)"
            ]
          },
          "metadata": {},
          "execution_count": 20
        }
      ]
    },
    {
      "cell_type": "code",
      "source": [
        "df.columns.values"
      ],
      "metadata": {
        "colab": {
          "base_uri": "https://localhost:8080/",
          "height": 1000
        },
        "id": "J4CWs6u9iBWP",
        "outputId": "1d6c8584-f1f5-4bef-c2e8-611d4823e55f"
      },
      "execution_count": null,
      "outputs": [
        {
          "output_type": "display_data",
          "data": {
            "text/plain": [
              "<IPython.core.display.Javascript object>"
            ],
            "application/javascript": [
              "\n",
              "  for (rule of document.styleSheets[0].cssRules){\n",
              "    if (rule.selectorText=='body') {\n",
              "      rule.style.fontSize = '24px'\n",
              "      break\n",
              "    }\n",
              "  }\n",
              "  "
            ]
          },
          "metadata": {}
        },
        {
          "output_type": "execute_result",
          "data": {
            "text/plain": [
              "array(['pitch_type', 'game_date', 'release_speed', 'release_pos_x',\n",
              "       'release_pos_z', 'pitcher_name', 'batter', 'pitcher', 'events',\n",
              "       'description', 'spin_dir', 'spin_rate_deprecated',\n",
              "       'break_angle_deprecated', 'break_length_deprecated', 'zone', 'des',\n",
              "       'game_type', 'stand', 'p_throws', 'home_team', 'away_team', 'type',\n",
              "       'hit_location', 'bb_type', 'balls', 'strikes', 'game_year',\n",
              "       'pfx_x', 'pfx_z', 'plate_x', 'plate_z', 'on_3b', 'on_2b', 'on_1b',\n",
              "       'outs_when_up', 'inning', 'inning_topbot', 'hc_x', 'hc_y',\n",
              "       'tfs_deprecated', 'tfs_zulu_deprecated', 'umpire', 'sv_id', 'vx0',\n",
              "       'vy0', 'vz0', 'ax', 'ay', 'az', 'sz_top', 'sz_bot',\n",
              "       'hit_distance_sc', 'launch_speed', 'launch_angle',\n",
              "       'effective_speed', 'release_spin_rate', 'release_extension',\n",
              "       'game_pk', 'fielder_2', 'fielder_3', 'fielder_4', 'fielder_5',\n",
              "       'fielder_6', 'fielder_7', 'fielder_8', 'fielder_9',\n",
              "       'release_pos_y', 'estimated_ba_using_speedangle',\n",
              "       'estimated_woba_using_speedangle', 'woba_value', 'woba_denom',\n",
              "       'babip_value', 'iso_value', 'launch_speed_angle', 'at_bat_number',\n",
              "       'pitch_number', 'pitch_name', 'home_score', 'away_score',\n",
              "       'bat_score', 'fld_score', 'post_away_score', 'post_home_score',\n",
              "       'post_bat_score', 'post_fld_score', 'if_fielding_alignment',\n",
              "       'of_fielding_alignment', 'spin_axis', 'delta_home_win_exp',\n",
              "       'delta_run_exp', 'bat_speed', 'swing_length',\n",
              "       'estimated_slg_using_speedangle', 'delta_pitcher_run_exp',\n",
              "       'hyper_speed', 'home_score_diff', 'bat_score_diff', 'home_win_exp',\n",
              "       'bat_win_exp', 'age_pit_legacy', 'age_bat_legacy', 'age_pit',\n",
              "       'age_bat', 'n_thruorder_pitcher',\n",
              "       'n_priorpa_thisgame_player_at_bat', 'pitcher_days_since_prev_game',\n",
              "       'batter_days_since_prev_game', 'pitcher_days_until_next_game',\n",
              "       'batter_days_until_next_game', 'api_break_z_with_gravity',\n",
              "       'api_break_x_arm', 'api_break_x_batter_in', 'arm_angle',\n",
              "       'attack_zone', 'swing', 'batter_name', 'is_strike', 'k'],\n",
              "      dtype=object)"
            ]
          },
          "metadata": {},
          "execution_count": 18
        }
      ]
    },
    {
      "cell_type": "code",
      "source": [
        "strikes = [\n",
        "    'swinging_strike_blocked', 'swinging_strike', 'foul',\n",
        "    'called_strike', 'foul_tip', 'foul_bunt',\n",
        "    'missed_bunt', 'bunt_foul_tip'\n",
        "]\n",
        "df['is_strike'] = 0\n",
        "df.loc[df['description'].isin(strikes), 'is_strike'] = 1\n",
        "\n",
        "df['k'] = 0\n",
        "df.loc[df['events'].isin(['strikeout', 'strikeout_double_play']), 'k'] = 1\n",
        "for col in ['on_1b', 'on_2b', 'on_3b']:\n",
        "  df[col] = df[col].fillna(0).astype(bool)\n",
        "\n",
        "comp_cols = [\n",
        "    'pitch_type','pitch_name','on_3b','on_2b','on_1b',\n",
        "    'inning','inning_topbot','outs_when_up','balls',\n",
        "    'strikes','n_thruorder_pitcher','stand','p_throws',\n",
        "    'sz_top','sz_bot','pfx_x','pfx_z','arm_angle',\n",
        "    'release_speed','release_pos_x','release_extension',\n",
        "    'release_pos_z','release_spin_rate','spin_axis',\n",
        "    'bat_speed','swing_length','is_strike','k'\n",
        "]\n",
        "main_data = df.loc[:, comp_cols].copy()\n",
        "main_data['spin_axis_adj'] = main_data['spin_axis'].sub(180)\n",
        "main_data.loc[main_data['p_throws']=='L','spin_axis_adj'] = main_data.loc[main_data['p_throws']=='L','spin_axis_adj'].mul(-1)\n",
        "main_data['spin_axis_adj'] = main_data['spin_axis_adj'].add(180)"
      ],
      "metadata": {
        "id": "e6Pldj_dAgnh",
        "colab": {
          "base_uri": "https://localhost:8080/",
          "height": 17
        },
        "outputId": "b1c8e138-711b-4031-bb94-9f937d711b23"
      },
      "execution_count": null,
      "outputs": [
        {
          "output_type": "display_data",
          "data": {
            "text/plain": [
              "<IPython.core.display.Javascript object>"
            ],
            "application/javascript": [
              "\n",
              "  for (rule of document.styleSheets[0].cssRules){\n",
              "    if (rule.selectorText=='body') {\n",
              "      rule.style.fontSize = '24px'\n",
              "      break\n",
              "    }\n",
              "  }\n",
              "  "
            ]
          },
          "metadata": {}
        }
      ]
    },
    {
      "cell_type": "code",
      "source": [
        "_df = main_data.copy()\n",
        "for col in ['bat_speed','swing_length']:\n",
        "  _df[col] = _df[col].fillna(-1)"
      ],
      "metadata": {
        "colab": {
          "base_uri": "https://localhost:8080/",
          "height": 17
        },
        "id": "xOsp322FYO9_",
        "outputId": "3011b5bc-d847-4924-9d65-daff3a716bab"
      },
      "execution_count": null,
      "outputs": [
        {
          "output_type": "display_data",
          "data": {
            "text/plain": [
              "<IPython.core.display.Javascript object>"
            ],
            "application/javascript": [
              "\n",
              "  for (rule of document.styleSheets[0].cssRules){\n",
              "    if (rule.selectorText=='body') {\n",
              "      rule.style.fontSize = '24px'\n",
              "      break\n",
              "    }\n",
              "  }\n",
              "  "
            ]
          },
          "metadata": {}
        }
      ]
    },
    {
      "cell_type": "code",
      "source": [
        "feats = [\n",
        "    'on_3b','on_2b','on_1b',\n",
        "    'inning','outs_when_up','balls',\n",
        "    'strikes','n_thruorder_pitcher',\n",
        "    'sz_top','sz_bot','pfx_x','pfx_z','arm_angle',\n",
        "    'release_speed','release_pos_x','release_extension',\n",
        "    'release_pos_z','release_spin_rate','spin_axis',\n",
        "    'bat_speed','swing_length'\n",
        "]\n",
        "target = 'is_strike'\n",
        "model_data = _df.dropna(subset=feats+[target])\n",
        "\n",
        "folds = 3\n",
        "kf = KFold(folds, shuffle=True)\n",
        "s = pd.Series()\n",
        "for train_idx, test_idx in kf.split(model_data):\n",
        "  train = model_data.iloc[train_idx]\n",
        "  test = model_data.iloc[test_idx]\n",
        "  model = cb.CatBoostClassifier(eta=0.001, verbose=False)\n",
        "  model.fit(train.loc[:, feats], train[target])\n",
        "  _s = pd.DataFrame(model.predict_proba(test.loc[:, feats]), index=test.index)\n",
        "  _s = _s.loc[:, [1]]\n",
        "  s = pd.concat([s, _s])\n",
        "\n",
        "model_data[f'{target}_cb'] = s[1]\n",
        "\n",
        "feats = [\n",
        "    'on_3b','on_2b','on_1b',\n",
        "    'inning','outs_when_up','balls',\n",
        "    'strikes','n_thruorder_pitcher',\n",
        "    'sz_top','sz_bot','pfx_x','pfx_z','arm_angle',\n",
        "    'release_speed','release_pos_x','release_extension',\n",
        "    'release_pos_z','release_spin_rate','spin_axis',\n",
        "    'bat_speed','swing_length', 'is_strike_cb'\n",
        "]\n",
        "target = 'k'\n",
        "_model_data = model_data.loc[model_data['strikes']==2]\n",
        "folds = 3\n",
        "kf = KFold(folds, shuffle=True)\n",
        "s = pd.Series()\n",
        "for train_idx, test_idx in kf.split(_model_data):\n",
        "  train = _model_data.iloc[train_idx]\n",
        "  test = _model_data.iloc[test_idx]\n",
        "  model = cb.CatBoostClassifier(eta=0.001, verbose=False)\n",
        "  model.fit(train.loc[:, feats], train[target])\n",
        "  _s = pd.DataFrame(model.predict_proba(test.loc[:, feats]), index=test.index)\n",
        "  _s = _s.loc[:, [1]]\n",
        "  s = pd.concat([s, _s])\n",
        "\n",
        "model_data[f'{target}_cb'] = s[1]\n"
      ],
      "metadata": {
        "colab": {
          "base_uri": "https://localhost:8080/",
          "height": 406
        },
        "id": "GObYi3J2462k",
        "outputId": "a2613a35-9395-4c11-a608-9e6ac1a330a6"
      },
      "execution_count": null,
      "outputs": [
        {
          "output_type": "display_data",
          "data": {
            "text/plain": [
              "<IPython.core.display.Javascript object>"
            ],
            "application/javascript": [
              "\n",
              "  for (rule of document.styleSheets[0].cssRules){\n",
              "    if (rule.selectorText=='body') {\n",
              "      rule.style.fontSize = '24px'\n",
              "      break\n",
              "    }\n",
              "  }\n",
              "  "
            ]
          },
          "metadata": {}
        },
        {
          "output_type": "stream",
          "name": "stderr",
          "text": [
            "<ipython-input-7-7a91cd7d05b2>:25: SettingWithCopyWarning: \n",
            "A value is trying to be set on a copy of a slice from a DataFrame.\n",
            "Try using .loc[row_indexer,col_indexer] = value instead\n",
            "\n",
            "See the caveats in the documentation: https://pandas.pydata.org/pandas-docs/stable/user_guide/indexing.html#returning-a-view-versus-a-copy\n",
            "  model_data[f'{target}_cb'] = s[1]\n",
            "<ipython-input-7-7a91cd7d05b2>:50: SettingWithCopyWarning: \n",
            "A value is trying to be set on a copy of a slice from a DataFrame.\n",
            "Try using .loc[row_indexer,col_indexer] = value instead\n",
            "\n",
            "See the caveats in the documentation: https://pandas.pydata.org/pandas-docs/stable/user_guide/indexing.html#returning-a-view-versus-a-copy\n",
            "  model_data[f'{target}_cb'] = s[1]\n"
          ]
        }
      ]
    },
    {
      "cell_type": "code",
      "source": [
        "model_data.loc[model_data['strikes']==2,'k_round'] = 0\n",
        "model_data.loc[(model_data['strikes']==2)&(model_data['is_strike_cb']>.5), 'k_round'] = 1\n",
        "\n",
        "model_data.loc[model_data['strikes']==2,'k_fill'] = model_data.loc[(model_data['strikes']==2), 'is_strike_cb']"
      ],
      "metadata": {
        "colab": {
          "base_uri": "https://localhost:8080/",
          "height": 406
        },
        "id": "54ueCtgTlCd1",
        "outputId": "aeb0a456-03fa-4192-eea4-63181532bca6"
      },
      "execution_count": null,
      "outputs": [
        {
          "output_type": "display_data",
          "data": {
            "text/plain": [
              "<IPython.core.display.Javascript object>"
            ],
            "application/javascript": [
              "\n",
              "  for (rule of document.styleSheets[0].cssRules){\n",
              "    if (rule.selectorText=='body') {\n",
              "      rule.style.fontSize = '24px'\n",
              "      break\n",
              "    }\n",
              "  }\n",
              "  "
            ]
          },
          "metadata": {}
        },
        {
          "output_type": "stream",
          "name": "stderr",
          "text": [
            "<ipython-input-8-22d32a580d0f>:1: SettingWithCopyWarning: \n",
            "A value is trying to be set on a copy of a slice from a DataFrame.\n",
            "Try using .loc[row_indexer,col_indexer] = value instead\n",
            "\n",
            "See the caveats in the documentation: https://pandas.pydata.org/pandas-docs/stable/user_guide/indexing.html#returning-a-view-versus-a-copy\n",
            "  model_data.loc[model_data['strikes']==2,'k_round'] = 0\n",
            "<ipython-input-8-22d32a580d0f>:4: SettingWithCopyWarning: \n",
            "A value is trying to be set on a copy of a slice from a DataFrame.\n",
            "Try using .loc[row_indexer,col_indexer] = value instead\n",
            "\n",
            "See the caveats in the documentation: https://pandas.pydata.org/pandas-docs/stable/user_guide/indexing.html#returning-a-view-versus-a-copy\n",
            "  model_data.loc[model_data['strikes']==2,'k_fill'] = model_data.loc[(model_data['strikes']==2), 'is_strike_cb']\n"
          ]
        }
      ]
    },
    {
      "cell_type": "code",
      "source": [
        "target = 'is_strike'\n",
        "log_loss(model_data[target], model_data[f'{target}_cb'])"
      ],
      "metadata": {
        "colab": {
          "base_uri": "https://localhost:8080/",
          "height": 48
        },
        "id": "IKyPeBIKknO7",
        "outputId": "304064df-7cd2-4695-d062-ab6dc6c8a54b"
      },
      "execution_count": null,
      "outputs": [
        {
          "output_type": "display_data",
          "data": {
            "text/plain": [
              "<IPython.core.display.Javascript object>"
            ],
            "application/javascript": [
              "\n",
              "  for (rule of document.styleSheets[0].cssRules){\n",
              "    if (rule.selectorText=='body') {\n",
              "      rule.style.fontSize = '24px'\n",
              "      break\n",
              "    }\n",
              "  }\n",
              "  "
            ]
          },
          "metadata": {}
        },
        {
          "output_type": "execute_result",
          "data": {
            "text/plain": [
              "0.6164667764131438"
            ]
          },
          "metadata": {},
          "execution_count": 9
        }
      ]
    },
    {
      "cell_type": "code",
      "source": [
        "target = 'k'\n",
        "log_loss(model_data.loc[model_data['strikes']==2,target], model_data.loc[model_data['strikes']==2,f\"{target}_cb\"])"
      ],
      "metadata": {
        "colab": {
          "base_uri": "https://localhost:8080/",
          "height": 48
        },
        "id": "JFkFVBJLk2dj",
        "outputId": "bdbefe06-6653-4a55-8804-407f0f6f7a0b"
      },
      "execution_count": null,
      "outputs": [
        {
          "output_type": "display_data",
          "data": {
            "text/plain": [
              "<IPython.core.display.Javascript object>"
            ],
            "application/javascript": [
              "\n",
              "  for (rule of document.styleSheets[0].cssRules){\n",
              "    if (rule.selectorText=='body') {\n",
              "      rule.style.fontSize = '24px'\n",
              "      break\n",
              "    }\n",
              "  }\n",
              "  "
            ]
          },
          "metadata": {}
        },
        {
          "output_type": "execute_result",
          "data": {
            "text/plain": [
              "0.4713604787824396"
            ]
          },
          "metadata": {},
          "execution_count": 10
        }
      ]
    },
    {
      "cell_type": "code",
      "source": [
        "log_loss(model_data.loc[model_data['strikes']==2,'k'], model_data.loc[model_data['strikes']==2,f\"{target}_round\"])"
      ],
      "metadata": {
        "colab": {
          "base_uri": "https://localhost:8080/",
          "height": 48
        },
        "id": "1z8JF3f_lW6G",
        "outputId": "dde2be82-2286-42dd-d0d0-9dbc5dd362e1"
      },
      "execution_count": null,
      "outputs": [
        {
          "output_type": "display_data",
          "data": {
            "text/plain": [
              "<IPython.core.display.Javascript object>"
            ],
            "application/javascript": [
              "\n",
              "  for (rule of document.styleSheets[0].cssRules){\n",
              "    if (rule.selectorText=='body') {\n",
              "      rule.style.fontSize = '24px'\n",
              "      break\n",
              "    }\n",
              "  }\n",
              "  "
            ]
          },
          "metadata": {}
        },
        {
          "output_type": "execute_result",
          "data": {
            "text/plain": [
              "17.283931295520564"
            ]
          },
          "metadata": {},
          "execution_count": 11
        }
      ]
    },
    {
      "cell_type": "code",
      "source": [
        "log_loss(model_data.loc[model_data['strikes']==2,'k'], model_data.loc[model_data['strikes']==2,f\"{target}_fill\"])"
      ],
      "metadata": {
        "colab": {
          "base_uri": "https://localhost:8080/",
          "height": 48
        },
        "id": "fjJAPXRQltTl",
        "outputId": "a2fe4e91-c5e5-47c5-cc43-0bc8c930ae77"
      },
      "execution_count": null,
      "outputs": [
        {
          "output_type": "display_data",
          "data": {
            "text/plain": [
              "<IPython.core.display.Javascript object>"
            ],
            "application/javascript": [
              "\n",
              "  for (rule of document.styleSheets[0].cssRules){\n",
              "    if (rule.selectorText=='body') {\n",
              "      rule.style.fontSize = '24px'\n",
              "      break\n",
              "    }\n",
              "  }\n",
              "  "
            ]
          },
          "metadata": {}
        },
        {
          "output_type": "execute_result",
          "data": {
            "text/plain": [
              "0.6294758922155188"
            ]
          },
          "metadata": {},
          "execution_count": 12
        }
      ]
    },
    {
      "cell_type": "code",
      "source": [
        "train_feats = [\n",
        "    'index','pitch_type','pitch_name','on_3b','on_2b',\n",
        "    'on_1b','inning','inning_topbot','outs_when_up',\n",
        "    'balls','strikes','n_thruorder_pitcher','stand',\n",
        "    'p_throws','sz_top','sz_bot','pfx_x','pfx_z',\n",
        "    'arm_angle','release_speed','release_pos_x',\n",
        "    'release_extension','release_pos_z',\n",
        "    'release_spin_rate','spin_axis','bat_speed',\n",
        "    'swing_length','is_strike','k'\n",
        "]\n",
        "\n",
        "test_feats = [\n",
        "    'index','pitch_type','pitch_name','on_3b','on_2b',\n",
        "    'on_1b','inning','inning_topbot','outs_when_up',\n",
        "    'balls','strikes','n_thruorder_pitcher','stand',\n",
        "    'p_throws','sz_top','sz_bot','pfx_x','pfx_z',\n",
        "    'arm_angle','release_speed','release_pos_x',\n",
        "    'release_extension','release_pos_z',\n",
        "    'release_spin_rate','spin_axis','bat_speed',\n",
        "    'swing_length'\n",
        "]\n",
        "solution_feats = [\n",
        "    'index', 'k'\n",
        "]"
      ],
      "metadata": {
        "colab": {
          "base_uri": "https://localhost:8080/",
          "height": 17
        },
        "id": "SUWpKHrWg0Rt",
        "outputId": "2401597b-4603-4c40-d19d-b97e81372d95"
      },
      "execution_count": null,
      "outputs": [
        {
          "output_type": "display_data",
          "data": {
            "text/plain": [
              "<IPython.core.display.Javascript object>"
            ],
            "application/javascript": [
              "\n",
              "  for (rule of document.styleSheets[0].cssRules){\n",
              "    if (rule.selectorText=='body') {\n",
              "      rule.style.fontSize = '24px'\n",
              "      break\n",
              "    }\n",
              "  }\n",
              "  "
            ]
          },
          "metadata": {}
        }
      ]
    },
    {
      "cell_type": "code",
      "source": [
        "main_data.shape"
      ],
      "metadata": {
        "colab": {
          "base_uri": "https://localhost:8080/",
          "height": 48
        },
        "id": "_-WwzqKRg1lv",
        "outputId": "de1c5f21-2463-4bd1-ed1a-6be42c482f7f"
      },
      "execution_count": null,
      "outputs": [
        {
          "output_type": "display_data",
          "data": {
            "text/plain": [
              "<IPython.core.display.Javascript object>"
            ],
            "application/javascript": [
              "\n",
              "  for (rule of document.styleSheets[0].cssRules){\n",
              "    if (rule.selectorText=='body') {\n",
              "      rule.style.fontSize = '24px'\n",
              "      break\n",
              "    }\n",
              "  }\n",
              "  "
            ]
          },
          "metadata": {}
        },
        {
          "output_type": "execute_result",
          "data": {
            "text/plain": [
              "(757713, 29)"
            ]
          },
          "metadata": {},
          "execution_count": 14
        }
      ]
    },
    {
      "cell_type": "code",
      "source": [
        "main_data.columns.values"
      ],
      "metadata": {
        "colab": {
          "base_uri": "https://localhost:8080/",
          "height": 232
        },
        "id": "Y1zGs_hVh24C",
        "outputId": "d89219de-dd45-44f4-9efa-88897fce1cd6"
      },
      "execution_count": null,
      "outputs": [
        {
          "output_type": "display_data",
          "data": {
            "text/plain": [
              "<IPython.core.display.Javascript object>"
            ],
            "application/javascript": [
              "\n",
              "  for (rule of document.styleSheets[0].cssRules){\n",
              "    if (rule.selectorText=='body') {\n",
              "      rule.style.fontSize = '24px'\n",
              "      break\n",
              "    }\n",
              "  }\n",
              "  "
            ]
          },
          "metadata": {}
        },
        {
          "output_type": "execute_result",
          "data": {
            "text/plain": [
              "array(['pitch_type', 'pitch_name', 'on_3b', 'on_2b', 'on_1b', 'inning',\n",
              "       'inning_topbot', 'outs_when_up', 'balls', 'strikes',\n",
              "       'n_thruorder_pitcher', 'stand', 'p_throws', 'sz_top', 'sz_bot',\n",
              "       'pfx_x', 'pfx_z', 'arm_angle', 'release_speed', 'release_pos_x',\n",
              "       'release_extension', 'release_pos_z', 'release_spin_rate',\n",
              "       'spin_axis', 'bat_speed', 'swing_length', 'is_strike', 'k',\n",
              "       'spin_axis_adj'], dtype=object)"
            ]
          },
          "metadata": {},
          "execution_count": 17
        }
      ]
    },
    {
      "cell_type": "code",
      "source": [
        "subset = [\n",
        "    'pitch_type','pitch_name','on_3b','on_2b',\n",
        "    'on_1b','inning','inning_topbot','outs_when_up',\n",
        "    'balls','strikes','n_thruorder_pitcher','stand',\n",
        "    'p_throws','sz_top','sz_bot','pfx_x','pfx_z',\n",
        "    'arm_angle','release_speed','release_pos_x',\n",
        "    'release_extension','release_pos_z',\n",
        "    'release_spin_rate','spin_axis','is_strike','k'\n",
        "]\n",
        "train = main_data.dropna(subset=subset).sample(frac=1, random_state=2025020446).reset_index(drop=True)\n",
        "train = train.reset_index()\n",
        "test = train.loc[train['strikes']==2].sample(50000, random_state=2025020451)\n",
        "train = train.loc[~train.index.isin(test.index.values)]\n",
        "solution = test.loc[:, ['index','k']]\n",
        "sample_solution = solution.copy()\n",
        "sample_solution['k'] = test['k'].mean()\n",
        "\n",
        "train = train.loc[:, train_feats]\n",
        "test = test.loc[:, test_feats]\n",
        "solution = solution.loc[:, solution_feats]\n",
        "solution['Usage'] = 'Private'\n",
        "solution.loc[solution.index[range(0,500)], 'Usage'] = 'Public'\n",
        "sample_solution = sample_solution.loc[:, solution_feats]\n",
        "\n",
        "train.to_csv(f\"{project_dir}/train.csv\", index=False)\n",
        "test.to_csv(f\"{project_dir}/test.csv\", index=False)\n",
        "solution.to_csv(f\"{project_dir}/solution.csv\", index=False)\n",
        "sample_solution.to_csv(f\"{project_dir}/sample_solution.csv\", index=False)"
      ],
      "metadata": {
        "id": "2tA82MpaDKXX",
        "colab": {
          "base_uri": "https://localhost:8080/",
          "height": 17
        },
        "outputId": "34ced8ab-9cd3-44dd-cc72-410c5700da20"
      },
      "execution_count": null,
      "outputs": [
        {
          "output_type": "display_data",
          "data": {
            "text/plain": [
              "<IPython.core.display.Javascript object>"
            ],
            "application/javascript": [
              "\n",
              "  for (rule of document.styleSheets[0].cssRules){\n",
              "    if (rule.selectorText=='body') {\n",
              "      rule.style.fontSize = '24px'\n",
              "      break\n",
              "    }\n",
              "  }\n",
              "  "
            ]
          },
          "metadata": {}
        }
      ]
    }
  ]
}