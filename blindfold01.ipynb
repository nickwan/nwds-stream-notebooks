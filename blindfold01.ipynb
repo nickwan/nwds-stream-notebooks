{
  "nbformat": 4,
  "nbformat_minor": 0,
  "metadata": {
    "colab": {
      "provenance": [],
      "mount_file_id": "1Eem6Q2u2PSGcl6NRpuy37bo1S7VXQua_",
      "authorship_tag": "ABX9TyPHU0/ssbrNuiUP1jRXT4As",
      "include_colab_link": true
    },
    "kernelspec": {
      "name": "python3",
      "display_name": "Python 3"
    },
    "language_info": {
      "name": "python"
    }
  },
  "cells": [
    {
      "cell_type": "markdown",
      "metadata": {
        "id": "view-in-github",
        "colab_type": "text"
      },
      "source": [
        "<a href=\"https://colab.research.google.com/github/nickwan/nwds-stream-notebooks/blob/main/blindfold01.ipynb\" target=\"_parent\"><img src=\"https://colab.research.google.com/assets/colab-badge.svg\" alt=\"Open In Colab\"/></a>"
      ]
    },
    {
      "cell_type": "code",
      "source": [
        "p = 'drive/My Drive/kaggle-speed-run/house-prices'\n",
        "target = 'SalePrice'\n",
        "\n",
        "outs = ['Id',target]\n",
        "\n",
        "import os\n",
        "import numpy as np\n",
        "import pandas as pd\n",
        "from sklearn.linear_model import LinearRegression\n",
        "\n",
        "train = pd.read_csv(f'{p}/train.csv')\n",
        "test = pd.read_csv(f'{p}/test.csv')\n",
        "\n",
        "x = train.dtypes\n",
        "feats = x[x!='object'].index.values\n",
        "feats = [x for x in feats if x!=target]\n",
        "\n",
        "for c in feats:\n",
        "  m = train[c].mean()\n",
        "  train[c] = train[c].fillna(m)\n",
        "  test[c] = test[c].fillna(m)\n",
        "\n",
        "model = LinearRegression()\n",
        "model.fit(train.loc[:,feats], train[target])\n",
        "test[target] = pd.Series(model.predict(test.loc[:,feats]),index=test.index)\n",
        "test.loc[:,outs].to_csv('green2.csv',index=False)\n"
      ],
      "metadata": {
        "id": "bpAg7HvQORSv"
      },
      "execution_count": null,
      "outputs": []
    }
  ]
}