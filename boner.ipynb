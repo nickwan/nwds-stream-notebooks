{
  "nbformat": 4,
  "nbformat_minor": 0,
  "metadata": {
    "colab": {
      "provenance": [],
      "authorship_tag": "ABX9TyMKZNALVJ0XO3OQcNGTTp+0",
      "include_colab_link": true
    },
    "kernelspec": {
      "name": "python3",
      "display_name": "Python 3"
    },
    "language_info": {
      "name": "python"
    }
  },
  "cells": [
    {
      "cell_type": "markdown",
      "metadata": {
        "id": "view-in-github",
        "colab_type": "text"
      },
      "source": [
        "<a href=\"https://colab.research.google.com/github/nickwan/nwds-stream-notebooks/blob/main/boner.ipynb\" target=\"_parent\"><img src=\"https://colab.research.google.com/assets/colab-badge.svg\" alt=\"Open In Colab\"/></a>"
      ]
    },
    {
      "cell_type": "code",
      "metadata": {
        "id": "-aGNFqKJ57Dh"
      },
      "source": [
        "import seaborn as sns"
      ],
      "execution_count": null,
      "outputs": []
    },
    {
      "cell_type": "markdown",
      "metadata": {
        "id": "pQyLfFN48El1"
      },
      "source": [
        "Back in grad school, I really liked using the 'bone' color palette. It was color-blind friendly, it was minimal in spectrum, and handled scaling in an aesthetically pleasing way for my plots:  \n",
        "\n",
        "![](https://i.imgur.com/qVTtVBp.png)  \n",
        "\n",
        "You can see the use of the `bone` color palette in the grid plots. In `seaborn`, they natively support the `bone` color palette with a really simple call: `palette='bone'`  \n",
        "\n"
      ]
    },
    {
      "cell_type": "code",
      "metadata": {
        "colab": {
          "base_uri": "https://localhost:8080/",
          "height": 76
        },
        "id": "Y1SoF-y-7WMy",
        "outputId": "875bc8d3-4702-486a-b6f6-971f8119846c"
      },
      "source": [
        "sns.color_palette('bone', n_colors=20)"
      ],
      "execution_count": null,
      "outputs": [
        {
          "output_type": "execute_result",
          "data": {
            "text/html": [
              "<svg  width=\"1100\" height=\"55\"><rect x=\"0\" y=\"0\" width=\"55\" height=\"55\" style=\"fill:#0a0a0f;stroke-width:2;stroke:rgb(255,255,255)\"/><rect x=\"55\" y=\"0\" width=\"55\" height=\"55\" style=\"fill:#15151d;stroke-width:2;stroke:rgb(255,255,255)\"/><rect x=\"110\" y=\"0\" width=\"55\" height=\"55\" style=\"fill:#201f2c;stroke-width:2;stroke:rgb(255,255,255)\"/><rect x=\"165\" y=\"0\" width=\"55\" height=\"55\" style=\"fill:#2a2a3a;stroke-width:2;stroke:rgb(255,255,255)\"/><rect x=\"220\" y=\"0\" width=\"55\" height=\"55\" style=\"fill:#343449;stroke-width:2;stroke:rgb(255,255,255)\"/><rect x=\"275\" y=\"0\" width=\"55\" height=\"55\" style=\"fill:#404059;stroke-width:2;stroke:rgb(255,255,255)\"/><rect x=\"330\" y=\"0\" width=\"55\" height=\"55\" style=\"fill:#4a4a67;stroke-width:2;stroke:rgb(255,255,255)\"/><rect x=\"385\" y=\"0\" width=\"55\" height=\"55\" style=\"fill:#555675;stroke-width:2;stroke:rgb(255,255,255)\"/><rect x=\"440\" y=\"0\" width=\"55\" height=\"55\" style=\"fill:#5f657f;stroke-width:2;stroke:rgb(255,255,255)\"/><rect x=\"495\" y=\"0\" width=\"55\" height=\"55\" style=\"fill:#6a738a;stroke-width:2;stroke:rgb(255,255,255)\"/><rect x=\"550\" y=\"0\" width=\"55\" height=\"55\" style=\"fill:#758395;stroke-width:2;stroke:rgb(255,255,255)\"/><rect x=\"605\" y=\"0\" width=\"55\" height=\"55\" style=\"fill:#8091a0;stroke-width:2;stroke:rgb(255,255,255)\"/><rect x=\"660\" y=\"0\" width=\"55\" height=\"55\" style=\"fill:#8aa0aa;stroke-width:2;stroke:rgb(255,255,255)\"/><rect x=\"715\" y=\"0\" width=\"55\" height=\"55\" style=\"fill:#95aeb5;stroke-width:2;stroke:rgb(255,255,255)\"/><rect x=\"770\" y=\"0\" width=\"55\" height=\"55\" style=\"fill:#9fbcbf;stroke-width:2;stroke:rgb(255,255,255)\"/><rect x=\"825\" y=\"0\" width=\"55\" height=\"55\" style=\"fill:#adcaca;stroke-width:2;stroke:rgb(255,255,255)\"/><rect x=\"880\" y=\"0\" width=\"55\" height=\"55\" style=\"fill:#bdd5d5;stroke-width:2;stroke:rgb(255,255,255)\"/><rect x=\"935\" y=\"0\" width=\"55\" height=\"55\" style=\"fill:#cee0df;stroke-width:2;stroke:rgb(255,255,255)\"/><rect x=\"990\" y=\"0\" width=\"55\" height=\"55\" style=\"fill:#deeaea;stroke-width:2;stroke:rgb(255,255,255)\"/><rect x=\"1045\" y=\"0\" width=\"55\" height=\"55\" style=\"fill:#eff4f4;stroke-width:2;stroke:rgb(255,255,255)\"/></svg>"
            ],
            "text/plain": [
              "[(0.041176470588235294, 0.04117645447568721, 0.05728900255754476),\n",
              " (0.08235294117647059, 0.08235290895137443, 0.11457800511508952),\n",
              " (0.12352941176470589, 0.12352936342706163, 0.17186700767263427),\n",
              " (0.16470588235294117, 0.16470581790274885, 0.22915601023017904),\n",
              " (0.20588235294117646, 0.20588227237843607, 0.2864450127877238),\n",
              " (0.25049019607843137, 0.25049009806043054, 0.3485080988917306),\n",
              " (0.2916666666666667, 0.29166655253611773, 0.40579710144927533),\n",
              " (0.33284313725490194, 0.3378676387101018, 0.45784301526967797),\n",
              " (0.3740196078431372, 0.3944852761182057, 0.49901949512261384),\n",
              " (0.4151960784313726, 0.45110291352630966, 0.5401959749755497),\n",
              " (0.4598039215686274, 0.5124386873850888, 0.5848038281495636),\n",
              " (0.5009803921568627, 0.5690563247931928, 0.6259803080024994),\n",
              " (0.542156862745098, 0.6256739622012967, 0.6671567878554352),\n",
              " (0.5833333333333334, 0.6822915996094006, 0.708333267708371),\n",
              " (0.6245098039215686, 0.7389092370175045, 0.7495097475613068),\n",
              " (0.6783087077204725, 0.7941176470588235, 0.7941176007353208),\n",
              " (0.7426469661763779, 0.8352941176470589, 0.8352940805882566),\n",
              " (0.8069852246322835, 0.8764705882352941, 0.8764705604411924),\n",
              " (0.871323483088189, 0.9176470588235295, 0.9176470402941282),\n",
              " (0.9356617415440944, 0.9588235294117647, 0.9588235201470641)]"
            ]
          },
          "metadata": {},
          "execution_count": 2
        }
      ]
    },
    {
      "cell_type": "markdown",
      "metadata": {
        "id": "9e5rHh5H8yXT"
      },
      "source": [
        "and some of the most common color palettes have simple calls like this. For example, `Reds` is a white-to-red color palette, similar to `bone`"
      ]
    },
    {
      "cell_type": "code",
      "metadata": {
        "colab": {
          "base_uri": "https://localhost:8080/",
          "height": 76
        },
        "id": "4Q3KsNti8_d5",
        "outputId": "818ca55c-2c75-4bcc-d22c-a0f6abe4b921"
      },
      "source": [
        "sns.color_palette('Reds', n_colors=20)"
      ],
      "execution_count": null,
      "outputs": [
        {
          "output_type": "execute_result",
          "data": {
            "text/html": [
              "<svg  width=\"1100\" height=\"55\"><rect x=\"0\" y=\"0\" width=\"55\" height=\"55\" style=\"fill:#ffede5;stroke-width:2;stroke:rgb(255,255,255)\"/><rect x=\"55\" y=\"0\" width=\"55\" height=\"55\" style=\"fill:#fee5d9;stroke-width:2;stroke:rgb(255,255,255)\"/><rect x=\"110\" y=\"0\" width=\"55\" height=\"55\" style=\"fill:#fedbcc;stroke-width:2;stroke:rgb(255,255,255)\"/><rect x=\"165\" y=\"0\" width=\"55\" height=\"55\" style=\"fill:#fdcdb9;stroke-width:2;stroke:rgb(255,255,255)\"/><rect x=\"220\" y=\"0\" width=\"55\" height=\"55\" style=\"fill:#fcbfa7;stroke-width:2;stroke:rgb(255,255,255)\"/><rect x=\"275\" y=\"0\" width=\"55\" height=\"55\" style=\"fill:#fcaf93;stroke-width:2;stroke:rgb(255,255,255)\"/><rect x=\"330\" y=\"0\" width=\"55\" height=\"55\" style=\"fill:#fca082;stroke-width:2;stroke:rgb(255,255,255)\"/><rect x=\"385\" y=\"0\" width=\"55\" height=\"55\" style=\"fill:#fc9070;stroke-width:2;stroke:rgb(255,255,255)\"/><rect x=\"440\" y=\"0\" width=\"55\" height=\"55\" style=\"fill:#fc8161;stroke-width:2;stroke:rgb(255,255,255)\"/><rect x=\"495\" y=\"0\" width=\"55\" height=\"55\" style=\"fill:#fb7252;stroke-width:2;stroke:rgb(255,255,255)\"/><rect x=\"550\" y=\"0\" width=\"55\" height=\"55\" style=\"fill:#f96044;stroke-width:2;stroke:rgb(255,255,255)\"/><rect x=\"605\" y=\"0\" width=\"55\" height=\"55\" style=\"fill:#f44f39;stroke-width:2;stroke:rgb(255,255,255)\"/><rect x=\"660\" y=\"0\" width=\"55\" height=\"55\" style=\"fill:#f03d2d;stroke-width:2;stroke:rgb(255,255,255)\"/><rect x=\"715\" y=\"0\" width=\"55\" height=\"55\" style=\"fill:#e32f27;stroke-width:2;stroke:rgb(255,255,255)\"/><rect x=\"770\" y=\"0\" width=\"55\" height=\"55\" style=\"fill:#d52221;stroke-width:2;stroke:rgb(255,255,255)\"/><rect x=\"825\" y=\"0\" width=\"55\" height=\"55\" style=\"fill:#c7171c;stroke-width:2;stroke:rgb(255,255,255)\"/><rect x=\"880\" y=\"0\" width=\"55\" height=\"55\" style=\"fill:#b81419;stroke-width:2;stroke:rgb(255,255,255)\"/><rect x=\"935\" y=\"0\" width=\"55\" height=\"55\" style=\"fill:#aa1016;stroke-width:2;stroke:rgb(255,255,255)\"/><rect x=\"990\" y=\"0\" width=\"55\" height=\"55\" style=\"fill:#960b13;stroke-width:2;stroke:rgb(255,255,255)\"/><rect x=\"1045\" y=\"0\" width=\"55\" height=\"55\" style=\"fill:#7e0610;stroke-width:2;stroke:rgb(255,255,255)\"/></svg>"
            ],
            "text/plain": [
              "[(0.9985236447520185, 0.9297808535178778, 0.8968858131487889),\n",
              " (0.9970472895040369, 0.8987773933102653, 0.8525951557093425),\n",
              " (0.9950634371395617, 0.8596539792387543, 0.7986620530565167),\n",
              " (0.9921107266435987, 0.8050288350634371, 0.726320645905421),\n",
              " (0.9891580161476355, 0.75040369088812, 0.6539792387543253),\n",
              " (0.9882352941176471, 0.6866743560169165, 0.5778854286812765),\n",
              " (0.9882352941176471, 0.6261437908496732, 0.5084967320261438),\n",
              " (0.9880661284121492, 0.5657823913879277, 0.44029219530949637),\n",
              " (0.9865897731641676, 0.5067281814686659, 0.38123798539023457),\n",
              " (0.985113417916186, 0.4476739715494041, 0.32218377547097277),\n",
              " (0.974717416378316, 0.37810073048827375, 0.26620530565167244),\n",
              " (0.9570011534025374, 0.3087120338331411, 0.22191464821222606),\n",
              " (0.9392848904267589, 0.23932333717800847, 0.17762399077277968),\n",
              " (0.8901960784313725, 0.18562091503267975, 0.15294117647058825),\n",
              " (0.8370472895040368, 0.13394848135332565, 0.13079584775086506),\n",
              " (0.7785467128027681, 0.08996539792387544, 0.11003460207612456),\n",
              " (0.7224452133794694, 0.07667820069204152, 0.0982237600922722),\n",
              " (0.6663437139561708, 0.06339100346020761, 0.08641291810841982),\n",
              " (0.5869896193771627, 0.044290657439446365, 0.07460207612456746),\n",
              " (0.4954555940023068, 0.022145328719723183, 0.06279123414071511)]"
            ]
          },
          "metadata": {},
          "execution_count": 3
        }
      ]
    },
    {
      "cell_type": "markdown",
      "metadata": {
        "id": "3foup_6i9GM_"
      },
      "source": [
        "I wanted my minimum value to be white while using the `bone` color palette and found out that there is a really simple way to reverse *any* seaborn color palette -- simply, put `_r` after any color palette name! For example, if I want to reverse this `Reds` color palette, I could just use `Reds_r`"
      ]
    },
    {
      "cell_type": "code",
      "metadata": {
        "colab": {
          "base_uri": "https://localhost:8080/",
          "height": 96
        },
        "id": "dDqjz6Ao6G9c",
        "outputId": "18667aa7-9707-454e-9821-b6110b246aa2"
      },
      "source": [
        "sns.color_palette('Reds_r', n_colors=20)"
      ],
      "execution_count": null,
      "outputs": [
        {
          "output_type": "execute_result",
          "data": {
            "text/html": [
              "<svg  width=\"1100\" height=\"55\"><rect x=\"0\" y=\"0\" width=\"55\" height=\"55\" style=\"fill:#7e0610;stroke-width:2;stroke:rgb(255,255,255)\"/><rect x=\"55\" y=\"0\" width=\"55\" height=\"55\" style=\"fill:#960b13;stroke-width:2;stroke:rgb(255,255,255)\"/><rect x=\"110\" y=\"0\" width=\"55\" height=\"55\" style=\"fill:#aa1016;stroke-width:2;stroke:rgb(255,255,255)\"/><rect x=\"165\" y=\"0\" width=\"55\" height=\"55\" style=\"fill:#b81419;stroke-width:2;stroke:rgb(255,255,255)\"/><rect x=\"220\" y=\"0\" width=\"55\" height=\"55\" style=\"fill:#c7171c;stroke-width:2;stroke:rgb(255,255,255)\"/><rect x=\"275\" y=\"0\" width=\"55\" height=\"55\" style=\"fill:#d52221;stroke-width:2;stroke:rgb(255,255,255)\"/><rect x=\"330\" y=\"0\" width=\"55\" height=\"55\" style=\"fill:#e32f27;stroke-width:2;stroke:rgb(255,255,255)\"/><rect x=\"385\" y=\"0\" width=\"55\" height=\"55\" style=\"fill:#f03d2d;stroke-width:2;stroke:rgb(255,255,255)\"/><rect x=\"440\" y=\"0\" width=\"55\" height=\"55\" style=\"fill:#f44f39;stroke-width:2;stroke:rgb(255,255,255)\"/><rect x=\"495\" y=\"0\" width=\"55\" height=\"55\" style=\"fill:#f96044;stroke-width:2;stroke:rgb(255,255,255)\"/><rect x=\"550\" y=\"0\" width=\"55\" height=\"55\" style=\"fill:#fb7252;stroke-width:2;stroke:rgb(255,255,255)\"/><rect x=\"605\" y=\"0\" width=\"55\" height=\"55\" style=\"fill:#fc8161;stroke-width:2;stroke:rgb(255,255,255)\"/><rect x=\"660\" y=\"0\" width=\"55\" height=\"55\" style=\"fill:#fc9070;stroke-width:2;stroke:rgb(255,255,255)\"/><rect x=\"715\" y=\"0\" width=\"55\" height=\"55\" style=\"fill:#fca082;stroke-width:2;stroke:rgb(255,255,255)\"/><rect x=\"770\" y=\"0\" width=\"55\" height=\"55\" style=\"fill:#fcaf93;stroke-width:2;stroke:rgb(255,255,255)\"/><rect x=\"825\" y=\"0\" width=\"55\" height=\"55\" style=\"fill:#fcbfa7;stroke-width:2;stroke:rgb(255,255,255)\"/><rect x=\"880\" y=\"0\" width=\"55\" height=\"55\" style=\"fill:#fdcdb9;stroke-width:2;stroke:rgb(255,255,255)\"/><rect x=\"935\" y=\"0\" width=\"55\" height=\"55\" style=\"fill:#fedbcc;stroke-width:2;stroke:rgb(255,255,255)\"/><rect x=\"990\" y=\"0\" width=\"55\" height=\"55\" style=\"fill:#fee5d9;stroke-width:2;stroke:rgb(255,255,255)\"/><rect x=\"1045\" y=\"0\" width=\"55\" height=\"55\" style=\"fill:#ffede5;stroke-width:2;stroke:rgb(255,255,255)\"/></svg>"
            ],
            "text/plain": [
              "[(0.4954555940023068, 0.022145328719723183, 0.0627912341407151),\n",
              " (0.5869896193771627, 0.044290657439446365, 0.07460207612456746),\n",
              " (0.6663437139561708, 0.06339100346020761, 0.08641291810841982),\n",
              " (0.7224452133794694, 0.07667820069204152, 0.0982237600922722),\n",
              " (0.7785467128027681, 0.08996539792387542, 0.11003460207612456),\n",
              " (0.8370472895040368, 0.13394848135332565, 0.13079584775086506),\n",
              " (0.8901960784313725, 0.18562091503267975, 0.15294117647058825),\n",
              " (0.9392848904267589, 0.23932333717800847, 0.1776239907727797),\n",
              " (0.9570011534025374, 0.3087120338331411, 0.22191464821222606),\n",
              " (0.974717416378316, 0.37810073048827375, 0.26620530565167244),\n",
              " (0.985113417916186, 0.4476739715494041, 0.3221837754709727),\n",
              " (0.9865897731641676, 0.5067281814686659, 0.38123798539023457),\n",
              " (0.9880661284121492, 0.5657823913879276, 0.44029219530949637),\n",
              " (0.9882352941176471, 0.6261437908496732, 0.5084967320261438),\n",
              " (0.9882352941176471, 0.6866743560169165, 0.5778854286812765),\n",
              " (0.9891580161476355, 0.7504036908881199, 0.6539792387543253),\n",
              " (0.9921107266435987, 0.8050288350634371, 0.726320645905421),\n",
              " (0.9950634371395617, 0.8596539792387543, 0.7986620530565167),\n",
              " (0.9970472895040369, 0.8987773933102653, 0.8525951557093425),\n",
              " (0.9985236447520185, 0.9297808535178778, 0.8968858131487889)]"
            ]
          },
          "metadata": {},
          "execution_count": 12
        }
      ]
    },
    {
      "cell_type": "markdown",
      "metadata": {
        "id": "Q5Dr8H9o9ebT"
      },
      "source": [
        "However, the convenience is perhaps not worth it for some color palettes, as my degenerate, ungodly, unholy, forsaken chat made aware to me through my favorite, most beloved color palette:"
      ]
    },
    {
      "cell_type": "code",
      "metadata": {
        "colab": {
          "base_uri": "https://localhost:8080/",
          "height": 96
        },
        "id": "q-UP6DzE5_iM",
        "outputId": "856b9bd7-a40b-4ede-919e-5c11033ef743"
      },
      "source": [
        "sns.color_palette('bone_r', n_colors=20)"
      ],
      "execution_count": null,
      "outputs": [
        {
          "output_type": "execute_result",
          "data": {
            "text/html": [
              "<svg  width=\"1100\" height=\"55\"><rect x=\"0\" y=\"0\" width=\"55\" height=\"55\" style=\"fill:#eff4f4;stroke-width:2;stroke:rgb(255,255,255)\"/><rect x=\"55\" y=\"0\" width=\"55\" height=\"55\" style=\"fill:#deeaea;stroke-width:2;stroke:rgb(255,255,255)\"/><rect x=\"110\" y=\"0\" width=\"55\" height=\"55\" style=\"fill:#cee0df;stroke-width:2;stroke:rgb(255,255,255)\"/><rect x=\"165\" y=\"0\" width=\"55\" height=\"55\" style=\"fill:#bdd5d5;stroke-width:2;stroke:rgb(255,255,255)\"/><rect x=\"220\" y=\"0\" width=\"55\" height=\"55\" style=\"fill:#adcaca;stroke-width:2;stroke:rgb(255,255,255)\"/><rect x=\"275\" y=\"0\" width=\"55\" height=\"55\" style=\"fill:#9fbcbf;stroke-width:2;stroke:rgb(255,255,255)\"/><rect x=\"330\" y=\"0\" width=\"55\" height=\"55\" style=\"fill:#95aeb5;stroke-width:2;stroke:rgb(255,255,255)\"/><rect x=\"385\" y=\"0\" width=\"55\" height=\"55\" style=\"fill:#8aa0aa;stroke-width:2;stroke:rgb(255,255,255)\"/><rect x=\"440\" y=\"0\" width=\"55\" height=\"55\" style=\"fill:#8091a0;stroke-width:2;stroke:rgb(255,255,255)\"/><rect x=\"495\" y=\"0\" width=\"55\" height=\"55\" style=\"fill:#758395;stroke-width:2;stroke:rgb(255,255,255)\"/><rect x=\"550\" y=\"0\" width=\"55\" height=\"55\" style=\"fill:#6a738a;stroke-width:2;stroke:rgb(255,255,255)\"/><rect x=\"605\" y=\"0\" width=\"55\" height=\"55\" style=\"fill:#5f657f;stroke-width:2;stroke:rgb(255,255,255)\"/><rect x=\"660\" y=\"0\" width=\"55\" height=\"55\" style=\"fill:#555675;stroke-width:2;stroke:rgb(255,255,255)\"/><rect x=\"715\" y=\"0\" width=\"55\" height=\"55\" style=\"fill:#4a4a67;stroke-width:2;stroke:rgb(255,255,255)\"/><rect x=\"770\" y=\"0\" width=\"55\" height=\"55\" style=\"fill:#404059;stroke-width:2;stroke:rgb(255,255,255)\"/><rect x=\"825\" y=\"0\" width=\"55\" height=\"55\" style=\"fill:#343449;stroke-width:2;stroke:rgb(255,255,255)\"/><rect x=\"880\" y=\"0\" width=\"55\" height=\"55\" style=\"fill:#2a2a3a;stroke-width:2;stroke:rgb(255,255,255)\"/><rect x=\"935\" y=\"0\" width=\"55\" height=\"55\" style=\"fill:#201f2c;stroke-width:2;stroke:rgb(255,255,255)\"/><rect x=\"990\" y=\"0\" width=\"55\" height=\"55\" style=\"fill:#15151d;stroke-width:2;stroke:rgb(255,255,255)\"/><rect x=\"1045\" y=\"0\" width=\"55\" height=\"55\" style=\"fill:#0a0a0f;stroke-width:2;stroke:rgb(255,255,255)\"/></svg>"
            ],
            "text/plain": [
              "[(0.9356617415440944, 0.9588235294117647, 0.9588235201470642),\n",
              " (0.871323483088189, 0.9176470588235294, 0.9176470402941284),\n",
              " (0.8069852246322834, 0.8764705882352941, 0.8764705604411924),\n",
              " (0.7426469661763779, 0.8352941176470587, 0.8352940805882566),\n",
              " (0.6783087077204724, 0.7941176470588235, 0.7941176007353208),\n",
              " (0.6245098039215685, 0.7389092370175045, 0.7495097475613071),\n",
              " (0.5833333333333333, 0.6822915996094006, 0.7083332677083711),\n",
              " (0.542156862745098, 0.6256739622012968, 0.6671567878554354),\n",
              " (0.5009803921568627, 0.5690563247931928, 0.6259803080024995),\n",
              " (0.45980392156862737, 0.5124386873850889, 0.5848038281495637),\n",
              " (0.4151960784313725, 0.4511029135263097, 0.5401959749755498),\n",
              " (0.3740196078431372, 0.39448527611820583, 0.499019495122614),\n",
              " (0.3328431372549019, 0.3378676387101019, 0.4578430152696781),\n",
              " (0.29166666666666663, 0.29166655253611784, 0.4057971014492755),\n",
              " (0.2504901960784313, 0.2504900980604306, 0.34850809889173073),\n",
              " (0.20588235294117646, 0.20588227237843612, 0.28644501278772383),\n",
              " (0.1647058823529412, 0.1647058179027489, 0.2291560102301791),\n",
              " (0.12352941176470589, 0.12352936342706167, 0.1718670076726343),\n",
              " (0.08235294117647052, 0.08235290895137443, 0.11457800511508953),\n",
              " (0.04117647058823526, 0.04117645447568724, 0.057289002557544766)]"
            ]
          },
          "metadata": {},
          "execution_count": 13
        }
      ]
    },
    {
      "cell_type": "markdown",
      "metadata": {
        "id": "r0N3SIp49s8B"
      },
      "source": [
        "# SO THAT'S WHY I HAVE A BONER COLAB NOTEBOOK, FUCK YOU CHAT"
      ]
    }
  ]
}