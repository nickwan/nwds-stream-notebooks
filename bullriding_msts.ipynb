{
  "nbformat": 4,
  "nbformat_minor": 0,
  "metadata": {
    "colab": {
      "provenance": [],
      "mount_file_id": "1BN9BIuXGnLOdfpQlj9THppTHWNrpYWla",
      "authorship_tag": "ABX9TyOoBDBiYEDTqP6TiXPudqgn",
      "include_colab_link": true
    },
    "kernelspec": {
      "name": "python3",
      "display_name": "Python 3"
    },
    "language_info": {
      "name": "python"
    },
    "widgets": {
      "application/vnd.jupyter.widget-state+json": {
        "11f6d9dce8a44987bebfab1415bdc026": {
          "model_module": "@jupyter-widgets/controls",
          "model_name": "HBoxModel",
          "model_module_version": "1.5.0",
          "state": {
            "_view_name": "HBoxView",
            "_dom_classes": [],
            "_model_name": "HBoxModel",
            "_view_module": "@jupyter-widgets/controls",
            "_model_module_version": "1.5.0",
            "_view_count": null,
            "_view_module_version": "1.5.0",
            "box_style": "",
            "layout": "IPY_MODEL_f2930a1ecf46448a8b59c8a1804813d6",
            "_model_module": "@jupyter-widgets/controls",
            "children": [
              "IPY_MODEL_4e3e219b2e35415eb2c667acde59526d",
              "IPY_MODEL_2228ded871af491685a0d92f4cf911e7",
              "IPY_MODEL_739dc3b975a44518a967944a14217b76"
            ]
          }
        },
        "f2930a1ecf46448a8b59c8a1804813d6": {
          "model_module": "@jupyter-widgets/base",
          "model_name": "LayoutModel",
          "model_module_version": "1.2.0",
          "state": {
            "_view_name": "LayoutView",
            "grid_template_rows": null,
            "right": null,
            "justify_content": null,
            "_view_module": "@jupyter-widgets/base",
            "overflow": null,
            "_model_module_version": "1.2.0",
            "_view_count": null,
            "flex_flow": null,
            "width": null,
            "min_width": null,
            "border": null,
            "align_items": null,
            "bottom": null,
            "_model_module": "@jupyter-widgets/base",
            "top": null,
            "grid_column": null,
            "overflow_y": null,
            "overflow_x": null,
            "grid_auto_flow": null,
            "grid_area": null,
            "grid_template_columns": null,
            "flex": null,
            "_model_name": "LayoutModel",
            "justify_items": null,
            "grid_row": null,
            "max_height": null,
            "align_content": null,
            "visibility": null,
            "align_self": null,
            "height": null,
            "min_height": null,
            "padding": null,
            "grid_auto_rows": null,
            "grid_gap": null,
            "max_width": null,
            "order": null,
            "_view_module_version": "1.2.0",
            "grid_template_areas": null,
            "object_position": null,
            "object_fit": null,
            "grid_auto_columns": null,
            "margin": null,
            "display": null,
            "left": null
          }
        },
        "4e3e219b2e35415eb2c667acde59526d": {
          "model_module": "@jupyter-widgets/controls",
          "model_name": "HTMLModel",
          "model_module_version": "1.5.0",
          "state": {
            "_view_name": "HTMLView",
            "style": "IPY_MODEL_7425032870df4d52996ccaeb0f14025c",
            "_dom_classes": [],
            "description": "",
            "_model_name": "HTMLModel",
            "placeholder": "​",
            "_view_module": "@jupyter-widgets/controls",
            "_model_module_version": "1.5.0",
            "value": "100%",
            "_view_count": null,
            "_view_module_version": "1.5.0",
            "description_tooltip": null,
            "_model_module": "@jupyter-widgets/controls",
            "layout": "IPY_MODEL_9adb9acd8bdd4107b92a6c3a7215f242"
          }
        },
        "2228ded871af491685a0d92f4cf911e7": {
          "model_module": "@jupyter-widgets/controls",
          "model_name": "FloatProgressModel",
          "model_module_version": "1.5.0",
          "state": {
            "_view_name": "ProgressView",
            "style": "IPY_MODEL_3d1c69defa6447f1b6d68f20ecfac293",
            "_dom_classes": [],
            "description": "",
            "_model_name": "FloatProgressModel",
            "bar_style": "success",
            "max": 2346,
            "_view_module": "@jupyter-widgets/controls",
            "_model_module_version": "1.5.0",
            "value": 2346,
            "_view_count": null,
            "_view_module_version": "1.5.0",
            "orientation": "horizontal",
            "min": 0,
            "description_tooltip": null,
            "_model_module": "@jupyter-widgets/controls",
            "layout": "IPY_MODEL_663ea9f72fff49ad8dc1966eb2c7799d"
          }
        },
        "739dc3b975a44518a967944a14217b76": {
          "model_module": "@jupyter-widgets/controls",
          "model_name": "HTMLModel",
          "model_module_version": "1.5.0",
          "state": {
            "_view_name": "HTMLView",
            "style": "IPY_MODEL_aeaa6bf993ce48cd917a05f0ea9144f8",
            "_dom_classes": [],
            "description": "",
            "_model_name": "HTMLModel",
            "placeholder": "​",
            "_view_module": "@jupyter-widgets/controls",
            "_model_module_version": "1.5.0",
            "value": " 2346/2346 [00:14&lt;00:00, 154.63it/s]",
            "_view_count": null,
            "_view_module_version": "1.5.0",
            "description_tooltip": null,
            "_model_module": "@jupyter-widgets/controls",
            "layout": "IPY_MODEL_18c17d10e0be4a8f994de786f83dfaef"
          }
        },
        "7425032870df4d52996ccaeb0f14025c": {
          "model_module": "@jupyter-widgets/controls",
          "model_name": "DescriptionStyleModel",
          "model_module_version": "1.5.0",
          "state": {
            "_view_name": "StyleView",
            "_model_name": "DescriptionStyleModel",
            "description_width": "",
            "_view_module": "@jupyter-widgets/base",
            "_model_module_version": "1.5.0",
            "_view_count": null,
            "_view_module_version": "1.2.0",
            "_model_module": "@jupyter-widgets/controls"
          }
        },
        "9adb9acd8bdd4107b92a6c3a7215f242": {
          "model_module": "@jupyter-widgets/base",
          "model_name": "LayoutModel",
          "model_module_version": "1.2.0",
          "state": {
            "_view_name": "LayoutView",
            "grid_template_rows": null,
            "right": null,
            "justify_content": null,
            "_view_module": "@jupyter-widgets/base",
            "overflow": null,
            "_model_module_version": "1.2.0",
            "_view_count": null,
            "flex_flow": null,
            "width": null,
            "min_width": null,
            "border": null,
            "align_items": null,
            "bottom": null,
            "_model_module": "@jupyter-widgets/base",
            "top": null,
            "grid_column": null,
            "overflow_y": null,
            "overflow_x": null,
            "grid_auto_flow": null,
            "grid_area": null,
            "grid_template_columns": null,
            "flex": null,
            "_model_name": "LayoutModel",
            "justify_items": null,
            "grid_row": null,
            "max_height": null,
            "align_content": null,
            "visibility": null,
            "align_self": null,
            "height": null,
            "min_height": null,
            "padding": null,
            "grid_auto_rows": null,
            "grid_gap": null,
            "max_width": null,
            "order": null,
            "_view_module_version": "1.2.0",
            "grid_template_areas": null,
            "object_position": null,
            "object_fit": null,
            "grid_auto_columns": null,
            "margin": null,
            "display": null,
            "left": null
          }
        },
        "3d1c69defa6447f1b6d68f20ecfac293": {
          "model_module": "@jupyter-widgets/controls",
          "model_name": "ProgressStyleModel",
          "model_module_version": "1.5.0",
          "state": {
            "_view_name": "StyleView",
            "_model_name": "ProgressStyleModel",
            "description_width": "",
            "_view_module": "@jupyter-widgets/base",
            "_model_module_version": "1.5.0",
            "_view_count": null,
            "_view_module_version": "1.2.0",
            "bar_color": null,
            "_model_module": "@jupyter-widgets/controls"
          }
        },
        "663ea9f72fff49ad8dc1966eb2c7799d": {
          "model_module": "@jupyter-widgets/base",
          "model_name": "LayoutModel",
          "model_module_version": "1.2.0",
          "state": {
            "_view_name": "LayoutView",
            "grid_template_rows": null,
            "right": null,
            "justify_content": null,
            "_view_module": "@jupyter-widgets/base",
            "overflow": null,
            "_model_module_version": "1.2.0",
            "_view_count": null,
            "flex_flow": null,
            "width": null,
            "min_width": null,
            "border": null,
            "align_items": null,
            "bottom": null,
            "_model_module": "@jupyter-widgets/base",
            "top": null,
            "grid_column": null,
            "overflow_y": null,
            "overflow_x": null,
            "grid_auto_flow": null,
            "grid_area": null,
            "grid_template_columns": null,
            "flex": null,
            "_model_name": "LayoutModel",
            "justify_items": null,
            "grid_row": null,
            "max_height": null,
            "align_content": null,
            "visibility": null,
            "align_self": null,
            "height": null,
            "min_height": null,
            "padding": null,
            "grid_auto_rows": null,
            "grid_gap": null,
            "max_width": null,
            "order": null,
            "_view_module_version": "1.2.0",
            "grid_template_areas": null,
            "object_position": null,
            "object_fit": null,
            "grid_auto_columns": null,
            "margin": null,
            "display": null,
            "left": null
          }
        },
        "aeaa6bf993ce48cd917a05f0ea9144f8": {
          "model_module": "@jupyter-widgets/controls",
          "model_name": "DescriptionStyleModel",
          "model_module_version": "1.5.0",
          "state": {
            "_view_name": "StyleView",
            "_model_name": "DescriptionStyleModel",
            "description_width": "",
            "_view_module": "@jupyter-widgets/base",
            "_model_module_version": "1.5.0",
            "_view_count": null,
            "_view_module_version": "1.2.0",
            "_model_module": "@jupyter-widgets/controls"
          }
        },
        "18c17d10e0be4a8f994de786f83dfaef": {
          "model_module": "@jupyter-widgets/base",
          "model_name": "LayoutModel",
          "model_module_version": "1.2.0",
          "state": {
            "_view_name": "LayoutView",
            "grid_template_rows": null,
            "right": null,
            "justify_content": null,
            "_view_module": "@jupyter-widgets/base",
            "overflow": null,
            "_model_module_version": "1.2.0",
            "_view_count": null,
            "flex_flow": null,
            "width": null,
            "min_width": null,
            "border": null,
            "align_items": null,
            "bottom": null,
            "_model_module": "@jupyter-widgets/base",
            "top": null,
            "grid_column": null,
            "overflow_y": null,
            "overflow_x": null,
            "grid_auto_flow": null,
            "grid_area": null,
            "grid_template_columns": null,
            "flex": null,
            "_model_name": "LayoutModel",
            "justify_items": null,
            "grid_row": null,
            "max_height": null,
            "align_content": null,
            "visibility": null,
            "align_self": null,
            "height": null,
            "min_height": null,
            "padding": null,
            "grid_auto_rows": null,
            "grid_gap": null,
            "max_width": null,
            "order": null,
            "_view_module_version": "1.2.0",
            "grid_template_areas": null,
            "object_position": null,
            "object_fit": null,
            "grid_auto_columns": null,
            "margin": null,
            "display": null,
            "left": null
          }
        }
      }
    }
  },
  "cells": [
    {
      "cell_type": "markdown",
      "metadata": {
        "id": "view-in-github",
        "colab_type": "text"
      },
      "source": [
        "<a href=\"https://colab.research.google.com/github/nickwan/nwds-stream-notebooks/blob/main/bullriding_msts.ipynb\" target=\"_parent\"><img src=\"https://colab.research.google.com/assets/colab-badge.svg\" alt=\"Open In Colab\"/></a>"
      ]
    },
    {
      "cell_type": "markdown",
      "metadata": {
        "id": "dpee9GfIJcvA"
      },
      "source": [
        "# for strem"
      ]
    },
    {
      "cell_type": "code",
      "metadata": {
        "id": "dwN_b25YJDz-"
      },
      "source": [
        "def increase_font():\n",
        "  from IPython.display import Javascript\n",
        "  display(Javascript('''\n",
        "  for (rule of document.styleSheets[0].cssRules){\n",
        "    if (rule.selectorText=='body') {\n",
        "      rule.style.fontSize = '28px'\n",
        "      break\n",
        "    }\n",
        "  }\n",
        "  '''))\n",
        "get_ipython().events.register('pre_run_cell', increase_font)"
      ],
      "execution_count": null,
      "outputs": []
    },
    {
      "cell_type": "markdown",
      "metadata": {
        "id": "mH_8k1ZbJeqX"
      },
      "source": [
        "# bull riding elo\n",
        "lmao"
      ]
    },
    {
      "cell_type": "code",
      "metadata": {
        "colab": {
          "base_uri": "https://localhost:8080/",
          "height": 105
        },
        "id": "Km5-1GGGLqu_",
        "outputId": "f78af0bc-f635-424c-f3c6-86980b30a342"
      },
      "source": [
        "!pip install trueskill"
      ],
      "execution_count": null,
      "outputs": [
        {
          "output_type": "display_data",
          "data": {
            "application/javascript": [
              "\n",
              "  for (rule of document.styleSheets[0].cssRules){\n",
              "    if (rule.selectorText=='body') {\n",
              "      rule.style.fontSize = '28px'\n",
              "      break\n",
              "    }\n",
              "  }\n",
              "  "
            ],
            "text/plain": [
              "<IPython.core.display.Javascript object>"
            ]
          },
          "metadata": {}
        },
        {
          "output_type": "stream",
          "name": "stdout",
          "text": [
            "Requirement already satisfied: trueskill in /usr/local/lib/python3.7/dist-packages (0.4.5)\n",
            "Requirement already satisfied: six in /usr/local/lib/python3.7/dist-packages (from trueskill) (1.15.0)\n"
          ]
        }
      ]
    },
    {
      "cell_type": "code",
      "metadata": {
        "colab": {
          "base_uri": "https://localhost:8080/",
          "height": 17
        },
        "id": "B292QQukJhzc",
        "outputId": "27e48c94-fea0-408b-edb4-b864f75b62b3"
      },
      "source": [
        "import pandas as pd\n",
        "import numpy as np\n",
        "import matplotlib.pyplot as plt\n",
        "import seaborn as sns\n",
        "import os\n",
        "from tqdm.notebook import tqdm\n",
        "\n",
        "from trueskill import Rating, quality_1vs1, rate_1vs1"
      ],
      "execution_count": null,
      "outputs": [
        {
          "output_type": "display_data",
          "data": {
            "application/javascript": [
              "\n",
              "  for (rule of document.styleSheets[0].cssRules){\n",
              "    if (rule.selectorText=='body') {\n",
              "      rule.style.fontSize = '28px'\n",
              "      break\n",
              "    }\n",
              "  }\n",
              "  "
            ],
            "text/plain": [
              "<IPython.core.display.Javascript object>"
            ]
          },
          "metadata": {}
        }
      ]
    },
    {
      "cell_type": "code",
      "metadata": {
        "colab": {
          "base_uri": "https://localhost:8080/",
          "height": 17
        },
        "id": "Q_3eVcMDqlfA",
        "outputId": "18c1db44-b01e-4c04-b267-5e46ab7057b8"
      },
      "source": [
        "def get_last_rating(id, rating_table):\n",
        "  try:\n",
        "    id_df = rating_table.loc[rating_table['id']==id]\n",
        "    last_match = id_df['appearances'].max()\n",
        "    rating = id_df.loc[id_df['appearances']==last_match, 'rating'].values[0]\n",
        "  except:\n",
        "    rating = Rating().mu\n",
        "    last_match = 0\n",
        "  return rating, last_match"
      ],
      "execution_count": null,
      "outputs": [
        {
          "output_type": "display_data",
          "data": {
            "application/javascript": [
              "\n",
              "  for (rule of document.styleSheets[0].cssRules){\n",
              "    if (rule.selectorText=='body') {\n",
              "      rule.style.fontSize = '28px'\n",
              "      break\n",
              "    }\n",
              "  }\n",
              "  "
            ],
            "text/plain": [
              "<IPython.core.display.Javascript object>"
            ]
          },
          "metadata": {}
        }
      ]
    },
    {
      "cell_type": "code",
      "metadata": {
        "colab": {
          "base_uri": "https://localhost:8080/",
          "height": 17
        },
        "id": "I76qoo3yJ4zL",
        "outputId": "ef19a030-3194-4a26-af11-19054400e9cb"
      },
      "source": [
        "project_dir = \"drive/My Drive/bullriding\""
      ],
      "execution_count": null,
      "outputs": [
        {
          "output_type": "display_data",
          "data": {
            "application/javascript": [
              "\n",
              "  for (rule of document.styleSheets[0].cssRules){\n",
              "    if (rule.selectorText=='body') {\n",
              "      rule.style.fontSize = '28px'\n",
              "      break\n",
              "    }\n",
              "  }\n",
              "  "
            ],
            "text/plain": [
              "<IPython.core.display.Javascript object>"
            ]
          },
          "metadata": {}
        }
      ]
    },
    {
      "cell_type": "markdown",
      "metadata": {
        "id": "MbM4OnMETIzP"
      },
      "source": [
        "## data dict\n"
      ]
    },
    {
      "cell_type": "markdown",
      "metadata": {
        "id": "VRH0scl_TKq1"
      },
      "source": [
        "### rides data\n",
        "\n",
        "`YEAR`: year duh  \n",
        "`BULL_ID`: the bull that is being ridden  \n",
        "`RODEO_ID`: the rodeo  \n",
        "`PERF`: performance (event)  \n",
        "`CONTESTANT`: name of rider  \n",
        "`RIDER_SCORE`: score of the rider based on judges  \n",
        "`JUDGE_A`: one of two judges, bull score only  \n",
        "`JUDGE_B`: one of two judges, bull score only  \n",
        "`TIME`: duration of ride  \n",
        "`GO`: ???  \n",
        "`COMMENTS`: ???  \n",
        "`MID`: match up ID (bull + rider; also row ID)    \n",
        "`QR`:  qualified ride (1 if scored; 0 if no score)    \n",
        "`IS_OUT`: is the out legit? (ride oddities, rarities like hurt in the chute, bull falling down, etc)    \n",
        "\n",
        "### competition levels  \n",
        "NFR  \n",
        "AB   \n",
        "BB (everything that starts with A but isn't AB)  \n",
        "R (everything else)  \n",
        "\n",
        "### bull data  \n",
        "each row is a bull  \n",
        "`rank`: ranking among all bulls  \n",
        "`avgmark`: avg bull score  \n",
        "`adjavg`: adjustment based on level  \n",
        "`pavg`: PBR avg  \n",
        "`bavg`: CBR avg (\"B\" events)  \n",
        "`mounted`: attempted rides  \n",
        "`rode`: qualified rides  \n",
        "`vtg*`: versus the best riders  \n",
        "`vsr*`: versus right-handed riders  \n",
        "`vsl*`: versus left-handed riders  \n",
        "`dirpref`: the estimated preferred direction the bull spins  \n",
        "`dirperc`: percentage the bull spins in the preferred direction  \n",
        "`power`: performances + difficulty  \n",
        "`winperc`: percentage of the time they are the highest marked bull in the round  \n",
        "`rawrank`: temp column based on rank   \n",
        "`arank`: rank among active bulls  "
      ]
    },
    {
      "cell_type": "markdown",
      "metadata": {
        "id": "csH76IwdVEwJ"
      },
      "source": [
        "## Basic trueskill loop"
      ]
    },
    {
      "cell_type": "code",
      "metadata": {
        "colab": {
          "base_uri": "https://localhost:8080/",
          "height": 51
        },
        "id": "TRGmI0trK4lm",
        "outputId": "3366065f-2e3c-4299-fb78-f8571a2aa695"
      },
      "source": [
        "rides = pd.read_csv(f\"{project_dir}/data/rides_2015_to_present.csv\")\n",
        "rides['make8'] = 0\n",
        "rides.loc[rides['time']==8 ,'make8'] = 1\n",
        "rides['rodeo_level'] = rides['rid'].str.replace('[^a-zA-Z]', '').str.upper()\n",
        "rides['rodeo_level'] = (rides['rodeo_level']\n",
        " .replace(['ABG', 'ABH','ABD','ABC', 'ABB', 'ABA',\n",
        "           'AC', 'AE', 'AH','ABE', 'AN','AZ',\n",
        "           'ABGC', 'AV'],\n",
        "          'BB')\n",
        " .replace(['C', 'F', 'Q', 'QX', 'XQ','CF',\n",
        "           'X','B', 'XT', 'O','E'],\n",
        "          'R'))\n",
        "\n",
        "rides['aid'] = rides['rid'].str.replace('[^a-zA-Z]', '').str.upper()\n",
        "rides['nid'] = rides['rid'].str.replace('[^0-9]', '').str.upper().astype(int)\n",
        "\n",
        "rides.shape"
      ],
      "execution_count": null,
      "outputs": [
        {
          "output_type": "display_data",
          "data": {
            "application/javascript": [
              "\n",
              "  for (rule of document.styleSheets[0].cssRules){\n",
              "    if (rule.selectorText=='body') {\n",
              "      rule.style.fontSize = '28px'\n",
              "      break\n",
              "    }\n",
              "  }\n",
              "  "
            ],
            "text/plain": [
              "<IPython.core.display.Javascript object>"
            ]
          },
          "metadata": {}
        },
        {
          "output_type": "execute_result",
          "data": {
            "text/plain": [
              "(93140, 19)"
            ]
          },
          "metadata": {},
          "execution_count": 6
        }
      ]
    },
    {
      "cell_type": "code",
      "metadata": {
        "colab": {
          "base_uri": "https://localhost:8080/",
          "height": 51
        },
        "id": "wMrggH2dLGLR",
        "outputId": "32f3ecad-3223-4f74-f036-25d4d0f1c4fe"
      },
      "source": [
        "guys = pd.read_csv(f\"{project_dir}/data/guystats.csv\")\n",
        "guys.shape"
      ],
      "execution_count": null,
      "outputs": [
        {
          "output_type": "display_data",
          "data": {
            "application/javascript": [
              "\n",
              "  for (rule of document.styleSheets[0].cssRules){\n",
              "    if (rule.selectorText=='body') {\n",
              "      rule.style.fontSize = '28px'\n",
              "      break\n",
              "    }\n",
              "  }\n",
              "  "
            ],
            "text/plain": [
              "<IPython.core.display.Javascript object>"
            ]
          },
          "metadata": {}
        },
        {
          "output_type": "execute_result",
          "data": {
            "text/plain": [
              "(9172, 19)"
            ]
          },
          "metadata": {},
          "execution_count": 7
        }
      ]
    },
    {
      "cell_type": "code",
      "metadata": {
        "colab": {
          "base_uri": "https://localhost:8080/",
          "height": 580
        },
        "id": "ASmLfnvEN0PH",
        "outputId": "0e85eb43-febb-4ea7-88db-3937dfeb0821"
      },
      "source": [
        "guys.head()"
      ],
      "execution_count": null,
      "outputs": [
        {
          "output_type": "display_data",
          "data": {
            "application/javascript": [
              "\n",
              "  for (rule of document.styleSheets[0].cssRules){\n",
              "    if (rule.selectorText=='body') {\n",
              "      rule.style.fontSize = '28px'\n",
              "      break\n",
              "    }\n",
              "  }\n",
              "  "
            ],
            "text/plain": [
              "<IPython.core.display.Javascript object>"
            ]
          },
          "metadata": {}
        },
        {
          "output_type": "execute_result",
          "data": {
            "text/html": [
              "<div>\n",
              "<style scoped>\n",
              "    .dataframe tbody tr th:only-of-type {\n",
              "        vertical-align: middle;\n",
              "    }\n",
              "\n",
              "    .dataframe tbody tr th {\n",
              "        vertical-align: top;\n",
              "    }\n",
              "\n",
              "    .dataframe thead th {\n",
              "        text-align: right;\n",
              "    }\n",
              "</style>\n",
              "<table border=\"1\" class=\"dataframe\">\n",
              "  <thead>\n",
              "    <tr style=\"text-align: right;\">\n",
              "      <th></th>\n",
              "      <th>guy</th>\n",
              "      <th>records</th>\n",
              "      <th>mounted</th>\n",
              "      <th>rode</th>\n",
              "      <th>fmounted</th>\n",
              "      <th>frode</th>\n",
              "      <th>num85</th>\n",
              "      <th>hisc</th>\n",
              "      <th>ppo</th>\n",
              "      <th>streak</th>\n",
              "      <th>winperc</th>\n",
              "      <th>bullrank</th>\n",
              "      <th>bullpower</th>\n",
              "      <th>hand</th>\n",
              "      <th>ht</th>\n",
              "      <th>wt</th>\n",
              "      <th>note</th>\n",
              "      <th>pbrid</th>\n",
              "      <th>guyid</th>\n",
              "    </tr>\n",
              "  </thead>\n",
              "  <tbody>\n",
              "    <tr>\n",
              "      <th>0</th>\n",
              "      <td>Aaron Atkinson</td>\n",
              "      <td>20</td>\n",
              "      <td>18</td>\n",
              "      <td>2</td>\n",
              "      <td>0</td>\n",
              "      <td>0</td>\n",
              "      <td>1</td>\n",
              "      <td>88.0</td>\n",
              "      <td>79.500</td>\n",
              "      <td>0.00</td>\n",
              "      <td>0.000</td>\n",
              "      <td>12913</td>\n",
              "      <td>61.88</td>\n",
              "      <td>NaN</td>\n",
              "      <td>70</td>\n",
              "      <td>165</td>\n",
              "      <td>NaN</td>\n",
              "      <td>1770</td>\n",
              "      <td>1</td>\n",
              "    </tr>\n",
              "    <tr>\n",
              "      <th>1</th>\n",
              "      <td>Aaron Bean</td>\n",
              "      <td>14</td>\n",
              "      <td>14</td>\n",
              "      <td>1</td>\n",
              "      <td>1</td>\n",
              "      <td>0</td>\n",
              "      <td>0</td>\n",
              "      <td>70.0</td>\n",
              "      <td>70.000</td>\n",
              "      <td>0.00</td>\n",
              "      <td>0.000</td>\n",
              "      <td>10988</td>\n",
              "      <td>68.69</td>\n",
              "      <td>NaN</td>\n",
              "      <td>70</td>\n",
              "      <td>185</td>\n",
              "      <td>NaN</td>\n",
              "      <td>3854</td>\n",
              "      <td>2</td>\n",
              "    </tr>\n",
              "    <tr>\n",
              "      <th>2</th>\n",
              "      <td>Aaron Blendell</td>\n",
              "      <td>3</td>\n",
              "      <td>1</td>\n",
              "      <td>0</td>\n",
              "      <td>0</td>\n",
              "      <td>0</td>\n",
              "      <td>0</td>\n",
              "      <td>0.0</td>\n",
              "      <td>0.000</td>\n",
              "      <td>0.00</td>\n",
              "      <td>0.000</td>\n",
              "      <td>4142</td>\n",
              "      <td>76.80</td>\n",
              "      <td>NaN</td>\n",
              "      <td>0</td>\n",
              "      <td>0</td>\n",
              "      <td>NaN</td>\n",
              "      <td>0</td>\n",
              "      <td>3</td>\n",
              "    </tr>\n",
              "    <tr>\n",
              "      <th>3</th>\n",
              "      <td>Aaron Brewer</td>\n",
              "      <td>158</td>\n",
              "      <td>152</td>\n",
              "      <td>39</td>\n",
              "      <td>3</td>\n",
              "      <td>0</td>\n",
              "      <td>7</td>\n",
              "      <td>89.0</td>\n",
              "      <td>76.256</td>\n",
              "      <td>6.67</td>\n",
              "      <td>0.026</td>\n",
              "      <td>11193</td>\n",
              "      <td>55.66</td>\n",
              "      <td>L</td>\n",
              "      <td>72</td>\n",
              "      <td>145</td>\n",
              "      <td>NaN</td>\n",
              "      <td>0</td>\n",
              "      <td>4</td>\n",
              "    </tr>\n",
              "    <tr>\n",
              "      <th>4</th>\n",
              "      <td>Aaron Brookshire</td>\n",
              "      <td>4</td>\n",
              "      <td>4</td>\n",
              "      <td>0</td>\n",
              "      <td>0</td>\n",
              "      <td>0</td>\n",
              "      <td>0</td>\n",
              "      <td>0.0</td>\n",
              "      <td>0.000</td>\n",
              "      <td>0.00</td>\n",
              "      <td>0.000</td>\n",
              "      <td>4396</td>\n",
              "      <td>64.78</td>\n",
              "      <td>NaN</td>\n",
              "      <td>0</td>\n",
              "      <td>0</td>\n",
              "      <td>NaN</td>\n",
              "      <td>0</td>\n",
              "      <td>5</td>\n",
              "    </tr>\n",
              "  </tbody>\n",
              "</table>\n",
              "</div>"
            ],
            "text/plain": [
              "                guy  records  mounted  rode  ...   wt  note  pbrid  guyid\n",
              "0    Aaron Atkinson       20       18     2  ...  165   NaN   1770      1\n",
              "1        Aaron Bean       14       14     1  ...  185   NaN   3854      2\n",
              "2    Aaron Blendell        3        1     0  ...    0   NaN      0      3\n",
              "3      Aaron Brewer      158      152    39  ...  145   NaN      0      4\n",
              "4  Aaron Brookshire        4        4     0  ...    0   NaN      0      5\n",
              "\n",
              "[5 rows x 19 columns]"
            ]
          },
          "metadata": {},
          "execution_count": 8
        }
      ]
    },
    {
      "cell_type": "code",
      "metadata": {
        "colab": {
          "base_uri": "https://localhost:8080/",
          "height": 51
        },
        "id": "aJ_HnMmbLUqL",
        "outputId": "1c64d719-f724-4429-a14a-15f31b772ff3"
      },
      "source": [
        "bulls = pd.read_csv(f\"{project_dir}/data/nickwan_bulls.csv\")\n",
        "bulls.shape"
      ],
      "execution_count": null,
      "outputs": [
        {
          "output_type": "display_data",
          "data": {
            "application/javascript": [
              "\n",
              "  for (rule of document.styleSheets[0].cssRules){\n",
              "    if (rule.selectorText=='body') {\n",
              "      rule.style.fontSize = '28px'\n",
              "      break\n",
              "    }\n",
              "  }\n",
              "  "
            ],
            "text/plain": [
              "<IPython.core.display.Javascript object>"
            ]
          },
          "metadata": {}
        },
        {
          "output_type": "execute_result",
          "data": {
            "text/plain": [
              "(3890, 16)"
            ]
          },
          "metadata": {},
          "execution_count": 9
        }
      ]
    },
    {
      "cell_type": "code",
      "metadata": {
        "colab": {
          "base_uri": "https://localhost:8080/",
          "height": 478
        },
        "id": "nh0JZw-pLX7G",
        "outputId": "1b2559f7-a654-4900-ce45-f459cb389ccc"
      },
      "source": [
        "bulls.head()"
      ],
      "execution_count": null,
      "outputs": [
        {
          "output_type": "display_data",
          "data": {
            "application/javascript": [
              "\n",
              "  for (rule of document.styleSheets[0].cssRules){\n",
              "    if (rule.selectorText=='body') {\n",
              "      rule.style.fontSize = '28px'\n",
              "      break\n",
              "    }\n",
              "  }\n",
              "  "
            ],
            "text/plain": [
              "<IPython.core.display.Javascript object>"
            ]
          },
          "metadata": {}
        },
        {
          "output_type": "execute_result",
          "data": {
            "text/html": [
              "<div>\n",
              "<style scoped>\n",
              "    .dataframe tbody tr th:only-of-type {\n",
              "        vertical-align: middle;\n",
              "    }\n",
              "\n",
              "    .dataframe tbody tr th {\n",
              "        vertical-align: top;\n",
              "    }\n",
              "\n",
              "    .dataframe thead th {\n",
              "        text-align: right;\n",
              "    }\n",
              "</style>\n",
              "<table border=\"1\" class=\"dataframe\">\n",
              "  <thead>\n",
              "    <tr style=\"text-align: right;\">\n",
              "      <th></th>\n",
              "      <th>rank</th>\n",
              "      <th>pbid</th>\n",
              "      <th>bno</th>\n",
              "      <th>bname</th>\n",
              "      <th>avgmark</th>\n",
              "      <th>mounted</th>\n",
              "      <th>rode</th>\n",
              "      <th>vtgbo</th>\n",
              "      <th>vtgrode</th>\n",
              "      <th>vslbo</th>\n",
              "      <th>vslrode</th>\n",
              "      <th>vsrbo</th>\n",
              "      <th>vsrrode</th>\n",
              "      <th>dirpref</th>\n",
              "      <th>dirperc</th>\n",
              "      <th>power</th>\n",
              "    </tr>\n",
              "  </thead>\n",
              "  <tbody>\n",
              "    <tr>\n",
              "      <th>0</th>\n",
              "      <td>23</td>\n",
              "      <td>31396</td>\n",
              "      <td>32Y</td>\n",
              "      <td>SweetPro's Bruiser</td>\n",
              "      <td>22.677</td>\n",
              "      <td>133</td>\n",
              "      <td>29</td>\n",
              "      <td>74</td>\n",
              "      <td>25</td>\n",
              "      <td>43</td>\n",
              "      <td>17</td>\n",
              "      <td>50</td>\n",
              "      <td>12</td>\n",
              "      <td>left</td>\n",
              "      <td>9.0</td>\n",
              "      <td>86.53</td>\n",
              "    </tr>\n",
              "    <tr>\n",
              "      <th>1</th>\n",
              "      <td>36</td>\n",
              "      <td>42345</td>\n",
              "      <td>524</td>\n",
              "      <td>Cliffhanger</td>\n",
              "      <td>22.560</td>\n",
              "      <td>7</td>\n",
              "      <td>0</td>\n",
              "      <td>1</td>\n",
              "      <td>0</td>\n",
              "      <td>2</td>\n",
              "      <td>0</td>\n",
              "      <td>3</td>\n",
              "      <td>0</td>\n",
              "      <td>unknown</td>\n",
              "      <td>0.0</td>\n",
              "      <td>76.90</td>\n",
              "    </tr>\n",
              "    <tr>\n",
              "      <th>2</th>\n",
              "      <td>39</td>\n",
              "      <td>26210</td>\n",
              "      <td>849</td>\n",
              "      <td>Crystal Deal</td>\n",
              "      <td>22.536</td>\n",
              "      <td>46</td>\n",
              "      <td>6</td>\n",
              "      <td>13</td>\n",
              "      <td>6</td>\n",
              "      <td>13</td>\n",
              "      <td>1</td>\n",
              "      <td>17</td>\n",
              "      <td>5</td>\n",
              "      <td>right</td>\n",
              "      <td>16.0</td>\n",
              "      <td>80.48</td>\n",
              "    </tr>\n",
              "    <tr>\n",
              "      <th>3</th>\n",
              "      <td>47</td>\n",
              "      <td>40393</td>\n",
              "      <td>43C-</td>\n",
              "      <td>Chiseled</td>\n",
              "      <td>22.457</td>\n",
              "      <td>40</td>\n",
              "      <td>11</td>\n",
              "      <td>14</td>\n",
              "      <td>11</td>\n",
              "      <td>10</td>\n",
              "      <td>3</td>\n",
              "      <td>17</td>\n",
              "      <td>8</td>\n",
              "      <td>right</td>\n",
              "      <td>9.0</td>\n",
              "      <td>79.98</td>\n",
              "    </tr>\n",
              "    <tr>\n",
              "      <th>4</th>\n",
              "      <td>70</td>\n",
              "      <td>38961</td>\n",
              "      <td>F50</td>\n",
              "      <td>Wild Onion</td>\n",
              "      <td>22.371</td>\n",
              "      <td>22</td>\n",
              "      <td>1</td>\n",
              "      <td>5</td>\n",
              "      <td>1</td>\n",
              "      <td>8</td>\n",
              "      <td>1</td>\n",
              "      <td>7</td>\n",
              "      <td>0</td>\n",
              "      <td>left</td>\n",
              "      <td>11.0</td>\n",
              "      <td>75.14</td>\n",
              "    </tr>\n",
              "  </tbody>\n",
              "</table>\n",
              "</div>"
            ],
            "text/plain": [
              "   rank   pbid   bno               bname  ...  vsrrode  dirpref  dirperc  power\n",
              "0    23  31396   32Y  SweetPro's Bruiser  ...       12     left      9.0  86.53\n",
              "1    36  42345   524         Cliffhanger  ...        0  unknown      0.0  76.90\n",
              "2    39  26210   849        Crystal Deal  ...        5    right     16.0  80.48\n",
              "3    47  40393  43C-            Chiseled  ...        8    right      9.0  79.98\n",
              "4    70  38961   F50          Wild Onion  ...        0     left     11.0  75.14\n",
              "\n",
              "[5 rows x 16 columns]"
            ]
          },
          "metadata": {},
          "execution_count": 10
        }
      ]
    },
    {
      "cell_type": "markdown",
      "metadata": {
        "id": "pNxCAq9DP8Hw"
      },
      "source": [
        "random trueskill stuff"
      ]
    },
    {
      "cell_type": "code",
      "metadata": {
        "colab": {
          "base_uri": "https://localhost:8080/",
          "height": 51
        },
        "id": "tpKZLMLjbOkw",
        "outputId": "47cbc649-4a45-4319-9cda-88fee99740ea"
      },
      "source": [
        "ab = rides.loc[(rides['rodeo_level']=='AB') & (rides['year']==2020)].sort_values(['nid','mid'])\n",
        "ab['one'] = 1\n",
        "ab['n_rider_appearances'] = ab.sort_values(['nid', 'mid']).loc[:, ['guyid', 'one']].groupby(['guyid'], as_index=False).cumsum()\n",
        "ab['n_bull_appearances'] = ab.sort_values(['nid', 'mid']).loc[:, ['pbid', 'one']].groupby(['pbid'], as_index=False).cumsum()\n",
        "ab = ab.drop(['one'], axis=1)\n",
        "ab.shape"
      ],
      "execution_count": null,
      "outputs": [
        {
          "output_type": "display_data",
          "data": {
            "application/javascript": [
              "\n",
              "  for (rule of document.styleSheets[0].cssRules){\n",
              "    if (rule.selectorText=='body') {\n",
              "      rule.style.fontSize = '28px'\n",
              "      break\n",
              "    }\n",
              "  }\n",
              "  "
            ],
            "text/plain": [
              "<IPython.core.display.Javascript object>"
            ]
          },
          "metadata": {}
        },
        {
          "output_type": "execute_result",
          "data": {
            "text/plain": [
              "(2346, 21)"
            ]
          },
          "metadata": {},
          "execution_count": 159
        }
      ]
    },
    {
      "cell_type": "code",
      "metadata": {
        "colab": {
          "base_uri": "https://localhost:8080/",
          "height": 137,
          "referenced_widgets": [
            "11f6d9dce8a44987bebfab1415bdc026",
            "f2930a1ecf46448a8b59c8a1804813d6",
            "4e3e219b2e35415eb2c667acde59526d",
            "2228ded871af491685a0d92f4cf911e7",
            "739dc3b975a44518a967944a14217b76",
            "7425032870df4d52996ccaeb0f14025c",
            "9adb9acd8bdd4107b92a6c3a7215f242",
            "3d1c69defa6447f1b6d68f20ecfac293",
            "663ea9f72fff49ad8dc1966eb2c7799d",
            "aeaa6bf993ce48cd917a05f0ea9144f8",
            "18c17d10e0be4a8f994de786f83dfaef"
          ]
        },
        "id": "grX1CgekSOiP",
        "outputId": "6c9a70c6-4dbe-4081-ddcc-62a4756ce832"
      },
      "source": [
        "df_ratings = pd.DataFrame(columns=['id', 'appearances', 'rating', 'is_bull'])\n",
        "for idx, row in tqdm(ab.iterrows(), total=ab.shape[0]):\n",
        "  gid = row['guyid']\n",
        "  bid = row['pbid']\n",
        "  gid_rating, gid_last_match = get_last_rating(gid, df_ratings)\n",
        "  bid_rating, bid_last_match = get_last_rating(bid, df_ratings)\n",
        "\n",
        "  if row['make8']:\n",
        "    gid_rating, bid_rating = rate_1vs1(Rating(gid_rating), Rating(bid_rating))\n",
        "  else:\n",
        "    bid_rating, gid_rating = rate_1vs1(Rating(bid_rating), Rating(gid_rating))\n",
        "\n",
        "  gid_new_match_row = gid_last_match +1\n",
        "  bid_new_match_row = bid_last_match +1\n",
        "\n",
        "  _df = pd.DataFrame([[gid,gid_new_match_row,gid_rating.mu, 0], [bid,bid_new_match_row,bid_rating.mu, 1]], columns=['id', 'appearances', 'rating', 'is_bull'])\n",
        "\n",
        "  df_ratings = df_ratings.append(_df)\n",
        "df_ratings = df_ratings.reset_index(drop=True)\n",
        "_append = pd.Series()\n",
        "for id in df_ratings['id'].unique():\n",
        "  _df = df_ratings.loc[df_ratings['id']==id]\n",
        "  _append = _append.append(_df['rating'].sub(_df['rating'].shift().fillna(25)))\n",
        "df_ratings['rating_change'] = _append\n",
        "\n",
        "df_ratings.shape"
      ],
      "execution_count": null,
      "outputs": [
        {
          "output_type": "display_data",
          "data": {
            "application/javascript": [
              "\n",
              "  for (rule of document.styleSheets[0].cssRules){\n",
              "    if (rule.selectorText=='body') {\n",
              "      rule.style.fontSize = '28px'\n",
              "      break\n",
              "    }\n",
              "  }\n",
              "  "
            ],
            "text/plain": [
              "<IPython.core.display.Javascript object>"
            ]
          },
          "metadata": {}
        },
        {
          "output_type": "display_data",
          "data": {
            "application/vnd.jupyter.widget-view+json": {
              "model_id": "11f6d9dce8a44987bebfab1415bdc026",
              "version_minor": 0,
              "version_major": 2
            },
            "text/plain": [
              "  0%|          | 0/2346 [00:00<?, ?it/s]"
            ]
          },
          "metadata": {}
        },
        {
          "output_type": "stream",
          "name": "stderr",
          "text": [
            "/usr/local/lib/python3.7/dist-packages/ipykernel_launcher.py:20: DeprecationWarning: The default dtype for empty Series will be 'object' instead of 'float64' in a future version. Specify a dtype explicitly to silence this warning.\n"
          ]
        },
        {
          "output_type": "execute_result",
          "data": {
            "text/plain": [
              "(4692, 5)"
            ]
          },
          "metadata": {},
          "execution_count": 160
        }
      ]
    },
    {
      "cell_type": "code",
      "metadata": {
        "colab": {
          "base_uri": "https://localhost:8080/",
          "height": 51
        },
        "id": "24majHiqq37-",
        "outputId": "f3abab54-a957-4379-f1ec-24b9c4ac6c7e"
      },
      "source": [
        "ab = (ab\n",
        "      .merge(df_ratings.loc[:, ['id', 'appearances',\n",
        "                                'rating', 'rating_change']]\n",
        "             .rename(columns={'id':'guyid',\n",
        "                              'appearances':'n_rider_appearances',\n",
        "                              'rating':'rider_rating',\n",
        "                              'rating_change':'rider_rating_change'}))\n",
        "      .merge(df_ratings.loc[:, ['id', 'appearances',\n",
        "                                'rating', 'rating_change']]\n",
        "             .rename(columns={'id':'pbid',\n",
        "                              'appearances':'n_bull_appearances',\n",
        "                              'rating':'bull_rating',\n",
        "                              'rating_change':'bull_rating_change'}))\n",
        "      .merge(bulls.loc[:, ['pbid', 'bname']].drop_duplicates()))\n",
        "for col in ['rider_rating', 'bull_rating']:\n",
        "  ab[col] = ab[col].sub(ab[col].mean()).add(25).mul(4)\n",
        "\n",
        "ab.shape"
      ],
      "execution_count": null,
      "outputs": [
        {
          "output_type": "display_data",
          "data": {
            "application/javascript": [
              "\n",
              "  for (rule of document.styleSheets[0].cssRules){\n",
              "    if (rule.selectorText=='body') {\n",
              "      rule.style.fontSize = '28px'\n",
              "      break\n",
              "    }\n",
              "  }\n",
              "  "
            ],
            "text/plain": [
              "<IPython.core.display.Javascript object>"
            ]
          },
          "metadata": {}
        },
        {
          "output_type": "execute_result",
          "data": {
            "text/plain": [
              "(2153, 26)"
            ]
          },
          "metadata": {},
          "execution_count": 161
        }
      ]
    },
    {
      "cell_type": "code",
      "metadata": {
        "colab": {
          "base_uri": "https://localhost:8080/",
          "height": 576
        },
        "id": "l8DSq4y7afFf",
        "outputId": "ee94573f-910e-41a7-b905-d220f89e7982"
      },
      "source": [
        "ab.loc[:, ['bull_rating', 'rider_rating']].describe()"
      ],
      "execution_count": null,
      "outputs": [
        {
          "output_type": "display_data",
          "data": {
            "application/javascript": [
              "\n",
              "  for (rule of document.styleSheets[0].cssRules){\n",
              "    if (rule.selectorText=='body') {\n",
              "      rule.style.fontSize = '28px'\n",
              "      break\n",
              "    }\n",
              "  }\n",
              "  "
            ],
            "text/plain": [
              "<IPython.core.display.Javascript object>"
            ]
          },
          "metadata": {}
        },
        {
          "output_type": "execute_result",
          "data": {
            "text/html": [
              "<div>\n",
              "<style scoped>\n",
              "    .dataframe tbody tr th:only-of-type {\n",
              "        vertical-align: middle;\n",
              "    }\n",
              "\n",
              "    .dataframe tbody tr th {\n",
              "        vertical-align: top;\n",
              "    }\n",
              "\n",
              "    .dataframe thead th {\n",
              "        text-align: right;\n",
              "    }\n",
              "</style>\n",
              "<table border=\"1\" class=\"dataframe\">\n",
              "  <thead>\n",
              "    <tr style=\"text-align: right;\">\n",
              "      <th></th>\n",
              "      <th>bull_rating</th>\n",
              "      <th>rider_rating</th>\n",
              "    </tr>\n",
              "  </thead>\n",
              "  <tbody>\n",
              "    <tr>\n",
              "      <th>count</th>\n",
              "      <td>2153.000000</td>\n",
              "      <td>2153.000000</td>\n",
              "    </tr>\n",
              "    <tr>\n",
              "      <th>mean</th>\n",
              "      <td>100.000000</td>\n",
              "      <td>100.000000</td>\n",
              "    </tr>\n",
              "    <tr>\n",
              "      <th>std</th>\n",
              "      <td>27.699526</td>\n",
              "      <td>32.284923</td>\n",
              "    </tr>\n",
              "    <tr>\n",
              "      <th>min</th>\n",
              "      <td>9.783333</td>\n",
              "      <td>20.495245</td>\n",
              "    </tr>\n",
              "    <tr>\n",
              "      <th>25%</th>\n",
              "      <td>79.793505</td>\n",
              "      <td>76.796704</td>\n",
              "    </tr>\n",
              "    <tr>\n",
              "      <th>50%</th>\n",
              "      <td>101.167464</td>\n",
              "      <td>98.578938</td>\n",
              "    </tr>\n",
              "    <tr>\n",
              "      <th>75%</th>\n",
              "      <td>118.477002</td>\n",
              "      <td>120.259471</td>\n",
              "    </tr>\n",
              "    <tr>\n",
              "      <th>max</th>\n",
              "      <td>175.378336</td>\n",
              "      <td>205.294335</td>\n",
              "    </tr>\n",
              "  </tbody>\n",
              "</table>\n",
              "</div>"
            ],
            "text/plain": [
              "       bull_rating  rider_rating\n",
              "count  2153.000000   2153.000000\n",
              "mean    100.000000    100.000000\n",
              "std      27.699526     32.284923\n",
              "min       9.783333     20.495245\n",
              "25%      79.793505     76.796704\n",
              "50%     101.167464     98.578938\n",
              "75%     118.477002    120.259471\n",
              "max     175.378336    205.294335"
            ]
          },
          "metadata": {},
          "execution_count": 162
        }
      ]
    },
    {
      "cell_type": "code",
      "metadata": {
        "colab": {
          "base_uri": "https://localhost:8080/",
          "height": 1000
        },
        "id": "iQIlmUBF_JSN",
        "outputId": "e1579cd8-d2ff-4b28-b31d-ddb1cbbd5042"
      },
      "source": [
        "ab.loc[:, ['bname', 'bull_rating']].groupby(['bname'], as_index=False).max().sort_values('bull_rating', ascending=False).head(20)"
      ],
      "execution_count": null,
      "outputs": [
        {
          "output_type": "display_data",
          "data": {
            "application/javascript": [
              "\n",
              "  for (rule of document.styleSheets[0].cssRules){\n",
              "    if (rule.selectorText=='body') {\n",
              "      rule.style.fontSize = '28px'\n",
              "      break\n",
              "    }\n",
              "  }\n",
              "  "
            ],
            "text/plain": [
              "<IPython.core.display.Javascript object>"
            ]
          },
          "metadata": {}
        },
        {
          "output_type": "execute_result",
          "data": {
            "text/html": [
              "<div>\n",
              "<style scoped>\n",
              "    .dataframe tbody tr th:only-of-type {\n",
              "        vertical-align: middle;\n",
              "    }\n",
              "\n",
              "    .dataframe tbody tr th {\n",
              "        vertical-align: top;\n",
              "    }\n",
              "\n",
              "    .dataframe thead th {\n",
              "        text-align: right;\n",
              "    }\n",
              "</style>\n",
              "<table border=\"1\" class=\"dataframe\">\n",
              "  <thead>\n",
              "    <tr style=\"text-align: right;\">\n",
              "      <th></th>\n",
              "      <th>bname</th>\n",
              "      <th>bull_rating</th>\n",
              "    </tr>\n",
              "  </thead>\n",
              "  <tbody>\n",
              "    <tr>\n",
              "      <th>487</th>\n",
              "      <td>The Right Stuff</td>\n",
              "      <td>175.378336</td>\n",
              "    </tr>\n",
              "    <tr>\n",
              "      <th>447</th>\n",
              "      <td>Smooth Operator</td>\n",
              "      <td>173.898375</td>\n",
              "    </tr>\n",
              "    <tr>\n",
              "      <th>227</th>\n",
              "      <td>Hostage</td>\n",
              "      <td>168.728550</td>\n",
              "    </tr>\n",
              "    <tr>\n",
              "      <th>238</th>\n",
              "      <td>I'm Busted</td>\n",
              "      <td>168.377678</td>\n",
              "    </tr>\n",
              "    <tr>\n",
              "      <th>45</th>\n",
              "      <td>Blue Crush</td>\n",
              "      <td>164.720708</td>\n",
              "    </tr>\n",
              "    <tr>\n",
              "      <th>253</th>\n",
              "      <td>Jive Turkey</td>\n",
              "      <td>164.139047</td>\n",
              "    </tr>\n",
              "    <tr>\n",
              "      <th>115</th>\n",
              "      <td>CopperPoint Swagger</td>\n",
              "      <td>164.055128</td>\n",
              "    </tr>\n",
              "    <tr>\n",
              "      <th>7</th>\n",
              "      <td>American Gangster</td>\n",
              "      <td>163.197173</td>\n",
              "    </tr>\n",
              "    <tr>\n",
              "      <th>239</th>\n",
              "      <td>I'm Legit Too</td>\n",
              "      <td>162.616561</td>\n",
              "    </tr>\n",
              "    <tr>\n",
              "      <th>465</th>\n",
              "      <td>Strange Cargo</td>\n",
              "      <td>162.332910</td>\n",
              "    </tr>\n",
              "    <tr>\n",
              "      <th>190</th>\n",
              "      <td>Ground Assault</td>\n",
              "      <td>161.561928</td>\n",
              "    </tr>\n",
              "    <tr>\n",
              "      <th>344</th>\n",
              "      <td>Old Fort Days</td>\n",
              "      <td>158.386750</td>\n",
              "    </tr>\n",
              "    <tr>\n",
              "      <th>466</th>\n",
              "      <td>Stretch</td>\n",
              "      <td>157.700023</td>\n",
              "    </tr>\n",
              "    <tr>\n",
              "      <th>27</th>\n",
              "      <td>Big Black Cat</td>\n",
              "      <td>157.346758</td>\n",
              "    </tr>\n",
              "    <tr>\n",
              "      <th>478</th>\n",
              "      <td>Talking Smack</td>\n",
              "      <td>156.817860</td>\n",
              "    </tr>\n",
              "    <tr>\n",
              "      <th>448</th>\n",
              "      <td>Smooth Over</td>\n",
              "      <td>156.212408</td>\n",
              "    </tr>\n",
              "    <tr>\n",
              "      <th>79</th>\n",
              "      <td>Canadian Mist</td>\n",
              "      <td>155.674902</td>\n",
              "    </tr>\n",
              "    <tr>\n",
              "      <th>439</th>\n",
              "      <td>Slingin Lead</td>\n",
              "      <td>154.221394</td>\n",
              "    </tr>\n",
              "    <tr>\n",
              "      <th>187</th>\n",
              "      <td>Good Night Robicheaux</td>\n",
              "      <td>154.050309</td>\n",
              "    </tr>\n",
              "    <tr>\n",
              "      <th>283</th>\n",
              "      <td>Little Hott</td>\n",
              "      <td>153.554850</td>\n",
              "    </tr>\n",
              "  </tbody>\n",
              "</table>\n",
              "</div>"
            ],
            "text/plain": [
              "                     bname  bull_rating\n",
              "487        The Right Stuff   175.378336\n",
              "447        Smooth Operator   173.898375\n",
              "227                Hostage   168.728550\n",
              "238             I'm Busted   168.377678\n",
              "45              Blue Crush   164.720708\n",
              "253            Jive Turkey   164.139047\n",
              "115    CopperPoint Swagger   164.055128\n",
              "7        American Gangster   163.197173\n",
              "239          I'm Legit Too   162.616561\n",
              "465          Strange Cargo   162.332910\n",
              "190         Ground Assault   161.561928\n",
              "344          Old Fort Days   158.386750\n",
              "466                Stretch   157.700023\n",
              "27           Big Black Cat   157.346758\n",
              "478          Talking Smack   156.817860\n",
              "448            Smooth Over   156.212408\n",
              "79           Canadian Mist   155.674902\n",
              "439           Slingin Lead   154.221394\n",
              "187  Good Night Robicheaux   154.050309\n",
              "283            Little Hott   153.554850"
            ]
          },
          "metadata": {},
          "execution_count": 163
        }
      ]
    },
    {
      "cell_type": "code",
      "metadata": {
        "colab": {
          "base_uri": "https://localhost:8080/",
          "height": 1000
        },
        "id": "f8GhTQXuu8RC",
        "outputId": "7f51d645-a58d-4073-a276-a0e02a797c7a"
      },
      "source": [
        "ab.loc[:, ['contestant', 'rider_rating']].groupby(['contestant'], as_index=False).max().sort_values('rider_rating', ascending=False).head(20)"
      ],
      "execution_count": null,
      "outputs": [
        {
          "output_type": "display_data",
          "data": {
            "application/javascript": [
              "\n",
              "  for (rule of document.styleSheets[0].cssRules){\n",
              "    if (rule.selectorText=='body') {\n",
              "      rule.style.fontSize = '28px'\n",
              "      break\n",
              "    }\n",
              "  }\n",
              "  "
            ],
            "text/plain": [
              "<IPython.core.display.Javascript object>"
            ]
          },
          "metadata": {}
        },
        {
          "output_type": "execute_result",
          "data": {
            "text/html": [
              "<div>\n",
              "<style scoped>\n",
              "    .dataframe tbody tr th:only-of-type {\n",
              "        vertical-align: middle;\n",
              "    }\n",
              "\n",
              "    .dataframe tbody tr th {\n",
              "        vertical-align: top;\n",
              "    }\n",
              "\n",
              "    .dataframe thead th {\n",
              "        text-align: right;\n",
              "    }\n",
              "</style>\n",
              "<table border=\"1\" class=\"dataframe\">\n",
              "  <thead>\n",
              "    <tr style=\"text-align: right;\">\n",
              "      <th></th>\n",
              "      <th>contestant</th>\n",
              "      <th>rider_rating</th>\n",
              "    </tr>\n",
              "  </thead>\n",
              "  <tbody>\n",
              "    <tr>\n",
              "      <th>57</th>\n",
              "      <td>Jose Vitor Leme</td>\n",
              "      <td>205.294335</td>\n",
              "    </tr>\n",
              "    <tr>\n",
              "      <th>62</th>\n",
              "      <td>Kaique Pacheco</td>\n",
              "      <td>201.232379</td>\n",
              "    </tr>\n",
              "    <tr>\n",
              "      <th>75</th>\n",
              "      <td>Marco Eguchi</td>\n",
              "      <td>189.297757</td>\n",
              "    </tr>\n",
              "    <tr>\n",
              "      <th>73</th>\n",
              "      <td>Lucas Divino</td>\n",
              "      <td>185.232553</td>\n",
              "    </tr>\n",
              "    <tr>\n",
              "      <th>30</th>\n",
              "      <td>Cooper Davis</td>\n",
              "      <td>184.578316</td>\n",
              "    </tr>\n",
              "    <tr>\n",
              "      <th>11</th>\n",
              "      <td>Boudreaux Campbell</td>\n",
              "      <td>174.728814</td>\n",
              "    </tr>\n",
              "    <tr>\n",
              "      <th>42</th>\n",
              "      <td>Ezekiel Mitchell</td>\n",
              "      <td>171.465503</td>\n",
              "    </tr>\n",
              "    <tr>\n",
              "      <th>84</th>\n",
              "      <td>Ramon de Lima</td>\n",
              "      <td>168.777389</td>\n",
              "    </tr>\n",
              "    <tr>\n",
              "      <th>77</th>\n",
              "      <td>Mason Taylor</td>\n",
              "      <td>167.769805</td>\n",
              "    </tr>\n",
              "    <tr>\n",
              "      <th>35</th>\n",
              "      <td>Dener Barbosa</td>\n",
              "      <td>167.191710</td>\n",
              "    </tr>\n",
              "    <tr>\n",
              "      <th>48</th>\n",
              "      <td>JB Mauney</td>\n",
              "      <td>166.910786</td>\n",
              "    </tr>\n",
              "    <tr>\n",
              "      <th>40</th>\n",
              "      <td>Eduardo Aparecido</td>\n",
              "      <td>165.115204</td>\n",
              "    </tr>\n",
              "    <tr>\n",
              "      <th>55</th>\n",
              "      <td>Joao Ricardo Vieira</td>\n",
              "      <td>164.599898</td>\n",
              "    </tr>\n",
              "    <tr>\n",
              "      <th>90</th>\n",
              "      <td>Silvano Alves</td>\n",
              "      <td>164.559071</td>\n",
              "    </tr>\n",
              "    <tr>\n",
              "      <th>53</th>\n",
              "      <td>Jess Lockwood</td>\n",
              "      <td>164.058179</td>\n",
              "    </tr>\n",
              "    <tr>\n",
              "      <th>16</th>\n",
              "      <td>Brennon Eldred</td>\n",
              "      <td>163.366406</td>\n",
              "    </tr>\n",
              "    <tr>\n",
              "      <th>12</th>\n",
              "      <td>Bradley Brittain</td>\n",
              "      <td>161.270370</td>\n",
              "    </tr>\n",
              "    <tr>\n",
              "      <th>34</th>\n",
              "      <td>Daylon Swearingen</td>\n",
              "      <td>161.002870</td>\n",
              "    </tr>\n",
              "    <tr>\n",
              "      <th>91</th>\n",
              "      <td>Stetson Lawrence</td>\n",
              "      <td>160.073180</td>\n",
              "    </tr>\n",
              "    <tr>\n",
              "      <th>36</th>\n",
              "      <td>Derek Kolbaba</td>\n",
              "      <td>159.998904</td>\n",
              "    </tr>\n",
              "  </tbody>\n",
              "</table>\n",
              "</div>"
            ],
            "text/plain": [
              "             contestant  rider_rating\n",
              "57      Jose Vitor Leme    205.294335\n",
              "62       Kaique Pacheco    201.232379\n",
              "75         Marco Eguchi    189.297757\n",
              "73         Lucas Divino    185.232553\n",
              "30         Cooper Davis    184.578316\n",
              "11   Boudreaux Campbell    174.728814\n",
              "42     Ezekiel Mitchell    171.465503\n",
              "84        Ramon de Lima    168.777389\n",
              "77         Mason Taylor    167.769805\n",
              "35        Dener Barbosa    167.191710\n",
              "48            JB Mauney    166.910786\n",
              "40    Eduardo Aparecido    165.115204\n",
              "55  Joao Ricardo Vieira    164.599898\n",
              "90        Silvano Alves    164.559071\n",
              "53        Jess Lockwood    164.058179\n",
              "16       Brennon Eldred    163.366406\n",
              "12     Bradley Brittain    161.270370\n",
              "34    Daylon Swearingen    161.002870\n",
              "91     Stetson Lawrence    160.073180\n",
              "36        Derek Kolbaba    159.998904"
            ]
          },
          "metadata": {},
          "execution_count": 164
        }
      ]
    },
    {
      "cell_type": "code",
      "metadata": {
        "colab": {
          "base_uri": "https://localhost:8080/",
          "height": 543
        },
        "id": "w9t7_Z2Aa0fp",
        "outputId": "ce6fe6cf-68eb-4154-90ff-12b30c199ee4"
      },
      "source": [
        "sns.lineplot(data=ab, x='n_bull_appearances', y='bull_rating', hue='pbid')\n",
        "sns.lineplot(data=ab, x='n_bull_appearances', y='bull_rating')\n",
        "plt.show()\n",
        "\n",
        "sns.lineplot(data=ab, x='n_rider_appearances', y='rider_rating', hue='guyid')\n",
        "sns.lineplot(data=ab, x='n_rider_appearances', y='rider_rating')\n",
        "plt.show()"
      ],
      "execution_count": null,
      "outputs": [
        {
          "output_type": "display_data",
          "data": {
            "application/javascript": [
              "\n",
              "  for (rule of document.styleSheets[0].cssRules){\n",
              "    if (rule.selectorText=='body') {\n",
              "      rule.style.fontSize = '28px'\n",
              "      break\n",
              "    }\n",
              "  }\n",
              "  "
            ],
            "text/plain": [
              "<IPython.core.display.Javascript object>"
            ]
          },
          "metadata": {}
        },
        {
          "output_type": "display_data",
          "data": {
            "image/png": "[encoded data removed]",
            "text/plain": [
              "<Figure size 432x288 with 1 Axes>"
            ]
          },
          "metadata": {
            "needs_background": "light"
          }
        },
        {
          "output_type": "display_data",
          "data": {
            "image/png": "[encoded data removed]",
            "text/plain": [
              "<Figure size 432x288 with 1 Axes>"
            ]
          },
          "metadata": {
            "needs_background": "light"
          }
        }
      ]
    },
    {
      "cell_type": "code",
      "metadata": {
        "colab": {
          "base_uri": "https://localhost:8080/",
          "height": 765
        },
        "id": "LmXVNhw8Ll-W",
        "outputId": "e872929d-d043-401f-9c01-0914340e58d6"
      },
      "source": [
        "row"
      ],
      "execution_count": null,
      "outputs": [
        {
          "output_type": "display_data",
          "data": {
            "application/javascript": [
              "\n",
              "  for (rule of document.styleSheets[0].cssRules){\n",
              "    if (rule.selectorText=='body') {\n",
              "      rule.style.fontSize = '28px'\n",
              "      break\n",
              "    }\n",
              "  }\n",
              "  "
            ],
            "text/plain": [
              "<IPython.core.display.Javascript object>"
            ]
          },
          "metadata": {}
        },
        {
          "output_type": "execute_result",
          "data": {
            "text/plain": [
              "guyid                               6629\n",
              "year                                2020\n",
              "pbid                               41416\n",
              "rid                                AB523\n",
              "perf                                 05F\n",
              "contestant             Eduardo Aparecido\n",
              "sc                                     0\n",
              "ja                                 22.75\n",
              "jb                                 22.75\n",
              "time                                2.83\n",
              "go                                     F\n",
              "comments                               *\n",
              "mid                               453035\n",
              "qr                                     0\n",
              "isout                                  1\n",
              "make8                                  0\n",
              "rodeo_level                           AB\n",
              "aid                                   AB\n",
              "nid                                  523\n",
              "n_rider_appearances                   51\n",
              "n_bull_appearances                    12\n",
              "Name: 91093, dtype: object"
            ]
          },
          "metadata": {},
          "execution_count": 21
        }
      ]
    }
  ]
}