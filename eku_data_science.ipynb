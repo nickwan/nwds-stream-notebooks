{
  "nbformat": 4,
  "nbformat_minor": 0,
  "metadata": {
    "colab": {
      "provenance": [],
      "mount_file_id": "11ElbOto4mEmwlQETPJ-wo2LYndrCpclx",
      "authorship_tag": "ABX9TyMBblchbjTX6FPGr1RGywyC",
      "include_colab_link": true
    },
    "kernelspec": {
      "name": "python3",
      "display_name": "Python 3"
    },
    "language_info": {
      "name": "python"
    }
  },
  "cells": [
    {
      "cell_type": "markdown",
      "metadata": {
        "id": "view-in-github",
        "colab_type": "text"
      },
      "source": [
        "<a href=\"https://colab.research.google.com/github/nickwan/nwds-stream-notebooks/blob/main/eku_data_science.ipynb\" target=\"_parent\"><img src=\"https://colab.research.google.com/assets/colab-badge.svg\" alt=\"Open In Colab\"/></a>"
      ]
    },
    {
      "cell_type": "code",
      "metadata": {
        "id": "wh5lHDIvWo3g"
      },
      "source": [
        "import sys\n",
        "sys.path.append('drive/My Drive/getting_into_sports')\n",
        "from getting_into_sports_utils import *\n",
        "\n",
        "def increase_font():\n",
        "  from IPython.display import Javascript\n",
        "  display(Javascript('''\n",
        "  for (rule of document.styleSheets[0].cssRules){\n",
        "    if (rule.selectorText=='body') {\n",
        "      rule.style.fontSize = '24px'\n",
        "      break\n",
        "    }\n",
        "  }\n",
        "  '''))\n",
        "get_ipython().events.register('pre_run_cell', increase_font)"
      ],
      "execution_count": null,
      "outputs": []
    },
    {
      "cell_type": "code",
      "metadata": {
        "colab": {
          "base_uri": "https://localhost:8080/",
          "height": 257
        },
        "id": "98rHDfhFIFWM",
        "outputId": "59755821-9899-4970-d5cd-f91394e8d251"
      },
      "source": [
        "who_am_i(less_deep=True)"
      ],
      "execution_count": null,
      "outputs": [
        {
          "output_type": "display_data",
          "data": {
            "application/javascript": [
              "\n",
              "  for (rule of document.styleSheets[0].cssRules){\n",
              "    if (rule.selectorText=='body') {\n",
              "      rule.style.fontSize = '24px'\n",
              "      break\n",
              "    }\n",
              "  }\n",
              "  "
            ],
            "text/plain": [
              "<IPython.core.display.Javascript object>"
            ]
          },
          "metadata": {}
        },
        {
          "output_type": "stream",
          "name": "stdout",
          "text": [
            "\n",
            "        Nick Wan, PhD  \n",
            "        Manager, Data Science  \n",
            "        KFC \n",
            "\n",
            "        Please contact me! \n",
            "        email: nick.wan@yum.com\n",
            "        \n"
          ]
        }
      ]
    },
    {
      "cell_type": "code",
      "metadata": {
        "colab": {
          "base_uri": "https://localhost:8080/",
          "height": 557
        },
        "id": "VAk54ZFGLn2W",
        "outputId": "00538ddd-8a87-4819-e1de-a3966a7633e6"
      },
      "source": [
        "how_did_i_get_my_job(time_period='right now')"
      ],
      "execution_count": null,
      "outputs": [
        {
          "output_type": "display_data",
          "data": {
            "application/javascript": [
              "\n",
              "  for (rule of document.styleSheets[0].cssRules){\n",
              "    if (rule.selectorText=='body') {\n",
              "      rule.style.fontSize = '24px'\n",
              "      break\n",
              "    }\n",
              "  }\n",
              "  "
            ],
            "text/plain": [
              "<IPython.core.display.Javascript object>"
            ]
          },
          "metadata": {}
        },
        {
          "output_type": "stream",
          "name": "stdout",
          "text": [
            "\n",
            "        Now:\n",
            "        \n",
            "        Manager of Data Science at KFC  \n",
            "          I manage a small team of data people  \n",
            "          We work on predicting why people buy our product  \n",
            "          \n",
            "        I stream data science and live coding on Twitch \n",
            "          twitch.tv/nickwan_datasci  \n",
            "          I am sponsored to stream data science by HP  \n",
            "\n",
            "        I am a game show host (SLICED)  \n",
            "          Four data scientists compete against each other \n",
            "          It's like the Food Network show Chopped!  \n",
            "\n",
            "        I am a data science and neuroscience consultant  \n",
            "\n",
            "        \n"
          ]
        }
      ]
    },
    {
      "cell_type": "code",
      "metadata": {
        "colab": {
          "base_uri": "https://localhost:8080/",
          "height": 137
        },
        "id": "PE5qWVFOM887",
        "outputId": "968efa50-b428-43fe-828f-2e2df54da73c"
      },
      "source": [
        "how_i_learned_programming()"
      ],
      "execution_count": null,
      "outputs": [
        {
          "output_type": "display_data",
          "data": {
            "application/javascript": [
              "\n",
              "  for (rule of document.styleSheets[0].cssRules){\n",
              "    if (rule.selectorText=='body') {\n",
              "      rule.style.fontSize = '24px'\n",
              "      break\n",
              "    }\n",
              "  }\n",
              "  "
            ],
            "text/plain": [
              "<IPython.core.display.Javascript object>"
            ]
          },
          "metadata": {}
        },
        {
          "output_type": "stream",
          "name": "stdout",
          "text": [
            "1. Started with MATLAB\n",
            "2. Redid an entire project in Python\n",
            "3. A lot of Google to fill in the blanks\n",
            "4. One workshop to learn SQL \n"
          ]
        }
      ]
    },
    {
      "cell_type": "code",
      "metadata": {
        "colab": {
          "base_uri": "https://localhost:8080/",
          "height": 617
        },
        "id": "an6c8v8HM_97",
        "outputId": "805bb759-3080-4dfc-bc06-5399ba7f7460"
      },
      "source": [
        "dont_do_what_i_did()"
      ],
      "execution_count": null,
      "outputs": [
        {
          "output_type": "display_data",
          "data": {
            "application/javascript": [
              "\n",
              "  for (rule of document.styleSheets[0].cssRules){\n",
              "    if (rule.selectorText=='body') {\n",
              "      rule.style.fontSize = '24px'\n",
              "      break\n",
              "    }\n",
              "  }\n",
              "  "
            ],
            "text/plain": [
              "<IPython.core.display.Javascript object>"
            ]
          },
          "metadata": {}
        },
        {
          "output_type": "stream",
          "name": "stdout",
          "text": [
            "\n",
            "      It's inefficient!  \n",
            "        You can learn the basics of data science without \n",
            "        having to get your PhD or be a neuroscientist\n",
            "\n",
            "        Experiencing life is cool but so is having money  \n",
            "\n",
            "      There's more than one way to learn about management!  \n",
            "        At your company, make it clear you \n",
            "        want to be a manager  \n",
            "\n",
            "        Managing in multiple places does help, but you \n",
            "        tend to have to prove your worth before you get \n",
            "        managerial responsibilities  \n",
            "\n",
            "      Making money sooner > making money later  \n",
            "        I delayed my career and was really poor because of it  \n",
            "\n",
            "        Taking care of yourself is important!  \n",
            "      \n"
          ]
        }
      ]
    },
    {
      "cell_type": "code",
      "metadata": {
        "colab": {
          "base_uri": "https://localhost:8080/",
          "height": 227
        },
        "id": "B0Otr9GgNq_a",
        "outputId": "8372fee2-96f2-4b65-99ef-b136cf6b7fa5"
      },
      "source": [
        "things_that_seem_important(personally_speaking=True)"
      ],
      "execution_count": null,
      "outputs": [
        {
          "output_type": "display_data",
          "data": {
            "application/javascript": [
              "\n",
              "  for (rule of document.styleSheets[0].cssRules){\n",
              "    if (rule.selectorText=='body') {\n",
              "      rule.style.fontSize = '24px'\n",
              "      break\n",
              "    }\n",
              "  }\n",
              "  "
            ],
            "text/plain": [
              "<IPython.core.display.Javascript object>"
            ]
          },
          "metadata": {}
        },
        {
          "output_type": "stream",
          "name": "stdout",
          "text": [
            "\n",
            "    - Can explain what they did\n",
            "    - Can walk me through methodology\n",
            "    - Has multiple ways to solve a problem\n",
            "    - Works well on a team\n",
            "    \n",
            "    \n"
          ]
        }
      ]
    },
    {
      "cell_type": "code",
      "metadata": {
        "colab": {
          "base_uri": "https://localhost:8080/",
          "height": 377
        },
        "id": "aEBmlGjIO-Wn",
        "outputId": "5a3194b2-d55b-4368-8176-d977d9d74000"
      },
      "source": [
        "things_i_recommend(hot_takes=True)"
      ],
      "execution_count": null,
      "outputs": [
        {
          "output_type": "display_data",
          "data": {
            "application/javascript": [
              "\n",
              "  for (rule of document.styleSheets[0].cssRules){\n",
              "    if (rule.selectorText=='body') {\n",
              "      rule.style.fontSize = '24px'\n",
              "      break\n",
              "    }\n",
              "  }\n",
              "  "
            ],
            "text/plain": [
              "<IPython.core.display.Javascript object>"
            ]
          },
          "metadata": {}
        },
        {
          "output_type": "stream",
          "name": "stdout",
          "text": [
            "\n",
            "        It's easier to get a job if you can \n",
            "        demonstrate your interest in the field\n",
            "\n",
            "        People will read too much into your resume. \n",
            "        You might have to do more than Others to \n",
            "        show your abilities  \n",
            "\n",
            "        Your first role might take a long time to get \n",
            "        but once you're in, you're in.\n",
            "\n",
            "        \n"
          ]
        }
      ]
    },
    {
      "cell_type": "code",
      "metadata": {
        "colab": {
          "base_uri": "https://localhost:8080/",
          "height": 547
        },
        "id": "hSRJSltJQ7b3",
        "outputId": "e5da3cce-ac3f-4a35-c358-c7d7eaa877fc"
      },
      "source": [
        "advice_for_jobseekers()"
      ],
      "execution_count": null,
      "outputs": [
        {
          "output_type": "display_data",
          "data": {
            "application/javascript": [
              "\n",
              "  for (rule of document.styleSheets[0].cssRules){\n",
              "    if (rule.selectorText=='body') {\n",
              "      rule.style.fontSize = '24px'\n",
              "      break\n",
              "    }\n",
              "  }\n",
              "  "
            ],
            "text/plain": [
              "<IPython.core.display.Javascript object>"
            ]
          },
          "metadata": {}
        },
        {
          "output_type": "stream",
          "name": "stdout",
          "text": [
            "\n",
            "      Optimize your resume!  \n",
            "        Get friends to look at it  \n",
            "        Get people in industry to look at it  \n",
            "        Get your professors and advisors to look at it  \n",
            "        Look at other people who have roles you want  \n",
            "        Read about what HR departments looks for  \n",
            "\n",
            "      Get to know the industries you are applying for  \n",
            "        Know about what projects are worked on  \n",
            "        Learn how you can apply your skills to solve industry problems  \n",
            "      \n",
            "      Practice data science  \n",
            "        Read about technical checks, problem sets, take-home assessments  \n",
            "        There are courses out there on how to do well on some assessments  \n",
            "        If you can, spend time working on data science projects  \n",
            "      \n"
          ]
        }
      ]
    },
    {
      "cell_type": "code",
      "metadata": {
        "colab": {
          "base_uri": "https://localhost:8080/",
          "height": 197
        },
        "id": "ZW6fLyrNRdaq",
        "outputId": "a9f810d9-4ce3-4ce3-bf17-c44da5895330"
      },
      "source": [
        "the_future_of_hiring()"
      ],
      "execution_count": null,
      "outputs": [
        {
          "output_type": "display_data",
          "data": {
            "application/javascript": [
              "\n",
              "  for (rule of document.styleSheets[0].cssRules){\n",
              "    if (rule.selectorText=='body') {\n",
              "      rule.style.fontSize = '24px'\n",
              "      break\n",
              "    }\n",
              "  }\n",
              "  "
            ],
            "text/plain": [
              "<IPython.core.display.Javascript object>"
            ]
          },
          "metadata": {}
        },
        {
          "output_type": "stream",
          "name": "stdout",
          "text": [
            "\n",
            "      Abolish the resume  \n",
            "\n",
            "      Assess candidates on their ability to perform the job\n",
            "      (skill assessments related to the actual role)\n",
            "      \n"
          ]
        }
      ]
    },
    {
      "cell_type": "code",
      "metadata": {
        "colab": {
          "base_uri": "https://localhost:8080/",
          "height": 427
        },
        "id": "iJS9u_F5RzGK",
        "outputId": "0e277504-afd4-47c0-ed1a-de5eddcbe480"
      },
      "source": [
        "who_am_i(less_deep=True, shoutout_to_myself=True)"
      ],
      "execution_count": null,
      "outputs": [
        {
          "output_type": "display_data",
          "data": {
            "application/javascript": [
              "\n",
              "  for (rule of document.styleSheets[0].cssRules){\n",
              "    if (rule.selectorText=='body') {\n",
              "      rule.style.fontSize = '24px'\n",
              "      break\n",
              "    }\n",
              "  }\n",
              "  "
            ],
            "text/plain": [
              "<IPython.core.display.Javascript object>"
            ]
          },
          "metadata": {}
        },
        {
          "output_type": "stream",
          "name": "stdout",
          "text": [
            "\n",
            "        Nick Wan, PhD  \n",
            "        Manager, Data Science  \n",
            "        KFC \n",
            "\n",
            "        Please contact me! \n",
            "        email: nick.wan@yum.com\n",
            "        \n",
            "\n",
            "        Follow me on Twitch: nickwan_datasci (https://twitch.tv/nickwan_datasci)\n",
            "        Follow me on YouTube: nickwan (https://youtube.com/c/nickwan)\n",
            "        \n",
            "        \n"
          ]
        }
      ]
    }
  ]
}