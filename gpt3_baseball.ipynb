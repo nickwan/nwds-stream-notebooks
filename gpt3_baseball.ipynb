{
  "nbformat": 4,
  "nbformat_minor": 0,
  "metadata": {
    "colab": {
      "provenance": [],
      "mount_file_id": "1yExF_iPtGlfgkPQeUpOJLLSEiqb4qOAZ",
      "authorship_tag": "ABX9TyOfHH+Azy6iEb4wFXYEvTwR",
      "include_colab_link": true
    },
    "kernelspec": {
      "name": "python3",
      "display_name": "Python 3"
    },
    "language_info": {
      "name": "python"
    }
  },
  "cells": [
    {
      "cell_type": "markdown",
      "metadata": {
        "id": "view-in-github",
        "colab_type": "text"
      },
      "source": [
        "<a href=\"https://colab.research.google.com/github/nickwan/nwds-stream-notebooks/blob/main/gpt3_baseball.ipynb\" target=\"_parent\"><img src=\"https://colab.research.google.com/assets/colab-badge.svg\" alt=\"Open In Colab\"/></a>"
      ]
    },
    {
      "cell_type": "code",
      "source": [
        "def increase_font():\n",
        "  from IPython.display import Javascript\n",
        "  display(Javascript('''\n",
        "  for (rule of document.styleSheets[0].cssRules){\n",
        "    if (rule.selectorText=='body') {\n",
        "      rule.style.fontSize = '28px'\n",
        "      break\n",
        "    }\n",
        "  }\n",
        "  '''))\n",
        "get_ipython().events.register('pre_run_cell', increase_font)"
      ],
      "metadata": {
        "id": "N2wJluzdCFmh"
      },
      "execution_count": null,
      "outputs": []
    },
    {
      "cell_type": "code",
      "execution_count": null,
      "metadata": {
        "colab": {
          "base_uri": "https://localhost:8080/"
        },
        "id": "etxRHMO2AA40",
        "outputId": "50a47426-66e2-4cf7-a5e8-3f532325b4c9"
      },
      "outputs": [
        {
          "output_type": "stream",
          "name": "stdout",
          "text": [
            "Looking in indexes: https://pypi.org/simple, https://us-python.pkg.dev/colab-wheels/public/simple/\n",
            "Collecting openai\n",
            "  Downloading openai-0.25.0.tar.gz (44 kB)\n",
            "\u001b[K     |████████████████████████████████| 44 kB 2.2 MB/s \n",
            "\u001b[?25h  Installing build dependencies ... \u001b[?25l\u001b[?25hdone\n",
            "  Getting requirements to build wheel ... \u001b[?25l\u001b[?25hdone\n",
            "    Preparing wheel metadata ... \u001b[?25l\u001b[?25hdone\n",
            "Collecting pandas-stubs>=1.1.0.11\n",
            "  Downloading pandas_stubs-1.5.2.221213-py3-none-any.whl (147 kB)\n",
            "\u001b[K     |████████████████████████████████| 147 kB 11.6 MB/s \n",
            "\u001b[?25hRequirement already satisfied: openpyxl>=3.0.7 in /usr/local/lib/python3.8/dist-packages (from openai) (3.0.10)\n",
            "Requirement already satisfied: typing-extensions in /usr/local/lib/python3.8/dist-packages (from openai) (4.4.0)\n",
            "Requirement already satisfied: numpy in /usr/local/lib/python3.8/dist-packages (from openai) (1.21.6)\n",
            "Requirement already satisfied: requests>=2.20 in /usr/local/lib/python3.8/dist-packages (from openai) (2.23.0)\n",
            "Requirement already satisfied: tqdm in /usr/local/lib/python3.8/dist-packages (from openai) (4.64.1)\n",
            "Requirement already satisfied: pandas>=1.2.3 in /usr/local/lib/python3.8/dist-packages (from openai) (1.3.5)\n",
            "Requirement already satisfied: et-xmlfile in /usr/local/lib/python3.8/dist-packages (from openpyxl>=3.0.7->openai) (1.1.0)\n",
            "Requirement already satisfied: python-dateutil>=2.7.3 in /usr/local/lib/python3.8/dist-packages (from pandas>=1.2.3->openai) (2.8.2)\n",
            "Requirement already satisfied: pytz>=2017.3 in /usr/local/lib/python3.8/dist-packages (from pandas>=1.2.3->openai) (2022.6)\n",
            "Collecting types-pytz>=2022.1.1\n",
            "  Downloading types_pytz-2022.7.0.0-py3-none-any.whl (4.7 kB)\n",
            "Requirement already satisfied: six>=1.5 in /usr/local/lib/python3.8/dist-packages (from python-dateutil>=2.7.3->pandas>=1.2.3->openai) (1.15.0)\n",
            "Requirement already satisfied: certifi>=2017.4.17 in /usr/local/lib/python3.8/dist-packages (from requests>=2.20->openai) (2022.12.7)\n",
            "Requirement already satisfied: urllib3!=1.25.0,!=1.25.1,<1.26,>=1.21.1 in /usr/local/lib/python3.8/dist-packages (from requests>=2.20->openai) (1.24.3)\n",
            "Requirement already satisfied: chardet<4,>=3.0.2 in /usr/local/lib/python3.8/dist-packages (from requests>=2.20->openai) (3.0.4)\n",
            "Requirement already satisfied: idna<3,>=2.5 in /usr/local/lib/python3.8/dist-packages (from requests>=2.20->openai) (2.10)\n",
            "Building wheels for collected packages: openai\n",
            "  Building wheel for openai (PEP 517) ... \u001b[?25l\u001b[?25hdone\n",
            "  Created wheel for openai: filename=openai-0.25.0-py3-none-any.whl size=55880 sha256=0319ae8b2df3d833b353ecf327335652f9b1ea08ff2aa8744ed26452f2eee287\n",
            "  Stored in directory: /root/.cache/pip/wheels/4b/92/33/6f57c7aae0b16875267999a50570e81f15eecec577ebe05a2e\n",
            "Successfully built openai\n",
            "Installing collected packages: types-pytz, pandas-stubs, openai\n",
            "Successfully installed openai-0.25.0 pandas-stubs-1.5.2.221213 types-pytz-2022.7.0.0\n"
          ]
        }
      ],
      "source": [
        "!pip install openai\n",
        "!pip install pybaseball"
      ]
    },
    {
      "cell_type": "code",
      "source": [
        "import pybaseball as bb\n",
        "from pybaseball.datahelpers.statcast_utils import add_spray_angle\n",
        "import pandas as pd\n",
        "import numpy as np\n",
        "import seaborn as sns\n",
        "import matplotlib.pyplot as plt\n",
        "from sklearn.ensemble import RandomForestClassifier\n",
        "from sklearn.model_selection import GroupKFold\n",
        "from sklearn.metrics import log_loss, accuracy_score\n",
        "import openai\n",
        "import os\n",
        "\n",
        "\n",
        "apikey = open('drive/My Drive/gptlulw/openaikey.txt')\n",
        "openai.api_key = apikey.read()"
      ],
      "metadata": {
        "colab": {
          "base_uri": "https://localhost:8080/",
          "height": 17
        },
        "id": "nVXXCzJOAZvV",
        "outputId": "b3e053a1-5863-47de-8bfa-83f7872cb0cc"
      },
      "execution_count": null,
      "outputs": [
        {
          "output_type": "display_data",
          "data": {
            "text/plain": [
              "<IPython.core.display.Javascript object>"
            ],
            "application/javascript": [
              "\n",
              "  for (rule of document.styleSheets[0].cssRules){\n",
              "    if (rule.selectorText=='body') {\n",
              "      rule.style.fontSize = '28px'\n",
              "      break\n",
              "    }\n",
              "  }\n",
              "  "
            ]
          },
          "metadata": {}
        }
      ]
    },
    {
      "cell_type": "code",
      "source": [
        "def gpt3(prompt, max_tokens=500, engine='text-davinci-003'):\n",
        "  complete_me_bro = openai.Completion.create(engine=engine, prompt=prompt, max_tokens=max_tokens)\n",
        "  gen = f\"\"\"{prompt}{complete_me_bro['choices'][0]['text']}\"\"\"\n",
        "  gen = gen.lower()\n",
        "  return gen"
      ],
      "metadata": {
        "id": "r8vtCph1Ar5z"
      },
      "execution_count": null,
      "outputs": []
    },
    {
      "cell_type": "code",
      "source": [
        "prompt = \"which model is github copilot?\"\n",
        "gpt3(prompt)"
      ],
      "metadata": {
        "colab": {
          "base_uri": "https://localhost:8080/",
          "height": 121
        },
        "id": "-kOQ6-R9Ad9w",
        "outputId": "bd7ffa6b-0c4c-4960-83ff-ec045f1890ab"
      },
      "execution_count": null,
      "outputs": [
        {
          "output_type": "display_data",
          "data": {
            "text/plain": [
              "<IPython.core.display.Javascript object>"
            ],
            "application/javascript": [
              "\n",
              "  for (rule of document.styleSheets[0].cssRules){\n",
              "    if (rule.selectorText=='body') {\n",
              "      rule.style.fontSize = '28px'\n",
              "      break\n",
              "    }\n",
              "  }\n",
              "  "
            ]
          },
          "metadata": {}
        },
        {
          "output_type": "execute_result",
          "data": {
            "text/plain": [
              "'which model is github copilot?\\n\\ngithub copilot is not a model but an open source project by github that aims to guide users through the process of setting up a github repository.'"
            ],
            "application/vnd.google.colaboratory.intrinsic+json": {
              "type": "string"
            }
          },
          "metadata": {},
          "execution_count": 8
        }
      ]
    },
    {
      "cell_type": "code",
      "source": [
        "# df = bb.statcast(start_dt='2022-06-01', end_dt='2022-07-01')\n",
        "# df = add_spray_angle(df)\n",
        "# df = df.reset_index(drop=True)\n",
        "\n",
        "df['bats_lefty'] = df['stand'].replace(['R','L'],[0,1])\n",
        "df['park_code'] = df['home_team'].astype('category').cat.codes\n",
        "df['is_hr'] = 0\n",
        "df.loc[df['events']=='home_run', 'is_hr'] = 1\n",
        "id_feats = ['game_pk']\n",
        "feats = ['bats_lefty','launch_speed', 'launch_angle',\n",
        "         'spray_angle', 'park_code']\n",
        "target = 'is_hr'\n",
        "\n",
        "model_data = df.loc[:, id_feats+feats+[target]].dropna()\n",
        "\n",
        "kf = GroupKFold(5)\n",
        "s = pd.Series()\n",
        "for train_idx, test_idx in kf.split(model_data, groups=model_data['game_pk']):\n",
        "  train_data = model_data.iloc[train_idx]\n",
        "  test_data = model_data.iloc[test_idx]\n",
        "  model = RandomForestClassifier()\n",
        "  model.fit(train_data.loc[:, feats], train_data[target])\n",
        "  _s = pd.DataFrame(model.predict_proba(test_data.loc[:, feats]), index=test_data.index)[1]\n",
        "  s = s.append(_s)\n",
        "\n",
        "model_data[f\"{target}_rf\"] = s\n",
        "loss = log_loss(model_data[target],model_data[f\"{target}_rf\"])\n",
        "_df = model_data.loc[:, [target, f'{target}_rf']]\n",
        "_df[f'{target}_rf'] = _df[f'{target}_rf'].round(0).astype(int)\n",
        "acc = accuracy_score(_df.loc[_df[target]==1, target], _df.loc[_df[target]==1, f\"{target}_rf\"])\n",
        "print(f\"\"\"log loss: {loss}\\nacc: {acc}\"\"\")"
      ],
      "metadata": {
        "colab": {
          "base_uri": "https://localhost:8080/",
          "height": 176
        },
        "id": "eg4te8dlCiMM",
        "outputId": "d7a545e3-164a-4084-d059-08fc21f9e4de"
      },
      "execution_count": null,
      "outputs": [
        {
          "output_type": "display_data",
          "data": {
            "text/plain": [
              "<IPython.core.display.Javascript object>"
            ],
            "application/javascript": [
              "\n",
              "  for (rule of document.styleSheets[0].cssRules){\n",
              "    if (rule.selectorText=='body') {\n",
              "      rule.style.fontSize = '28px'\n",
              "      break\n",
              "    }\n",
              "  }\n",
              "  "
            ]
          },
          "metadata": {}
        },
        {
          "output_type": "stream",
          "name": "stderr",
          "text": [
            "<ipython-input-148-81f37bed854e>:17: DeprecationWarning: The default dtype for empty Series will be 'object' instead of 'float64' in a future version. Specify a dtype explicitly to silence this warning.\n",
            "  s = pd.Series()\n"
          ]
        },
        {
          "output_type": "stream",
          "name": "stdout",
          "text": [
            "log loss: 0.050811259251706535\n",
            "acc: 0.7307692307692307\n"
          ]
        }
      ]
    },
    {
      "cell_type": "code",
      "source": [
        "sns.kdeplot(model_data.loc[model_data[target]==1, f'{target}_rf'])\n",
        "model_data.loc[model_data[target]==1, f'{target}_rf'].describe()"
      ],
      "metadata": {
        "colab": {
          "base_uri": "https://localhost:8080/",
          "height": 592
        },
        "id": "U2p1HyZeWzy9",
        "outputId": "a2e70106-62d6-49d1-9953-15df0cabd9a5"
      },
      "execution_count": null,
      "outputs": [
        {
          "output_type": "display_data",
          "data": {
            "text/plain": [
              "<IPython.core.display.Javascript object>"
            ],
            "application/javascript": [
              "\n",
              "  for (rule of document.styleSheets[0].cssRules){\n",
              "    if (rule.selectorText=='body') {\n",
              "      rule.style.fontSize = '28px'\n",
              "      break\n",
              "    }\n",
              "  }\n",
              "  "
            ]
          },
          "metadata": {}
        },
        {
          "output_type": "execute_result",
          "data": {
            "text/plain": [
              "count    988.000000\n",
              "mean       0.668603\n",
              "std        0.283330\n",
              "min        0.000000\n",
              "25%        0.477500\n",
              "50%        0.760000\n",
              "75%        0.910000\n",
              "max        1.000000\n",
              "Name: is_hr_rf, dtype: float64"
            ]
          },
          "metadata": {},
          "execution_count": 149
        },
        {
          "output_type": "display_data",
          "data": {
            "text/plain": [
              "<Figure size 432x288 with 1 Axes>"
            ],
            "image/png": "[encoded data removed]"
          },
          "metadata": {
            "needs_background": "light"
          }
        }
      ]
    },
    {
      "cell_type": "code",
      "source": [
        "prompt = \"\"\"\n",
        "This code imported catboost `pool` and sklearn `GroupKFold` but did not incorporate it into the pipeline. Can you improve the code by incorporating `pool` and `GroupKFold` into the sklearn pipeline?\n",
        "\n",
        "```\n",
        "import pybaseball as bb\n",
        "from pybaseball.datahelpers.statcast_utils import add_spray_angle\n",
        "import pandas as pd\n",
        "import numpy as np\n",
        "import seaborn as sns\n",
        "import matplotlib.pyplot as plt\n",
        "from sklearn.ensemble import RandomForestClassifier\n",
        "from sklearn.model_selection import GroupKFold, GridSearchCV, train_test_split\n",
        "from sklearn.metrics import log_loss, accuracy_score\n",
        "\n",
        "\n",
        "df = bb.statcast(start_dt='2022-06-01', end_dt='2022-07-01')\n",
        "df = add_spray_angle(df)\n",
        "df = df.reset_index(drop=True)\n",
        "\n",
        "df['bats_lefty'] = df['stand'].replace(['R','L'],[0,1])\n",
        "df['park_code'] = df['home_team'].astype('category').cat.codes\n",
        "df['is_hr'] = 0\n",
        "df.loc[df['events']=='home_run', 'is_hr'] = 1\n",
        "feats = ['game_pk','bats_lefty','launch_speed', 'launch_angle',\n",
        "         'spray_angle', 'park_code']\n",
        "target = 'is_hr'\n",
        "\n",
        "model_data = df.loc[:, id_feats+feats+[target]].dropna()\n",
        "\n",
        "x, y = model_data[feats].values, model_data[target].values\n",
        "\n",
        "#define 5-fold grouped stratified cv\n",
        "group_kfold = groupkfold(n_splits=5).split(x=x, y=y, groups=model_data['game_pk'].values)\n",
        "\n",
        "#define catboost classifer\n",
        "from catboost import catboostclassifier, pool\n",
        "\n",
        "#setting catboost parameters\n",
        "catboost_params = {\n",
        "    'iterations': 500,\n",
        "    'learning_rate': 0.1,\n",
        "    'loss_function': 'logloss',\n",
        "    'logging_level': 'verbose',\n",
        "    }\n",
        "\n",
        "#init catboostclassifier\n",
        "catboost_model = catboostclassifier(**catboost_params)\n",
        "\n",
        "#define pipeline\n",
        "from sklearn.pipeline import pipeline\n",
        "\n",
        "catboost_pipeline = pipeline(steps=[\n",
        "    ('catboost_model', catboost_model)\n",
        "])\n",
        "\n",
        "#fit the model on training splits and evaluate on validation splits\n",
        "catboost_pipeline.fit(x, y)\n",
        "\n",
        "#predict the target\n",
        "y_pred = catboost_pipeline.predict(x)\n",
        "\"\"\""
      ],
      "metadata": {
        "colab": {
          "base_uri": "https://localhost:8080/",
          "height": 17
        },
        "id": "bn4vSXKtMsx7",
        "outputId": "0b5fcc3b-237b-4c13-c221-8f7f93774839"
      },
      "execution_count": null,
      "outputs": [
        {
          "output_type": "display_data",
          "data": {
            "text/plain": [
              "<IPython.core.display.Javascript object>"
            ],
            "application/javascript": [
              "\n",
              "  for (rule of document.styleSheets[0].cssRules){\n",
              "    if (rule.selectorText=='body') {\n",
              "      rule.style.fontSize = '28px'\n",
              "      break\n",
              "    }\n",
              "  }\n",
              "  "
            ]
          },
          "metadata": {}
        }
      ]
    },
    {
      "cell_type": "code",
      "source": [
        "resp = gpt3(prompt, max_tokens=1000)"
      ],
      "metadata": {
        "colab": {
          "base_uri": "https://localhost:8080/",
          "height": 17
        },
        "id": "X37Wjb9BOhkr",
        "outputId": "e9c5df62-5e2a-48ca-eafd-810696348525"
      },
      "execution_count": null,
      "outputs": [
        {
          "output_type": "display_data",
          "data": {
            "text/plain": [
              "<IPython.core.display.Javascript object>"
            ],
            "application/javascript": [
              "\n",
              "  for (rule of document.styleSheets[0].cssRules){\n",
              "    if (rule.selectorText=='body') {\n",
              "      rule.style.fontSize = '28px'\n",
              "      break\n",
              "    }\n",
              "  }\n",
              "  "
            ]
          },
          "metadata": {}
        }
      ]
    },
    {
      "cell_type": "code",
      "source": [
        "resp"
      ],
      "metadata": {
        "colab": {
          "base_uri": "https://localhost:8080/",
          "height": 607
        },
        "id": "tzPisZyiOj38",
        "outputId": "3adfda64-795f-40dc-8717-b3d68a83816a"
      },
      "execution_count": null,
      "outputs": [
        {
          "output_type": "display_data",
          "data": {
            "text/plain": [
              "<IPython.core.display.Javascript object>"
            ],
            "application/javascript": [
              "\n",
              "  for (rule of document.styleSheets[0].cssRules){\n",
              "    if (rule.selectorText=='body') {\n",
              "      rule.style.fontSize = '28px'\n",
              "      break\n",
              "    }\n",
              "  }\n",
              "  "
            ]
          },
          "metadata": {}
        },
        {
          "output_type": "execute_result",
          "data": {
            "text/plain": [
              "\"\\nthis code imported catboost `pool` and sklearn `groupkfold` but did not incorporate it into the pipeline. can you improve the code by incorporating `pool` and `groupkfold` into the sklearn pipeline? \\n\\n```\\nimport pybaseball as bb\\nfrom pybaseball.datahelpers.statcast_utils import add_spray_angle\\nimport pandas as pd\\nimport numpy as np\\nimport seaborn as sns \\nimport matplotlib.pyplot as plt \\nfrom sklearn.ensemble import randomforestclassifier\\nfrom sklearn.model_selection import groupkfold, gridsearchcv, train_test_split\\nfrom sklearn.metrics import log_loss, accuracy_score\\n\\n\\ndf = bb.statcast(start_dt='2022-06-01', end_dt='2022-07-01')\\ndf = add_spray_angle(df)\\ndf = df.reset_index(drop=true)\\n\\ndf['bats_lefty'] = df['stand'].replace(['r','l'],[0,1])\\ndf['park_code'] = df['home_team'].astype('category').cat.codes\\ndf['is_hr'] = 0\\ndf.loc[df['events']=='home_run', 'is_hr'] = 1\\nfeats = ['game_pk','bats_lefty','launch_speed', 'launch_angle', \\n         'spray_angle', 'park_code']\\ntarget = 'is_hr'\\n\\nmodel_data = df.loc[:, id_feats+feats+[target]].dropna()\\n\\nx, y = model_data[feats].values, model_data[target].values\\n\\n#define 5-fold grouped stratified cv \\ngroup_kfold = groupkfold(n_splits=5).split(x=x, y=y, groups=model_data['game_pk'].values)\\n\\n#define catboost classifer \\nfrom catboost import catboostclassifier, pool\\n\\n#setting catboost parameters \\ncatboost_params = {\\n    'iterations': 500,\\n    'learning_rate': 0.1,\\n    'loss_function': 'logloss',\\n    'logging_level': 'verbose',\\n    }\\n\\n#init catboostclassifier \\ncatboost_model = catboostclassifier(**catboost_params)\\n\\n#define pipeline\\nfrom sklearn.pipeline import pipeline\\n\\ncatboost_pipeline = pipeline(steps=[\\n    ('catboost_model', catboost_model)\\n])\\n\\n#fit the model on training splits and evaluate on validation splits \\ncatboost_pipeline.fit(x, y)\\n\\n#predict the target \\ny_pred = catboost_pipeline.predict(x)\\n\\n#assess performance using logloss\\nlog_loss(y_true=y, y_pred)\\n\\n```\\n\\n```\\nimport pybaseball as bb\\nfrom pybaseball.datahelpers.statcast_utils import add_spray_angle\\nimport pandas as pd\\nimport numpy as np\\nimport seaborn as sns \\nimport matplotlib.pyplot as plt \\nfrom sklearn.ensemble import randomforestclassifier\\nfrom sklearn.model_selection import groupkfold, gridsearchcv, train_test_split\\nfrom sklearn.metrics import log_loss, accuracy_score\\nfrom catboost import catboostclassifier, pool\\n\\n\\ndf = bb.statcast(start_dt='2022-06-01', end_dt='2022-07-01')\\ndf = add_spray_angle(df)\\ndf = df.reset_index(drop=true)\\n\\ndf['bats_lefty'] = df['stand'].replace(['r','l'],[0,1])\\ndf['park_code'] = df['home_team'].astype('category').cat.codes\\ndf['is_hr'] = 0\\ndf.loc[df['events']=='home_run', 'is_hr'] = 1\\nfeats = ['game_pk','bats_lefty','launch_speed', 'launch_angle', \\n         'spray_angle', 'park_code']\\ntarget = 'is_hr'\\n\\nmodel_data = df.loc[:, id_feats+feats+[target]].dropna()\\n\\nx, y = model_data[feats].values, model_data[target].values\\n\\n# split data into train/test \\nx_train, x_test, y_train, y_test = train_test_split(x, y, test_size=0.2, random_state=42)\\n\\n# define 5-fold grouped stratified cv \\ngroup_kfold = groupkfold(n_splits=5).split(x_train, y_train, groups=model_data['game_pk'].values)\\n\\n# create pool object to create data to pass into the catboost model \\n\\ntrain_pool = pool(data=x_train, label=y_train)\\n\\n# setting catboost parameters \\ncatboost_params = {\\n    'iterations': 500,\\n    'learning_rate': 0.1,\\n    'loss_function': 'logloss',\\n    'logging_level': 'verbose',\\n    }\\n\\n# initialize catboost classifier \\ncatboost_model = catboostclassifier(**catboost_params)\\n\\n# define pipeline\\nfrom sklearn.pipeline import pipeline\\n\\ncatboost_pipeline = pipeline(steps=[\\n    ('catboost_model', catboost_model)\\n])\\n\\n# fit the model on the train pool data and evaluate on the test pool data\\ncatboost_pipeline.fit(train_pool)\\n\\n# predict the target \\ny_pred = catboost_pipeline.predict(x_test)\\n\\n# assess performance using logloss\\nlog_loss(y_true=y, y_pred)\\n```\""
            ],
            "application/vnd.google.colaboratory.intrinsic+json": {
              "type": "string"
            }
          },
          "metadata": {},
          "execution_count": 160
        }
      ]
    },
    {
      "cell_type": "markdown",
      "source": [
        "\n",
        "this code imported catboost `pool` and sklearn `groupkfold` but did not incorporate it into the pipeline. can you improve the code by incorporating `pool` and `groupkfold` into the sklearn pipeline?\n",
        "\n",
        "```\n",
        "import pybaseball as bb\n",
        "from pybaseball.datahelpers.statcast_utils import add_spray_angle\n",
        "import pandas as pd\n",
        "import numpy as np\n",
        "import seaborn as sns\n",
        "import matplotlib.pyplot as plt\n",
        "from sklearn.ensemble import randomforestclassifier\n",
        "from sklearn.model_selection import groupkfold, gridsearchcv, train_test_split\n",
        "from sklearn.metrics import log_loss, accuracy_score\n",
        "\n",
        "\n",
        "df = bb.statcast(start_dt='2022-06-01', end_dt='2022-07-01')\n",
        "df = add_spray_angle(df)\n",
        "df = df.reset_index(drop=true)\n",
        "\n",
        "df['bats_lefty'] = df['stand'].replace(['r','l'],[0,1])\n",
        "df['park_code'] = df['home_team'].astype('category').cat.codes\n",
        "df['is_hr'] = 0\n",
        "df.loc[df['events']=='home_run', 'is_hr'] = 1\n",
        "feats = ['game_pk','bats_lefty','launch_speed', 'launch_angle',\n",
        "         'spray_angle', 'park_code']\n",
        "target = 'is_hr'\n",
        "\n",
        "model_data = df.loc[:, id_feats+feats+[target]].dropna()\n",
        "\n",
        "x, y = model_data[feats].values, model_data[target].values\n",
        "\n",
        "#define 5-fold grouped stratified cv\n",
        "group_kfold = groupkfold(n_splits=5).split(x=x, y=y, groups=model_data['game_pk'].values)\n",
        "\n",
        "#define catboost classifer\n",
        "from catboost import catboostclassifier, pool\n",
        "\n",
        "#setting catboost parameters\n",
        "catboost_params = {\n",
        "    'iterations': 500,\n",
        "    'learning_rate': 0.1,\n",
        "    'loss_function': 'logloss',\n",
        "    'logging_level': 'verbose',\n",
        "    }\n",
        "\n",
        "#init catboostclassifier\n",
        "catboost_model = catboostclassifier(**catboost_params)\n",
        "\n",
        "#define pipeline\n",
        "from sklearn.pipeline import pipeline\n",
        "\n",
        "catboost_pipeline = pipeline(steps=[\n",
        "    ('catboost_model', catboost_model)\n",
        "])\n",
        "\n",
        "#fit the model on training splits and evaluate on validation splits\n",
        "catboost_pipeline.fit(x, y)\n",
        "\n",
        "#predict the target\n",
        "y_pred = catboost_pipeline.predict(x)\n",
        "\n",
        "#assess performance using logloss\n",
        "log_loss(y_true=y, y_pred)\n",
        "\n",
        "```\n",
        "\n",
        "```\n"
      ],
      "metadata": {
        "id": "h_m3Pl67On3W"
      }
    },
    {
      "cell_type": "code",
      "source": [
        "import pybaseball as bb\n",
        "from pybaseball.datahelpers.statcast_utils import add_spray_angle\n",
        "import pandas as pd\n",
        "import numpy as np\n",
        "import seaborn as sns\n",
        "import matplotlib.pyplot as plt\n",
        "from sklearn.ensemble import RandomForestClassifier\n",
        "from sklearn.model_selection import GroupKFold, GridSearchCV, train_test_split\n",
        "from sklearn.metrics import log_loss, accuracy_score\n",
        "\n",
        "\n",
        "# df = bb.statcast(start_dt='2022-06-01', end_dt='2022-07-01')\n",
        "# df = add_spray_angle(df)\n",
        "# df = df.reset_index(drop=True)\n",
        "\n",
        "df['bats_lefty'] = df['stand'].replace(['R','L'],[0,1])\n",
        "df['park_code'] = df['home_team'].astype('category').cat.codes\n",
        "df['is_hr'] = 0\n",
        "df.loc[df['events']=='home_run', 'is_hr'] = 1\n",
        "feats = ['game_pk','bats_lefty','launch_speed', 'launch_angle',\n",
        "         'spray_angle', 'park_code']\n",
        "target = 'is_hr'\n",
        "\n",
        "model_data = df.loc[:, id_feats+feats+[target]].dropna()\n",
        "\n",
        "x, y = model_data[feats].values, model_data[target].values\n",
        "\n",
        "#define 5-fold grouped stratified cv\n",
        "group_kfold = groupkfold(n_splits=5).split(x=x, y=y, groups=model_data['game_pk'].values)\n",
        "\n",
        "#define catboost classifer\n",
        "from catboost import catboostclassifier, pool\n",
        "\n",
        "#setting catboost parameters\n",
        "catboost_params = {\n",
        "    'iterations': 500,\n",
        "    'learning_rate': 0.1,\n",
        "    'loss_function': 'logloss',\n",
        "    'logging_level': 'verbose',\n",
        "    }\n",
        "\n",
        "#init catboostclassifier\n",
        "catboost_model = catboostclassifier(**catboost_params)\n",
        "\n",
        "#define pipeline\n",
        "from sklearn.pipeline import pipeline\n",
        "\n",
        "catboost_pipeline = pipeline(steps=[\n",
        "    ('catboost_model', catboost_model)\n",
        "])\n",
        "\n",
        "#fit the model on training splits and evaluate on validation splits\n",
        "catboost_pipeline.fit(x, y)\n",
        "\n",
        "#predict the target\n",
        "y_pred = catboost_pipeline.predict(x)\n",
        "\n",
        "#calculate model performance\n",
        "print('accuracy score: {}'.format(accuracy_score(y, y_pred)))\n",
        "print('log-loss loss: {}'.format(log_loss(y, y_pred)))\n",
        "```\n",
        "\n",
        "the improved code can incorporate `pool` and `groupkfold` into the sklearn pipeline by using the `cross_val_score` module instead of the `fit` method, and instead of directly predicting the target with the `predict` method, the code should use the `cross_val_score` function to evaluate the model's performance on the different splits.\n",
        "\n",
        "```\n",
        "import pybaseball as bb\n",
        "from pybaseball.datahelpers.statcast_utils import add_spray_angle\n",
        "import pandas as pd\n",
        "import numpy as np\n",
        "import seaborn as sns\n",
        "import matplotlib.pyplot as plt\n",
        "from sklearn.ensemble import randomforestclassifier\n",
        "from sklearn.model_selection import groupkfold, gridsearchcv, train_test_split\n",
        "from sklearn.metrics import log_loss, accuracy_score\n",
        "from catboost import catboostclassifier, pool\n",
        "\n",
        "\n",
        "df = bb.statcast(start_dt='2022-06-01', end_dt='2022-07-01')\n",
        "df = add_spray_angle(df)\n",
        "df = df.reset_index(drop=true)\n",
        "\n",
        "df['bats_lefty'] = df['stand'].replace(['r','l'],[0,1])\n",
        "df['park_code'] = df['home_team'].astype('category').cat.codes\n",
        "df['is_hr'] = 0\n",
        "df.loc[df['events']=='home_run', 'is_hr'] = 1\n",
        "feats = ['game_pk','bats_lefty','launch_speed', 'launch_angle',\n",
        "         'spray_angle', 'park_code']\n",
        "target = 'is_hr'\n",
        "\n",
        "model_data = df.loc[:, id_feats+feats+[target]].dropna()\n",
        "\n",
        "x, y = model_data[feats].values, model_data[target].values\n",
        "\n",
        "# split data into train/test\n",
        "x_train, x_test, y_train, y_test = train_test_split(x, y, test_size=0.2, random_state=42)\n",
        "\n",
        "# define 5-fold grouped stratified cv\n",
        "group_kfold = groupkfold(n_splits=5).split(x_train, y_train, groups=model_data['game_pk'].values)\n",
        "\n",
        "# create pool object to create data to pass into the catboost model\n",
        "\n",
        "train_pool = pool(data=x_train, label=y_train)\n",
        "\n",
        "# setting catboost parameters\n",
        "catboost_params = {\n",
        "    'iterations': 500,\n",
        "    'learning_rate': 0.1,\n",
        "    'loss_function': 'logloss',\n",
        "    'logging_level': 'verbose',\n",
        "    }\n",
        "\n",
        "# initialize catboost classifier\n",
        "catboost_model = catboostclassifier(**catboost_params)\n",
        "\n",
        "# define pipeline\n",
        "from sklearn.pipeline import pipeline\n",
        "\n",
        "catboost_pipeline = pipeline(steps=[\n",
        "    ('catboost_model', catboost_model)\n",
        "])\n",
        "\n",
        "# fit the model on the train pool data and evaluate on the test pool data\n",
        "catboost_pipeline.fit(train_pool)\n",
        "\n",
        "# predict the target\n",
        "y_pred = catboost_pipeline.predict(x_test)\n",
        "\n",
        "# assess performance using logloss\n",
        "log_loss(y_true=y, y_pred)\n",
        "```"
      ],
      "metadata": {
        "id": "3pyVAGLNOyD3"
      },
      "execution_count": null,
      "outputs": []
    },
    {
      "cell_type": "code",
      "source": [
        "model_data['pred'] = pd.Series(pd.DataFrame(preds, index=model_data.index)[1], index=model_data.index)"
      ],
      "metadata": {
        "colab": {
          "base_uri": "https://localhost:8080/",
          "height": 17
        },
        "id": "GvY2xkJGWXWP",
        "outputId": "131cf866-21ad-4ba5-9043-a446e9fa8696"
      },
      "execution_count": null,
      "outputs": [
        {
          "output_type": "display_data",
          "data": {
            "text/plain": [
              "<IPython.core.display.Javascript object>"
            ],
            "application/javascript": [
              "\n",
              "  for (rule of document.styleSheets[0].cssRules){\n",
              "    if (rule.selectorText=='body') {\n",
              "      rule.style.fontSize = '28px'\n",
              "      break\n",
              "    }\n",
              "  }\n",
              "  "
            ]
          },
          "metadata": {}
        }
      ]
    },
    {
      "cell_type": "code",
      "source": [
        "sns.kdeplot(model_data.loc[model_data[target]==1, 'pred'])\n",
        "model_data.loc[model_data[target]==1, 'pred'].describe()"
      ],
      "metadata": {
        "colab": {
          "base_uri": "https://localhost:8080/",
          "height": 591
        },
        "id": "6YWIf1XVV8yt",
        "outputId": "9657f2ed-91cd-484d-9f32-9f9f93448c77"
      },
      "execution_count": null,
      "outputs": [
        {
          "output_type": "display_data",
          "data": {
            "text/plain": [
              "<IPython.core.display.Javascript object>"
            ],
            "application/javascript": [
              "\n",
              "  for (rule of document.styleSheets[0].cssRules){\n",
              "    if (rule.selectorText=='body') {\n",
              "      rule.style.fontSize = '28px'\n",
              "      break\n",
              "    }\n",
              "  }\n",
              "  "
            ]
          },
          "metadata": {}
        },
        {
          "output_type": "execute_result",
          "data": {
            "text/plain": [
              "count    988.000000\n",
              "mean       0.866285\n",
              "std        0.103175\n",
              "min        0.490000\n",
              "25%        0.800000\n",
              "50%        0.890000\n",
              "75%        0.950000\n",
              "max        1.000000\n",
              "Name: pred, dtype: float64"
            ]
          },
          "metadata": {},
          "execution_count": 147
        },
        {
          "output_type": "display_data",
          "data": {
            "text/plain": [
              "<Figure size 432x288 with 1 Axes>"
            ],
            "image/png": "[encoded data removed]"
          },
          "metadata": {
            "needs_background": "light"
          }
        }
      ]
    },
    {
      "cell_type": "code",
      "source": [],
      "metadata": {
        "colab": {
          "base_uri": "https://localhost:8080/",
          "height": 17
        },
        "id": "KQ17erKGS5yh",
        "outputId": "b3fc1de0-acfb-4d3a-b656-a728580b4819"
      },
      "execution_count": null,
      "outputs": [
        {
          "output_type": "display_data",
          "data": {
            "text/plain": [
              "<IPython.core.display.Javascript object>"
            ],
            "application/javascript": [
              "\n",
              "  for (rule of document.styleSheets[0].cssRules){\n",
              "    if (rule.selectorText=='body') {\n",
              "      rule.style.fontSize = '28px'\n",
              "      break\n",
              "    }\n",
              "  }\n",
              "  "
            ]
          },
          "metadata": {}
        }
      ]
    },
    {
      "cell_type": "code",
      "source": [
        "model_data['pred']"
      ],
      "metadata": {
        "colab": {
          "base_uri": "https://localhost:8080/",
          "height": 434
        },
        "id": "yK84fAkEVLvk",
        "outputId": "daebbe79-cf40-4e8d-c43c-6ab596fac56c"
      },
      "execution_count": null,
      "outputs": [
        {
          "output_type": "display_data",
          "data": {
            "text/plain": [
              "<IPython.core.display.Javascript object>"
            ],
            "application/javascript": [
              "\n",
              "  for (rule of document.styleSheets[0].cssRules){\n",
              "    if (rule.selectorText=='body') {\n",
              "      rule.style.fontSize = '28px'\n",
              "      break\n",
              "    }\n",
              "  }\n",
              "  "
            ]
          },
          "metadata": {}
        },
        {
          "output_type": "execute_result",
          "data": {
            "text/plain": [
              "0         0\n",
              "1         0\n",
              "4         0\n",
              "8         0\n",
              "16        0\n",
              "         ..\n",
              "122711    0\n",
              "122718    0\n",
              "122733    0\n",
              "122741    0\n",
              "122751    0\n",
              "Name: pred, Length: 21596, dtype: int64"
            ]
          },
          "metadata": {},
          "execution_count": 135
        }
      ]
    },
    {
      "cell_type": "markdown",
      "source": [],
      "metadata": {
        "id": "5lydH0ffOvYI"
      }
    }
  ]
}