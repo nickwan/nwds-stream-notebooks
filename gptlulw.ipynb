{
  "nbformat": 4,
  "nbformat_minor": 0,
  "metadata": {
    "colab": {
      "provenance": [],
      "machine_shape": "hm",
      "collapsed_sections": [
        "8rqbTZV1Auvy"
      ],
      "mount_file_id": "1DZXP5HW5bENSXAW7KXWKSQXqeKOoWkul",
      "authorship_tag": "ABX9TyOv2QDt3A+XG2BrIJH7oMRc",
      "include_colab_link": true
    },
    "kernelspec": {
      "name": "python3",
      "display_name": "Python 3"
    },
    "language_info": {
      "name": "python"
    }
  },
  "cells": [
    {
      "cell_type": "markdown",
      "metadata": {
        "id": "view-in-github",
        "colab_type": "text"
      },
      "source": [
        "<a href=\"https://colab.research.google.com/github/nickwan/nwds-stream-notebooks/blob/main/gptlulw.ipynb\" target=\"_parent\"><img src=\"https://colab.research.google.com/assets/colab-badge.svg\" alt=\"Open In Colab\"/></a>"
      ]
    },
    {
      "cell_type": "markdown",
      "metadata": {
        "id": "kV_pZ60fCUkR"
      },
      "source": [
        "# gpt3 omegalul"
      ]
    },
    {
      "cell_type": "code",
      "source": [
        "# !pip install chat-downloader\n",
        "# from chat_downloader import ChatDownloader\n",
        "# urls = [\"https://www.twitch.tv/videos/1107382565\",\n",
        "#         \"https://www.twitch.tv/videos/1114553508\",\n",
        "#         \"https://www.twitch.tv/videos/1121570254\"]\n",
        "\n",
        "# sliced_chat = pd.DataFrame()\n",
        "# for url in urls:\n",
        "#   downloader = ChatDownloader()\n",
        "#   chat = downloader.get_chat(url=url)\n",
        "#   vod = [msg for msg in chat]\n",
        "#   vod = pd.DataFrame(vod)\n",
        "#   vod['user'] = pd.json_normalize(vod['author'])['name']\n",
        "#   vod['title'] = chat.title\n",
        "#   vod['id'] = chat.id\n",
        "#   sliced_chat = sliced_chat.append(vod, ignore_index=True)\n",
        "# sliced_chat.to_csv(f\"{rconfdir}/data/sliced_chat.csv\", index=False)"
      ],
      "metadata": {
        "id": "WTnb_TuIhph7"
      },
      "execution_count": null,
      "outputs": []
    },
    {
      "cell_type": "code",
      "metadata": {
        "colab": {
          "base_uri": "https://localhost:8080/"
        },
        "id": "DOh1ybHkCppm",
        "outputId": "d30feceb-7e3a-4b99-83e9-1b45cd65b2ce"
      },
      "source": [
        "!pip install openai"
      ],
      "execution_count": null,
      "outputs": [
        {
          "output_type": "stream",
          "name": "stdout",
          "text": [
            "Requirement already satisfied: openai in /usr/local/lib/python3.11/dist-packages (1.76.0)\n",
            "Requirement already satisfied: anyio<5,>=3.5.0 in /usr/local/lib/python3.11/dist-packages (from openai) (4.9.0)\n",
            "Requirement already satisfied: distro<2,>=1.7.0 in /usr/local/lib/python3.11/dist-packages (from openai) (1.9.0)\n",
            "Requirement already satisfied: httpx<1,>=0.23.0 in /usr/local/lib/python3.11/dist-packages (from openai) (0.28.1)\n",
            "Requirement already satisfied: jiter<1,>=0.4.0 in /usr/local/lib/python3.11/dist-packages (from openai) (0.9.0)\n",
            "Requirement already satisfied: pydantic<3,>=1.9.0 in /usr/local/lib/python3.11/dist-packages (from openai) (2.11.3)\n",
            "Requirement already satisfied: sniffio in /usr/local/lib/python3.11/dist-packages (from openai) (1.3.1)\n",
            "Requirement already satisfied: tqdm>4 in /usr/local/lib/python3.11/dist-packages (from openai) (4.67.1)\n",
            "Requirement already satisfied: typing-extensions<5,>=4.11 in /usr/local/lib/python3.11/dist-packages (from openai) (4.13.2)\n",
            "Requirement already satisfied: idna>=2.8 in /usr/local/lib/python3.11/dist-packages (from anyio<5,>=3.5.0->openai) (3.10)\n",
            "Requirement already satisfied: certifi in /usr/local/lib/python3.11/dist-packages (from httpx<1,>=0.23.0->openai) (2025.1.31)\n",
            "Requirement already satisfied: httpcore==1.* in /usr/local/lib/python3.11/dist-packages (from httpx<1,>=0.23.0->openai) (1.0.9)\n",
            "Requirement already satisfied: h11>=0.16 in /usr/local/lib/python3.11/dist-packages (from httpcore==1.*->httpx<1,>=0.23.0->openai) (0.16.0)\n",
            "Requirement already satisfied: annotated-types>=0.6.0 in /usr/local/lib/python3.11/dist-packages (from pydantic<3,>=1.9.0->openai) (0.7.0)\n",
            "Requirement already satisfied: pydantic-core==2.33.1 in /usr/local/lib/python3.11/dist-packages (from pydantic<3,>=1.9.0->openai) (2.33.1)\n",
            "Requirement already satisfied: typing-inspection>=0.4.0 in /usr/local/lib/python3.11/dist-packages (from pydantic<3,>=1.9.0->openai) (0.4.0)\n"
          ]
        }
      ]
    },
    {
      "cell_type": "code",
      "metadata": {
        "id": "CG1UFVP0CYGT"
      },
      "source": [
        "import openai\n",
        "import os\n",
        "import matplotlib.pyplot as plt"
      ],
      "execution_count": null,
      "outputs": []
    },
    {
      "cell_type": "code",
      "metadata": {
        "id": "YU5qq6CBMexm"
      },
      "source": [
        "apikey = open('drive/My Drive/gptlulw/openaikey.txt')\n",
        "openai.api_key = apikey.read()"
      ],
      "execution_count": null,
      "outputs": []
    },
    {
      "cell_type": "markdown",
      "source": [
        "#funcs"
      ],
      "metadata": {
        "id": "Ri9JwB9u1M3U"
      }
    },
    {
      "cell_type": "code",
      "metadata": {
        "id": "wb8t8eXVFfQB"
      },
      "source": [
        "def tarot2img(reading, question, tarot_type):\n",
        "  _question = question.replace('\\n','')\n",
        "  plt_question = f'The Question:\\n\"{_question}\"\\n'\n",
        "  plt_role = f'\\nThe Type of Tarot Reader:\\n\"A tarot reader who is also {tarot_type}\"\\n\\nThe Reading:'\n",
        "  fig = plt.figure(figsize=(10,5))\n",
        "  plt.plot([0,1],[0,1],alpha=0)\n",
        "  plt.style.use('dark_background')\n",
        "  plt.text(0,1,f\"{plt_question}{plt_role}{reading}\", wrap=True, fontsize=30, color='w', ha='left')\n",
        "  plt.gca().spines.top.set_visible(False)\n",
        "  plt.gca().spines.bottom.set_visible(False)\n",
        "  plt.gca().spines.left.set_visible(False)\n",
        "  plt.gca().spines.right.set_visible(False)\n",
        "  plt.gca().get_xaxis().set_visible(False)\n",
        "  plt.gca().get_yaxis().set_visible(False)\n",
        "  plt.show()\n",
        "  plt.close()\n",
        "  return None\n",
        "\n",
        "def tarot(question, card=False, tarot_type=\"smart\"):\n",
        "  max_tokens = 500\n",
        "  model = 'gpt-4-turbo'\n",
        "\n",
        "  if not card:\n",
        "    messages = [\n",
        "            {\"role\": \"system\", \"content\": f\"You are an interface that draws a card from a smith-waite tarot deck. You just print the name of the card. Example: The Five of Swords\"},\n",
        "            {\"role\": \"user\", \"content\": \"Draw a card.\"}\n",
        "        ]\n",
        "    card_draw = openai.ChatCompletion.create(model=model, messages=messages, max_tokens=max_tokens)\n",
        "    card = card_draw['choices'][0]['message']['content']\n",
        "\n",
        "\n",
        "  messages = [\n",
        "          {\"role\": \"system\", \"content\": f\"You are a tarot reader who is also {tarot_type}.\"},\n",
        "          {\"role\": \"user\", \"content\": question},\n",
        "          {\"role\": \"system\", \"content\": f\"The card is {card}.\"},\n",
        "      ]\n",
        "  complete_me_bro = openai. .create(model=model, messages=messages, max_tokens=max_tokens)\n",
        "  reading = complete_me_bro['choices'][0]['message']['content']\n",
        "  tarot2img(reading, question, tarot_type)\n",
        "  return reading\n",
        "\n"
      ],
      "execution_count": null,
      "outputs": []
    },
    {
      "cell_type": "code",
      "source": [
        "# max_tokens = 10000\n",
        "# model = 'gpt-4'\n",
        "\n",
        "# abstract = \"\"\"\n",
        "# Abstract Cancer is a tumor that affects people worldwide, with a higher incidence in females but not excluding males. It ranks among the top five deadliest types of cancer, particularly prevalent in less developed countries with deficient healthcare programs. Finding the best algorithm for effective breast cancer prediction with minimal error is crucial. In this scientific article, we employed the SMOTE method in conjunction with the R package Shiny to enhance the algorithms and improve prediction accuracy. We classified the tumor types as benign and malignant (B/M). Various algorithms were analyzed using a Kaggle dataset, and our study identified the superior algorithm as logistic regression. We evaluated algorithm performance using confusion matrices to visualize results and the ROC Curve to obtain a comprehensive measure of performance. Additionally, we calculated precision by dividing the number of correct predictions by the total predictions Keywords Breast cancer, Smote, Benign, Malignant.\n",
        "# \"\"\"\n",
        "# _remainder = max_tokens - (4*len(abstract))\n",
        "# messages = [\n",
        "#         {\"role\": \"system\", \"content\": f\"You are a marketing copywriter whose specialty is seamlessly inserting sponsorship promotions into academic research paragraphs. You always tag your inserted sponsorship lines with this phrase: #SponsoredText\"},\n",
        "#         {\"role\": \"user\", \"content\": f\"{abstract}\"}\n",
        "#     ]\n",
        "# chat =\n",
        "# response = chat['choices'][0]['message']['content']\n"
      ],
      "metadata": {
        "id": "T7Jy4YgidKrH",
        "colab": {
          "base_uri": "https://localhost:8080/",
          "height": 106
        },
        "outputId": "07487c97-c8ab-4e08-9f97-bdaf905dc9f0"
      },
      "execution_count": null,
      "outputs": [
        {
          "output_type": "error",
          "ename": "SyntaxError",
          "evalue": "invalid syntax (<ipython-input-6-7e82e2d5a58d>, line 12)",
          "traceback": [
            "\u001b[0;36m  File \u001b[0;32m\"<ipython-input-6-7e82e2d5a58d>\"\u001b[0;36m, line \u001b[0;32m12\u001b[0m\n\u001b[0;31m    chat =\u001b[0m\n\u001b[0m          ^\u001b[0m\n\u001b[0;31mSyntaxError\u001b[0m\u001b[0;31m:\u001b[0m invalid syntax\n"
          ]
        }
      ]
    },
    {
      "cell_type": "code",
      "source": [
        "response"
      ],
      "metadata": {
        "id": "jvlA4qEGe-w-"
      },
      "execution_count": null,
      "outputs": []
    },
    {
      "cell_type": "markdown",
      "source": [
        "Abstract Cancer is a tumor that affects people worldwide, with a higher incidence in females but not excluding males. It ranks among the top five deadliest types of cancer, particularly prevalent in less developed countries with deficient healthcare programs. Finding the best algorithm for effective breast cancer prediction with minimal error is crucial. In this scientific article, we employed the SMOTE method in conjunction with the R package Shiny to enhance the algorithms and improve prediction accuracy. We classified the tumor types as benign and malignant (B/M). Various algorithms were analyzed using a Kaggle dataset, and our study identified the superior algorithm as logistic regression. We evaluated algorithm performance using confusion matrices to visualize results and the ROC Curve to obtain a comprehensive measure of performance. Additionally, we calculated precision by dividing the number of correct predictions by the total predictions Keywords Breast cancer, Smote, Benign, Malignant."
      ],
      "metadata": {
        "id": "cCcQQkn9fJwM"
      }
    },
    {
      "cell_type": "markdown",
      "source": [
        "Abstract: Cancer is a tumor that affects people worldwide, with a higher incidence in females but not excluding males. It ranks among the top five deadliest types of cancer, particularly prevalent in less developed countries with deficient health care programs.\n",
        "\n",
        "As we endeavor to tackle this health crisis, the importance of maintaining physical wellness cannot be overstressed. At Planet Fitness, we believe that investing in your health is paramount to living a beneficial life. Our state-of-the-art facilities are equipped with everything you need to keep fit and healthy. You're not just another customer at Planet Fitness, you're family. Join us today and together let's make your health a priority #SponsoredText.\n",
        "\n",
        "Finding the best algorithm for effective breast cancer prediction with minimal error is crucial. In this scientific article, we employed the SMOTE method in conjunction with the R package Shiny to enhance the algorithms and improve prediction accuracy. We classified the tumor types as benign and malignant (B/M).\n",
        "\n",
        "Various algorithms were analyzed using a Kaggle dataset, and our study identified the superior algorithm as logistic regression. We evaluated algorithm performance using confusion matrices to visualize results and the ROC Curve to obtain a comprehensive measure of performance. Additionally, we calculated precision by dividing the number of correct predictions by the total predictions.\n",
        "\n",
        "Keywords: Breast cancer, Smote, Benign, Malign, Planet Fitness #SponsoredText."
      ],
      "metadata": {
        "id": "b9G54n1rfEbl"
      }
    },
    {
      "cell_type": "code",
      "source": [],
      "metadata": {
        "id": "l1BOcDTzfD97"
      },
      "execution_count": null,
      "outputs": []
    },
    {
      "cell_type": "markdown",
      "source": [
        "#Readings"
      ],
      "metadata": {
        "id": "h1PsolPFuHvo"
      }
    },
    {
      "cell_type": "code",
      "source": [
        "question = \"\"\"\n",
        "will doug be no longer sick tomorrow?\n",
        "\"\"\"\n",
        "tarot_type = 'An ear-nose-throat doctor who specializes in celestial healing'\n",
        "reading = tarot(question, card='Justice', tarot_type=tarot_type)"
      ],
      "metadata": {
        "colab": {
          "base_uri": "https://localhost:8080/",
          "height": 297
        },
        "id": "cBj2gZoxuJRh",
        "outputId": "58fe6b78-f6ea-4600-d4bc-dd6ac3f7f8e5"
      },
      "execution_count": null,
      "outputs": [
        {
          "output_type": "error",
          "ename": "TypeError",
          "evalue": "'ChatCompletion' object is not subscriptable",
          "traceback": [
            "\u001b[0;31m---------------------------------------------------------------------------\u001b[0m",
            "\u001b[0;31mTypeError\u001b[0m                                 Traceback (most recent call last)",
            "\u001b[0;32m<ipython-input-8-77f2d69514b9>\u001b[0m in \u001b[0;36m<cell line: 0>\u001b[0;34m()\u001b[0m\n\u001b[1;32m      3\u001b[0m \"\"\"\n\u001b[1;32m      4\u001b[0m \u001b[0mtarot_type\u001b[0m \u001b[0;34m=\u001b[0m \u001b[0;34m'An ear-nose-throat doctor who specializes in celestial healing'\u001b[0m\u001b[0;34m\u001b[0m\u001b[0;34m\u001b[0m\u001b[0m\n\u001b[0;32m----> 5\u001b[0;31m \u001b[0mreading\u001b[0m \u001b[0;34m=\u001b[0m \u001b[0mtarot\u001b[0m\u001b[0;34m(\u001b[0m\u001b[0mquestion\u001b[0m\u001b[0;34m,\u001b[0m \u001b[0mcard\u001b[0m\u001b[0;34m=\u001b[0m\u001b[0;34m'Justice'\u001b[0m\u001b[0;34m,\u001b[0m \u001b[0mtarot_type\u001b[0m\u001b[0;34m=\u001b[0m\u001b[0mtarot_type\u001b[0m\u001b[0;34m)\u001b[0m\u001b[0;34m\u001b[0m\u001b[0;34m\u001b[0m\u001b[0m\n\u001b[0m",
            "\u001b[0;32m<ipython-input-7-23c2a62ca49a>\u001b[0m in \u001b[0;36mtarot\u001b[0;34m(question, card, tarot_type)\u001b[0m\n\u001b[1;32m     36\u001b[0m       ]\n\u001b[1;32m     37\u001b[0m   \u001b[0mcomplete_me_bro\u001b[0m \u001b[0;34m=\u001b[0m \u001b[0mopenai\u001b[0m\u001b[0;34m.\u001b[0m\u001b[0mchat\u001b[0m\u001b[0;34m.\u001b[0m\u001b[0mcompletions\u001b[0m\u001b[0;34m.\u001b[0m\u001b[0mcreate\u001b[0m\u001b[0;34m(\u001b[0m\u001b[0mmodel\u001b[0m\u001b[0;34m=\u001b[0m\u001b[0mmodel\u001b[0m\u001b[0;34m,\u001b[0m \u001b[0mmessages\u001b[0m\u001b[0;34m=\u001b[0m\u001b[0mmessages\u001b[0m\u001b[0;34m,\u001b[0m \u001b[0mmax_tokens\u001b[0m\u001b[0;34m=\u001b[0m\u001b[0mmax_tokens\u001b[0m\u001b[0;34m)\u001b[0m\u001b[0;34m\u001b[0m\u001b[0;34m\u001b[0m\u001b[0m\n\u001b[0;32m---> 38\u001b[0;31m   \u001b[0mreading\u001b[0m \u001b[0;34m=\u001b[0m \u001b[0mcomplete_me_bro\u001b[0m\u001b[0;34m[\u001b[0m\u001b[0;34m'choices'\u001b[0m\u001b[0;34m]\u001b[0m\u001b[0;34m[\u001b[0m\u001b[0;36m0\u001b[0m\u001b[0;34m]\u001b[0m\u001b[0;34m[\u001b[0m\u001b[0;34m'message'\u001b[0m\u001b[0;34m]\u001b[0m\u001b[0;34m[\u001b[0m\u001b[0;34m'content'\u001b[0m\u001b[0;34m]\u001b[0m\u001b[0;34m\u001b[0m\u001b[0;34m\u001b[0m\u001b[0m\n\u001b[0m\u001b[1;32m     39\u001b[0m   \u001b[0mtarot2img\u001b[0m\u001b[0;34m(\u001b[0m\u001b[0mreading\u001b[0m\u001b[0;34m,\u001b[0m \u001b[0mquestion\u001b[0m\u001b[0;34m,\u001b[0m \u001b[0mtarot_type\u001b[0m\u001b[0;34m)\u001b[0m\u001b[0;34m\u001b[0m\u001b[0;34m\u001b[0m\u001b[0m\n\u001b[1;32m     40\u001b[0m   \u001b[0;32mreturn\u001b[0m \u001b[0mreading\u001b[0m\u001b[0;34m\u001b[0m\u001b[0;34m\u001b[0m\u001b[0m\n",
            "\u001b[0;31mTypeError\u001b[0m: 'ChatCompletion' object is not subscriptable"
          ]
        }
      ]
    }
  ]
}