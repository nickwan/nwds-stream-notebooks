{
  "nbformat": 4,
  "nbformat_minor": 0,
  "metadata": {
    "colab": {
      "provenance": [],
      "mount_file_id": "1PD4mE5C2sACHoczXQMQejM02VhFxPais",
      "authorship_tag": "ABX9TyNxljY794GtJEpq6nD5RaeN",
      "include_colab_link": true
    },
    "kernelspec": {
      "name": "python3",
      "display_name": "Python 3"
    },
    "language_info": {
      "name": "python"
    }
  },
  "cells": [
    {
      "cell_type": "markdown",
      "metadata": {
        "id": "view-in-github",
        "colab_type": "text"
      },
      "source": [
        "<a href=\"https://colab.research.google.com/github/nickwan/nwds-stream-notebooks/blob/main/history_of_my_comps.ipynb\" target=\"_parent\"><img src=\"https://colab.research.google.com/assets/colab-badge.svg\" alt=\"Open In Colab\"/></a>"
      ]
    },
    {
      "cell_type": "markdown",
      "source": [
        "# Oral History of My Kaggle Competitions  \n",
        "- SLICED  \n",
        "- Viz Buzz  \n",
        "- NWVS ([Super Store](https://www.kaggle.com/competitions/nwvs-predict-super-store-profit-s00); [Formula 1](https://www.kaggle.com/competitions/formula-1-lap-time-prediction-nwvs-s00e02))  \n",
        "- Notepad% + Blindfold submission  \n",
        "- [Predict strikes](https://www.kaggle.com/competitions/nwds-xstrikes)  \n",
        "- [Predict Home Runs](https://www.kaggle.com/competitions/nwds-xhr)  \n",
        "- [Predict swings](https://www.kaggle.com/competitions/nwds-xswing)  \n",
        "- [Predict hit outcomes](https://www.kaggle.com/competitions/nwds-batted-balls)  \n",
        "- [Predict strikeouts](https://www.kaggle.com/competitions/nwds-k/overview)\n",
        "\n",
        "Things I want to highlight:  \n",
        "\n",
        "- Quality public research  \n",
        "- Attracting new people into baseball research  \n",
        "\n",
        "John Mitchell and strike predictions  \n",
        "https://www.kaggle.com/code/jbomitchell/attack-zones-tanh-based-probabilities  \n",
        "Open sourced preprocessing of the strike zone, more accurate strike predictions with his modeling; baseball research is something he's never done before  \n",
        "\n",
        "Sean Kuhn and expected swing  \n",
        "https://www.kaggle.com/code/seanfector/2023-05-19-xswing-notebook  \n",
        "Showed an interaction of probability of called strike and probability of a swing which was reported by Eno (find the article link)    \n",
        "\n",
        "Paul Johnson and home run predictions  \n",
        "https://www.kaggle.com/competitions/nwds-xhr/discussion/401774  \n",
        "While not new, exposure to features like park factors help revisit new ways to calculate park factors beyond the traditionally accepted methods  \n",
        "\n",
        "Sean Kuhn and hit outcomes (SLAP)  \n",
        "https://www.kaggle.com/code/seanfector/introducing-slap  \n",
        "Using swing length and bat speed, created a new metric to describe hitter approaches for different pitches  \n",
        "\n",
        "Kevin Baer and strikeout predictions with arm angle features  \n",
        "https://kevbaer.quarto.pub/wan-k-comp/  \n",
        "Adding arm angle and some feature engineering around arm angle produced relatively vanilla submissions, but some got creative with their submissions beyond the expectations of the competition   \n",
        "\n",
        "Takeaways  \n",
        "- We need to promote more public research  \n",
        "- We need to provide arenas for public research if we want more of it  \n",
        "- Kaggle competitions are easy ways to promote arenas of competition around specific calls for research  \n",
        "- SMT, Diamond Dollars Case Competition provide forums; Driveline's OpenBiomechData, Savant's newest data releases provide opportunity but not specifically a forum  \n",
        "- We should work together as a community to promote these arenas if we want to see public research grow in volume and quality  \n"
      ],
      "metadata": {
        "id": "V_8Mc0uradK6"
      }
    }
  ]
}