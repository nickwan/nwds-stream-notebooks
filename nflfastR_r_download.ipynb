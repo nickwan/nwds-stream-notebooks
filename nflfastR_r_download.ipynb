{
  "nbformat": 4,
  "nbformat_minor": 0,
  "metadata": {
    "colab": {
      "provenance": [],
      "mount_file_id": "1g018j4YYhRa4vX2PTVFqz1YoV0hLNN9e",
      "authorship_tag": "ABX9TyMkIbevz5K1pSnGPQot+/M6",
      "include_colab_link": true
    },
    "kernelspec": {
      "name": "python3",
      "display_name": "Python 3"
    },
    "language_info": {
      "name": "python"
    }
  },
  "cells": [
    {
      "cell_type": "markdown",
      "metadata": {
        "id": "view-in-github",
        "colab_type": "text"
      },
      "source": [
        "<a href=\"https://colab.research.google.com/github/nickwan/nwds-stream-notebooks/blob/main/nflfastR_r_download.ipynb\" target=\"_parent\"><img src=\"https://colab.research.google.com/assets/colab-badge.svg\" alt=\"Open In Colab\"/></a>"
      ]
    },
    {
      "cell_type": "code",
      "execution_count": null,
      "metadata": {
        "id": "5A3saaoKSksn"
      },
      "outputs": [],
      "source": [
        "%load_ext rpy2.ipython"
      ]
    },
    {
      "cell_type": "code",
      "source": [
        "%%R\n",
        "install.packages(c(\"piggbyback\",\"nflreadr\"))\n",
        "nflreadr::nflverse_download(pbp_participation,\n",
        "                            folder_path=\"drive/My Drive/nflfastR-data\",\n",
        "                            file_type=\"csv\")"
      ],
      "metadata": {
        "colab": {
          "base_uri": "https://localhost:8080/",
          "height": 902
        },
        "id": "iQspsl_ISqfW",
        "outputId": "04739d36-7a1c-4a4f-c884-10fb7f2fd7ce"
      },
      "execution_count": null,
      "outputs": [
        {
          "output_type": "stream",
          "name": "stdout",
          "text": [
            "ℹ The package \"piggyback\" (>= 0.1.2) is required.\n",
            "✖ Would you like to install it?\n",
            "\n",
            "1: Yes\n",
            "2: No\n",
            "\n",
            "Selection: 1\n",
            "ℹ Now downloading 8 files to 'drive/My Drive/nflfastR-data'.\n",
            "ℹ Downloading \"pbp_participation_2016.csv\"...\n",
            "  |======================================================================| 100%\n",
            "ℹ Downloading \"pbp_participation_2017.csv\"...\n",
            "  |======================================================================| 100%\n",
            "ℹ Downloading \"pbp_participation_2018.csv\"...\n",
            "  |======================================================================| 100%\n",
            "ℹ Downloading \"pbp_participation_2019.csv\"...\n",
            "  |======================================================================| 100%\n",
            "ℹ Downloading \"pbp_participation_2020.csv\"...\n",
            "  |======================================================================| 100%\n",
            "ℹ Downloading \"pbp_participation_2021.csv\"...\n",
            "  |======================================================================| 100%\n",
            "ℹ Downloading \"pbp_participation_2022.csv\"...\n",
            "  |======================================================================| 100%\n",
            "ℹ Downloading \"pbp_participation_2023.csv\"...\n",
            "  |======================================================================| 100%\n",
            "✔ Downloaded 8 files to 'drive/My Drive/nflfastR-data'.\n"
          ]
        },
        {
          "output_type": "display_data",
          "data": {
            "text/plain": [
              "Installing packages into ‘/usr/local/lib/R/site-library’\n",
              "(as ‘lib’ is unspecified)\n",
              "trying URL 'https://cran.rstudio.com/src/contrib/nflreadr_1.4.1.tar.gz'\n",
              "Content type 'application/x-gzip' length 972204 bytes (949 KB)\n",
              "==================================================\n",
              "downloaded 949 KB\n",
              "\n",
              "\n",
              "The downloaded source packages are in\n",
              "\t‘/tmp/RtmpjsRACf/downloaded_packages’\n",
              "Installing package into ‘/usr/local/lib/R/site-library’\n",
              "(as ‘lib’ is unspecified)\n",
              "trying URL 'https://cran.rstudio.com/src/contrib/piggyback_0.1.5.tar.gz'\n",
              "Content type 'application/x-gzip' length 531504 bytes (519 KB)\n",
              "==================================================\n",
              "downloaded 519 KB\n",
              "\n",
              "\n",
              "The downloaded source packages are in\n",
              "\t‘/tmp/RtmpjsRACf/downloaded_packages’\n",
              "In addition: Warning message:\n",
              "package ‘piggbyback’ is not available for this version of R\n",
              "\n",
              "A version of this package for your version of R might be available elsewhere,\n",
              "see the ideas at\n",
              "https://cran.r-project.org/doc/manuals/r-patched/R-admin.html#Installing-packages \n"
            ]
          },
          "metadata": {}
        }
      ]
    },
    {
      "cell_type": "code",
      "source": [
        "!pip install nfl-data-py"
      ],
      "metadata": {
        "colab": {
          "base_uri": "https://localhost:8080/",
          "height": 966
        },
        "id": "TxL9MkM-RcXw",
        "outputId": "96b21bb1-c7d4-4b07-bd68-6a4e469c43b8"
      },
      "execution_count": null,
      "outputs": [
        {
          "output_type": "stream",
          "name": "stdout",
          "text": [
            "Collecting nfl-data-py\n",
            "  Downloading nfl_data_py-0.3.3-py3-none-any.whl.metadata (12 kB)\n",
            "Collecting numpy<2.0,>=1.0 (from nfl-data-py)\n",
            "  Downloading numpy-1.26.4-cp311-cp311-manylinux_2_17_x86_64.manylinux2014_x86_64.whl.metadata (61 kB)\n",
            "\u001b[2K     \u001b[90m━━━━━━━━━━━━━━━━━━━━━━━━━━━━━━━━━━━━━━━━\u001b[0m \u001b[32m61.0/61.0 kB\u001b[0m \u001b[31m3.4 MB/s\u001b[0m eta \u001b[36m0:00:00\u001b[0m\n",
            "\u001b[?25hCollecting pandas<2.0,>=1.0 (from nfl-data-py)\n",
            "  Downloading pandas-1.5.3-cp311-cp311-manylinux_2_17_x86_64.manylinux2014_x86_64.whl.metadata (11 kB)\n",
            "Collecting appdirs>1 (from nfl-data-py)\n",
            "  Downloading appdirs-1.4.4-py2.py3-none-any.whl.metadata (9.0 kB)\n",
            "Collecting fastparquet>0.5 (from nfl-data-py)\n",
            "  Downloading fastparquet-2024.11.0-cp311-cp311-manylinux_2_17_x86_64.manylinux2014_x86_64.whl.metadata (4.2 kB)\n",
            "Requirement already satisfied: cramjam>=2.3 in /usr/local/lib/python3.11/dist-packages (from fastparquet>0.5->nfl-data-py) (2.10.0)\n",
            "Requirement already satisfied: fsspec in /usr/local/lib/python3.11/dist-packages (from fastparquet>0.5->nfl-data-py) (2025.3.0)\n",
            "Requirement already satisfied: packaging in /usr/local/lib/python3.11/dist-packages (from fastparquet>0.5->nfl-data-py) (25.0)\n",
            "Requirement already satisfied: python-dateutil>=2.8.1 in /usr/local/lib/python3.11/dist-packages (from pandas<2.0,>=1.0->nfl-data-py) (2.9.0.post0)\n",
            "Requirement already satisfied: pytz>=2020.1 in /usr/local/lib/python3.11/dist-packages (from pandas<2.0,>=1.0->nfl-data-py) (2025.2)\n",
            "Requirement already satisfied: six>=1.5 in /usr/local/lib/python3.11/dist-packages (from python-dateutil>=2.8.1->pandas<2.0,>=1.0->nfl-data-py) (1.17.0)\n",
            "Downloading nfl_data_py-0.3.3-py3-none-any.whl (13 kB)\n",
            "Downloading appdirs-1.4.4-py2.py3-none-any.whl (9.6 kB)\n",
            "Downloading fastparquet-2024.11.0-cp311-cp311-manylinux_2_17_x86_64.manylinux2014_x86_64.whl (1.8 MB)\n",
            "\u001b[2K   \u001b[90m━━━━━━━━━━━━━━━━━━━━━━━━━━━━━━━━━━━━━━━━\u001b[0m \u001b[32m1.8/1.8 MB\u001b[0m \u001b[31m39.3 MB/s\u001b[0m eta \u001b[36m0:00:00\u001b[0m\n",
            "\u001b[?25hDownloading numpy-1.26.4-cp311-cp311-manylinux_2_17_x86_64.manylinux2014_x86_64.whl (18.3 MB)\n",
            "\u001b[2K   \u001b[90m━━━━━━━━━━━━━━━━━━━━━━━━━━━━━━━━━━━━━━━━\u001b[0m \u001b[32m18.3/18.3 MB\u001b[0m \u001b[31m118.4 MB/s\u001b[0m eta \u001b[36m0:00:00\u001b[0m\n",
            "\u001b[?25hDownloading pandas-1.5.3-cp311-cp311-manylinux_2_17_x86_64.manylinux2014_x86_64.whl (12.0 MB)\n",
            "\u001b[2K   \u001b[90m━━━━━━━━━━━━━━━━━━━━━━━━━━━━━━━━━━━━━━━━\u001b[0m \u001b[32m12.0/12.0 MB\u001b[0m \u001b[31m143.7 MB/s\u001b[0m eta \u001b[36m0:00:00\u001b[0m\n",
            "\u001b[?25hInstalling collected packages: appdirs, numpy, pandas, fastparquet, nfl-data-py\n",
            "  Attempting uninstall: numpy\n",
            "    Found existing installation: numpy 2.0.2\n",
            "    Uninstalling numpy-2.0.2:\n",
            "      Successfully uninstalled numpy-2.0.2\n",
            "  Attempting uninstall: pandas\n",
            "    Found existing installation: pandas 2.2.2\n",
            "    Uninstalling pandas-2.2.2:\n",
            "      Successfully uninstalled pandas-2.2.2\n",
            "\u001b[31mERROR: pip's dependency resolver does not currently take into account all the packages that are installed. This behaviour is the source of the following dependency conflicts.\n",
            "google-colab 1.0.0 requires pandas==2.2.2, but you have pandas 1.5.3 which is incompatible.\n",
            "arviz 0.22.0 requires pandas>=2.1.0, but you have pandas 1.5.3 which is incompatible.\n",
            "opencv-python 4.12.0.88 requires numpy<2.3.0,>=2; python_version >= \"3.9\", but you have numpy 1.26.4 which is incompatible.\n",
            "geopandas 1.1.1 requires pandas>=2.0.0, but you have pandas 1.5.3 which is incompatible.\n",
            "opencv-python-headless 4.12.0.88 requires numpy<2.3.0,>=2; python_version >= \"3.9\", but you have numpy 1.26.4 which is incompatible.\n",
            "opencv-contrib-python 4.12.0.88 requires numpy<2.3.0,>=2; python_version >= \"3.9\", but you have numpy 1.26.4 which is incompatible.\n",
            "dask-cudf-cu12 25.6.0 requires pandas<2.2.4dev0,>=2.0, but you have pandas 1.5.3 which is incompatible.\n",
            "plotnine 0.14.5 requires pandas>=2.2.0, but you have pandas 1.5.3 which is incompatible.\n",
            "thinc 8.3.6 requires numpy<3.0.0,>=2.0.0, but you have numpy 1.26.4 which is incompatible.\n",
            "xarray 2025.7.1 requires pandas>=2.2, but you have pandas 1.5.3 which is incompatible.\n",
            "cudf-cu12 25.6.0 requires pandas<2.2.4dev0,>=2.0, but you have pandas 1.5.3 which is incompatible.\n",
            "mizani 0.13.5 requires pandas>=2.2.0, but you have pandas 1.5.3 which is incompatible.\u001b[0m\u001b[31m\n",
            "\u001b[0mSuccessfully installed appdirs-1.4.4 fastparquet-2024.11.0 nfl-data-py-0.3.3 numpy-1.26.4 pandas-1.5.3\n"
          ]
        },
        {
          "output_type": "display_data",
          "data": {
            "application/vnd.colab-display-data+json": {
              "pip_warning": {
                "packages": [
                  "numpy",
                  "pandas"
                ]
              },
              "id": "1084756a6aeb4e81802ee222c3358727"
            }
          },
          "metadata": {}
        }
      ]
    },
    {
      "cell_type": "code",
      "source": [
        "import os\n",
        "import pandas as pd\n",
        "# import nfl_data_py as nfl"
      ],
      "metadata": {
        "id": "AZ8NNxNDQY4m"
      },
      "execution_count": null,
      "outputs": []
    },
    {
      "cell_type": "code",
      "source": [
        "years = range(2025,2026)\n",
        "for year in years:\n",
        "  # df = nfl.import_ftn_data([year])\n",
        "  # if not os.path.exists(f'drive/My Drive/nflfastR-data/ftn_charting/season={year}'):\n",
        "  #   os.mkdir(f'drive/My Drive/nflfastR-data/ftn_charting/season={year}')\n",
        "  # df.to_csv(f\"drive/My Drive/nflfastR-data/ftn_charting/season={year}/ftn_charting_{year}.csv\", index=False)\n",
        "\n",
        "  # download_url = f'https://github.com/nflverse/nflverse-data/releases/download/pbp_participation/pbp_participation_{year}.csv'\n",
        "  # data = pd.read_csv(download_url, low_memory= False)\n",
        "  # if not os.path.exists(f'drive/My Drive/nflfastR-data/pbp_participation/season={year}'):\n",
        "  #   os.mkdir(f'drive/My Drive/nflfastR-data/pbp_participation/season={year}')\n",
        "  # data.to_csv(f'drive/My Drive/nflfastR-data/pbp_participation/season={year}/pbp_participation_{year}.csv', index=False)\n",
        "\n",
        "  download_url = f'https://github.com/nflverse/nflverse-data/releases/download/pbp/play_by_play_{year}.csv'\n",
        "  data = pd.read_csv(download_url, low_memory= False)\n",
        "  if not os.path.exists(f'drive/My Drive/nflfastR-data/pbp/season={year}'):\n",
        "    os.mkdir(f'drive/My Drive/nflfastR-data/pbp/season={year}')\n",
        "  data.to_csv(f'drive/My Drive/nflfastR-data/pbp/season={year}/play_by_play_{year}.csv', index=False)"
      ],
      "metadata": {
        "id": "ITyDLO12R-o4"
      },
      "execution_count": null,
      "outputs": []
    }
  ]
}