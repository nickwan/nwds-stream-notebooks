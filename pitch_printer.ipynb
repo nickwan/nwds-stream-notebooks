{
  "nbformat": 4,
  "nbformat_minor": 0,
  "metadata": {
    "colab": {
      "provenance": [],
      "mount_file_id": "13P70W0oA8sBP-Mv_jsH82Zx2JAQ7Ati5",
      "authorship_tag": "ABX9TyONlADxQr0yY2vrN+n9qtOP",
      "include_colab_link": true
    },
    "kernelspec": {
      "name": "python3",
      "display_name": "Python 3"
    },
    "language_info": {
      "name": "python"
    }
  },
  "cells": [
    {
      "cell_type": "markdown",
      "metadata": {
        "id": "view-in-github",
        "colab_type": "text"
      },
      "source": [
        "<a href=\"https://colab.research.google.com/github/nickwan/nwds-stream-notebooks/blob/main/pitch_printer.ipynb\" target=\"_parent\"><img src=\"https://colab.research.google.com/assets/colab-badge.svg\" alt=\"Open In Colab\"/></a>"
      ]
    },
    {
      "cell_type": "code",
      "execution_count": null,
      "metadata": {
        "id": "ZkFWs2TUMnKp"
      },
      "outputs": [],
      "source": [
        "import os\n",
        "import matplotlib.pyplot as plt\n",
        "import seaborn as sns\n",
        "import pandas as pd\n",
        "import numpy as np\n",
        "from IPython.display import HTML, display, clear_output\n",
        "import warnings\n",
        "import time"
      ]
    },
    {
      "cell_type": "code",
      "source": [
        "year = 2023\n",
        "project_dir = 'drive/My Drive/baseball/data'\n",
        "df = pd.read_csv(f\"{project_dir}/{year}-data.csv\")\n",
        "df.loc[df['p_throws']=='L', 'pfx_x'] = df.loc[df['p_throws']=='L', 'pfx_x'].mul(-1)\n",
        "df.loc[:, ['pfx_x', 'pfx_z']] = df.loc[:, ['pfx_x', 'pfx_z']].mul(12)\n",
        "\n",
        "rs = df['pitch_name'].dropna().drop_duplicates().shape[0]\n",
        "pts = [\n",
        "    'Forkball', 'Slider', 'Sweeper', 'Sinker', 'Screwball',\n",
        "    '4-Seam Fastball', 'Knuckleball', 'Split-Finger', 'Changeup',\n",
        "    'Other', 'Cutter','Pitch Out', 'Slow Curve', 'Eephus',\n",
        "    'Slurve','Curveball', 'Knuckle Curve'\n",
        "]\n",
        "cmap = sns.palettes.color_palette('Spectral', n_colors=rs)\n",
        "cmap = {pt:c for pt,c in zip(pts, cmap)}\n",
        "hp_x = [0,-.9,-.7,.7,.9,0]\n",
        "hp_y = [-.1,.1,.4,.4,.1,-.1]"
      ],
      "metadata": {
        "id": "gpm6vPg7Of56"
      },
      "execution_count": null,
      "outputs": []
    },
    {
      "cell_type": "code",
      "source": [
        "warnings.filterwarnings('ignore')\n",
        "\n",
        "ids = df.loc[:, ['game_pk', 'inning', 'inning_topbot','at_bat_number']].sample(1000)\n",
        "for _,id in ids.iterrows():\n",
        "  try:\n",
        "    gid = id['game_pk']\n",
        "    iid = id['inning']\n",
        "    hid = id['inning_topbot']\n",
        "    aid = id['at_bat_number']\n",
        "    df_plt = df.loc[(df['game_pk']==gid) & (df['inning']==iid) & (df['inning_topbot']==hid) & (df['at_bat_number']==aid)]\n",
        "\n",
        "    sz_top, sz_bot = df_plt['sz_top'].mean(),df_plt['sz_bot'].mean()\n",
        "    hue_order = df_plt['pitch_name'].unique()\n",
        "    _pal = [cmap[pt] for pt in hue_order]\n",
        "    title_str = f\"\"\"\n",
        "    Pitcher: {df_plt['pitcher_name'].unique()[0]}\n",
        "    Batter: {df_plt['batter_name'].unique()[0]}\n",
        "    {df_plt['des'].unique()[0]}\n",
        "    \"\"\"\n",
        "  except:\n",
        "    continue\n",
        "\n",
        "  for p in range(df_plt['pitch_number'].max()):\n",
        "    time.sleep(2)\n",
        "    _df_plt = df_plt.loc[df_plt['pitch_number']<=p+1].copy()\n",
        "    fig = plt.figure(figsize=(7,7))\n",
        "    fig = sns.scatterplot(data=_df_plt, x='plate_x', y='plate_z',\n",
        "                          hue='pitch_name', hue_order=hue_order,\n",
        "                          s=200, palette=_pal,\n",
        "                          edgecolor='k')\n",
        "\n",
        "    for idx,row in _df_plt.iterrows():\n",
        "      color='k'\n",
        "      if row['pitch_type'] in ['KC']:\n",
        "        color='w'\n",
        "\n",
        "      plt.text(row['plate_x'], row['plate_z'],row['pitch_number'],\n",
        "              color=color, zorder=3, fontsize=12, ha='center', va='center')\n",
        "\n",
        "    fig.set_xlim(-2,2)\n",
        "    fig.set_ylim(-0.5,5)\n",
        "    fig.plot([(-17/12)/2,(-17/12)/2,(17/12)/2,(17/12)/2,(-17/12)/2],\n",
        "            [sz_bot,sz_top,sz_top,sz_bot,sz_bot], c='k', ls='-',\n",
        "            zorder=4, alpha=.6)\n",
        "    fig.plot(hp_x, hp_y, c='k', alpha=.4)\n",
        "    fig.set_aspect('equal')\n",
        "    fig.xaxis.set_visible(False)\n",
        "    fig.yaxis.set_visible(False)\n",
        "    plt.legend(bbox_to_anchor=(.8,.1), loc=2)\n",
        "    sns.despine(left=True, bottom=True)\n",
        "    plt.show()\n",
        "\n",
        "    fig = plt.figure(figsize=(5,5))\n",
        "    fig = sns.scatterplot(data=_df_plt, x='pfx_x', y='pfx_z',\n",
        "                          hue='pitch_name', hue_order=hue_order,\n",
        "                          s=150, palette=_pal, edgecolor='k',\n",
        "                          legend=False)\n",
        "\n",
        "    for idx,row in _df_plt.iterrows():\n",
        "      color='k'\n",
        "      if row['pitch_type'] in ['KC']:\n",
        "        color='w'\n",
        "\n",
        "      plt.text(row['pfx_x'], row['pfx_z'],row['pitch_number'],\n",
        "              color=color, zorder=3, fontsize=12, ha='center', va='center')\n",
        "\n",
        "    fig.set_xlim(-20,20)\n",
        "    fig.set_ylim(-20,20)\n",
        "    fig.set_aspect('equal')\n",
        "    plt.axhline(0, ls=':', c='k')\n",
        "    plt.axvline(0, ls=':', c='k')\n",
        "    plt.xlabel('')\n",
        "    plt.ylabel('')\n",
        "    plt.title(title_str)\n",
        "    sns.despine(left=True, bottom=True)\n",
        "    plt.show()\n",
        "    clear_output(wait=True)\n"
      ],
      "metadata": {
        "id": "1NWxRMKCOtIl",
        "colab": {
          "base_uri": "https://localhost:8080/",
          "height": 211
        },
        "outputId": "6f8196b8-3dd6-46c7-a1a9-5d5ef5dc3f43"
      },
      "execution_count": null,
      "outputs": [
        {
          "output_type": "error",
          "ename": "KeyboardInterrupt",
          "evalue": "",
          "traceback": [
            "\u001b[0;31m---------------------------------------------------------------------------\u001b[0m",
            "\u001b[0;31mKeyboardInterrupt\u001b[0m                         Traceback (most recent call last)",
            "\u001b[0;32m/tmp/ipython-input-1850924572.py\u001b[0m in \u001b[0;36m<cell line: 0>\u001b[0;34m()\u001b[0m\n\u001b[1;32m     22\u001b[0m \u001b[0;34m\u001b[0m\u001b[0m\n\u001b[1;32m     23\u001b[0m   \u001b[0;32mfor\u001b[0m \u001b[0mp\u001b[0m \u001b[0;32min\u001b[0m \u001b[0mrange\u001b[0m\u001b[0;34m(\u001b[0m\u001b[0mdf_plt\u001b[0m\u001b[0;34m[\u001b[0m\u001b[0;34m'pitch_number'\u001b[0m\u001b[0;34m]\u001b[0m\u001b[0;34m.\u001b[0m\u001b[0mmax\u001b[0m\u001b[0;34m(\u001b[0m\u001b[0;34m)\u001b[0m\u001b[0;34m)\u001b[0m\u001b[0;34m:\u001b[0m\u001b[0;34m\u001b[0m\u001b[0;34m\u001b[0m\u001b[0m\n\u001b[0;32m---> 24\u001b[0;31m     \u001b[0mtime\u001b[0m\u001b[0;34m.\u001b[0m\u001b[0msleep\u001b[0m\u001b[0;34m(\u001b[0m\u001b[0;36m2\u001b[0m\u001b[0;34m)\u001b[0m\u001b[0;34m\u001b[0m\u001b[0;34m\u001b[0m\u001b[0m\n\u001b[0m\u001b[1;32m     25\u001b[0m     \u001b[0m_df_plt\u001b[0m \u001b[0;34m=\u001b[0m \u001b[0mdf_plt\u001b[0m\u001b[0;34m.\u001b[0m\u001b[0mloc\u001b[0m\u001b[0;34m[\u001b[0m\u001b[0mdf_plt\u001b[0m\u001b[0;34m[\u001b[0m\u001b[0;34m'pitch_number'\u001b[0m\u001b[0;34m]\u001b[0m\u001b[0;34m<=\u001b[0m\u001b[0mp\u001b[0m\u001b[0;34m+\u001b[0m\u001b[0;36m1\u001b[0m\u001b[0;34m]\u001b[0m\u001b[0;34m.\u001b[0m\u001b[0mcopy\u001b[0m\u001b[0;34m(\u001b[0m\u001b[0;34m)\u001b[0m\u001b[0;34m\u001b[0m\u001b[0;34m\u001b[0m\u001b[0m\n\u001b[1;32m     26\u001b[0m     \u001b[0mfig\u001b[0m \u001b[0;34m=\u001b[0m \u001b[0mplt\u001b[0m\u001b[0;34m.\u001b[0m\u001b[0mfigure\u001b[0m\u001b[0;34m(\u001b[0m\u001b[0mfigsize\u001b[0m\u001b[0;34m=\u001b[0m\u001b[0;34m(\u001b[0m\u001b[0;36m7\u001b[0m\u001b[0;34m,\u001b[0m\u001b[0;36m7\u001b[0m\u001b[0;34m)\u001b[0m\u001b[0;34m)\u001b[0m\u001b[0;34m\u001b[0m\u001b[0;34m\u001b[0m\u001b[0m\n",
            "\u001b[0;31mKeyboardInterrupt\u001b[0m: "
          ]
        }
      ]
    }
  ]
}